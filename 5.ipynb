{
  "nbformat": 4,
  "nbformat_minor": 0,
  "metadata": {
    "colab": {
      "provenance": [],
      "collapsed_sections": [
        "tSYAf6CRomHm",
        "pyJRRN05ulkp",
        "ZEziv8X_7p9Z"
      ],
      "authorship_tag": "ABX9TyNS5QLsxjRjevIgH5WiH1R3",
      "include_colab_link": true
    },
    "kernelspec": {
      "name": "python3",
      "display_name": "Python 3"
    },
    "language_info": {
      "name": "python"
    }
  },
  "cells": [
    {
      "cell_type": "markdown",
      "metadata": {
        "id": "view-in-github",
        "colab_type": "text"
      },
      "source": [
        "<a href=\"https://colab.research.google.com/github/Cinnamy/DocumentsClassification/blob/main/5.ipynb\" target=\"_parent\"><img src=\"https://colab.research.google.com/assets/colab-badge.svg\" alt=\"Open In Colab\"/></a>"
      ]
    },
    {
      "cell_type": "markdown",
      "source": [
        "#Подключаем модули"
      ],
      "metadata": {
        "id": "tSYAf6CRomHm"
      }
    },
    {
      "cell_type": "code",
      "execution_count": null,
      "metadata": {
        "colab": {
          "base_uri": "https://localhost:8080/"
        },
        "id": "tc2K3pxIodDe",
        "outputId": "5f396728-7d58-4260-ccd7-5299be30071f"
      },
      "outputs": [
        {
          "output_type": "stream",
          "name": "stderr",
          "text": [
            "[nltk_data] Downloading package stopwords to /root/nltk_data...\n",
            "[nltk_data]   Unzipping corpora/stopwords.zip.\n",
            "[nltk_data] Downloading package punkt to /root/nltk_data...\n",
            "[nltk_data]   Unzipping tokenizers/punkt.zip.\n",
            "[nltk_data] Downloading package wordnet to /root/nltk_data...\n",
            "[nltk_data] Downloading package averaged_perceptron_tagger to\n",
            "[nltk_data]     /root/nltk_data...\n",
            "[nltk_data]   Unzipping taggers/averaged_perceptron_tagger.zip.\n"
          ]
        }
      ],
      "source": [
        "import sklearn\n",
        "import numpy as np\n",
        "import nltk\n",
        "import re\n",
        "import pandas as pd\n",
        "from sklearn.datasets import fetch_20newsgroups\n",
        "from sklearn.feature_extraction.text import CountVectorizer\n",
        "from gensim import corpora, models\n",
        "from gensim.utils import simple_preprocess\n",
        "\n",
        "nltk.download('stopwords')\n",
        "nltk.download('punkt')\n",
        "nltk.download('wordnet')\n",
        "nltk.download('averaged_perceptron_tagger')\n",
        "\n",
        "from nltk.tokenize import word_tokenize\n",
        "from nltk.corpus import stopwords\n",
        "from nltk.stem import WordNetLemmatizer\n",
        "from sklearn.feature_extraction.text import TfidfVectorizer\n",
        "from sklearn.cluster import KMeans\n",
        "from sklearn.cluster import AgglomerativeClustering\n",
        "from sklearn import metrics\n",
        "from sklearn.datasets import fetch_20newsgroups"
      ]
    },
    {
      "cell_type": "markdown",
      "source": [
        "#Загружаем и предобрабатываем данные"
      ],
      "metadata": {
        "id": "pyJRRN05ulkp"
      }
    },
    {
      "cell_type": "code",
      "source": [
        "stopwords_en = stopwords.words('english')\n",
        "lemmatizer = WordNetLemmatizer()"
      ],
      "metadata": {
        "id": "0GBeHhnkupwh"
      },
      "execution_count": null,
      "outputs": []
    },
    {
      "cell_type": "code",
      "source": [
        "well_separated = fetch_20newsgroups(subset='train', remove=('headers', 'footers', 'quotes'), categories=['comp.graphics', 'rec.autos', 'sci.med', 'talk.politics.mideast'])\n",
        "well_separated_full = []\n",
        "well_separated_target = [[], [], []]\n",
        "well_separated_nouns = []\n",
        "well_separated_nouns_and_adjs = []\n",
        "for i in range(300):\n",
        "  text = well_separated.data[i]\n",
        "  text = re.sub(r'[^(\\w\\s\\-)]|[\\d]|[()]|-{2,}', '', text)\n",
        "  text = re.sub(r'\\s{2,}|[\\n]', ' ', text)\n",
        "  text = [lemmatizer.lemmatize(word.lower()) for word in word_tokenize(text) if word not in stopwords_en]\n",
        "  if text != []:\n",
        "    well_separated_full.append(text)\n",
        "    well_separated_target[0].append(well_separated.target[i])\n",
        "  nouns = [word[0] for word in nltk.pos_tag(text) if word[1] == \"NN\"]\n",
        "  if nouns != []:\n",
        "    well_separated_nouns.append(nouns)\n",
        "    well_separated_target[1].append(well_separated.target[i])\n",
        "  nouns_and_adjs = [word[0] for word in nltk.pos_tag(text) if word[1] == \"NN\" or word[1] == \"JJ\"]\n",
        "  if nouns_and_adjs != []:\n",
        "    well_separated_nouns_and_adjs.append(nouns_and_adjs)\n",
        "    well_separated_target[2].append(well_separated.target[i])"
      ],
      "metadata": {
        "id": "2neWKEWv4Vso"
      },
      "execution_count": null,
      "outputs": []
    },
    {
      "cell_type": "markdown",
      "source": [
        "#5 задание"
      ],
      "metadata": {
        "id": "XKrG1Qkr4ZTh"
      }
    },
    {
      "cell_type": "markdown",
      "source": [
        "##Bag of Words"
      ],
      "metadata": {
        "id": "ZEziv8X_7p9Z"
      }
    },
    {
      "cell_type": "code",
      "source": [
        "dictionary_full = corpora.Dictionary(well_separated_full)\n",
        "dictionary_nouns = corpora.Dictionary(well_separated_nouns)\n",
        "dictionary_nouns_and_adjs = corpora.Dictionary(well_separated_nouns_and_adjs)\n",
        "\n",
        "bow_full = [dictionary_full.doc2bow(doc) for doc in well_separated_full]\n",
        "bow_nouns = [dictionary_nouns.doc2bow(doc) for doc in well_separated_nouns]\n",
        "bow_nouns_and_adjs = [dictionary_nouns_and_adjs.doc2bow(doc) for doc in well_separated_nouns_and_adjs]"
      ],
      "metadata": {
        "id": "zEeFCYXk4ckz"
      },
      "execution_count": null,
      "outputs": []
    },
    {
      "cell_type": "markdown",
      "source": [
        "##LDA"
      ],
      "metadata": {
        "id": "vD25Zj0X7wh-"
      }
    },
    {
      "cell_type": "markdown",
      "source": [
        "###Делаем векторизацию"
      ],
      "metadata": {
        "id": "oZwxlXkP--3e"
      }
    },
    {
      "cell_type": "code",
      "source": [
        "lda_model_full = models.LdaModel(bow_full, num_topics=4, id2word=dictionary_full, passes=15)\n",
        "lda_model_nouns = models.LdaModel(bow_nouns, num_topics=4, id2word=dictionary_nouns, passes=15)\n",
        "lda_model_nouns_and_adjs = models.LdaModel(bow_nouns_and_adjs, num_topics=4, id2word=dictionary_nouns_and_adjs, passes=15)"
      ],
      "metadata": {
        "id": "6fmgV4Ts6-wk"
      },
      "execution_count": null,
      "outputs": []
    },
    {
      "cell_type": "code",
      "source": [
        "X_full_LDA = []\n",
        "for doc_bow in bow_full:\n",
        "  document_topics = lda_model_full.get_document_topics(doc_bow, minimum_probability=0.0)\n",
        "  document_topic_vector = [topic_prob for _, topic_prob in document_topics]\n",
        "  X_full_LDA.append(document_topic_vector)\n",
        "\n",
        "X_nouns_LDA = []\n",
        "for doc_bow in bow_nouns:\n",
        "  document_topics = lda_model_nouns.get_document_topics(doc_bow, minimum_probability=0.0)\n",
        "  document_topic_vector = [topic_prob for _, topic_prob in document_topics]\n",
        "  X_nouns_LDA.append(document_topic_vector)\n",
        "\n",
        "X_nouns_and_adjs_LDA = []\n",
        "for doc_bow in bow_nouns_and_adjs:\n",
        " document_topics = lda_model_nouns_and_adjs.get_document_topics(doc_bow, minimum_probability=0.0)\n",
        " document_topic_vector = [topic_prob for _, topic_prob in document_topics]\n",
        " X_nouns_and_adjs_LDA.append(document_topic_vector)"
      ],
      "metadata": {
        "id": "MnvVRdWY7RuL"
      },
      "execution_count": null,
      "outputs": []
    },
    {
      "cell_type": "markdown",
      "source": [
        "###Выводим метрики"
      ],
      "metadata": {
        "id": "XCHydxeD_SgC"
      }
    },
    {
      "cell_type": "code",
      "source": [
        "silhouette = []\n",
        "calinski_harabasz = []\n",
        "davies_bouldin = []\n",
        "v_measure = []\n",
        "datasets = [X_full_LDA, X_nouns_LDA, X_nouns_and_adjs_LDA]\n",
        "\n",
        "for j in range(3):\n",
        "  X = datasets[j]\n",
        "  sum_silhouette = 0\n",
        "  sum_calinski_harabasz = 0\n",
        "  sum_davies_bouldin = 0\n",
        "  sum_v_measure = 0\n",
        "  for i in range(50):\n",
        "    kmeans = KMeans(n_clusters=4, n_init=1).fit(X)\n",
        "    sum_silhouette += metrics.silhouette_score(X, kmeans.labels_, metric='euclidean')\n",
        "    sum_calinski_harabasz += metrics.calinski_harabasz_score(X, kmeans.labels_)\n",
        "    sum_davies_bouldin += metrics.davies_bouldin_score(X, kmeans.labels_)\n",
        "    sum_v_measure += metrics.v_measure_score(well_separated_target[j], kmeans.labels_)\n",
        "  v_measure.append(sum_v_measure / 50)\n",
        "  silhouette.append(sum_silhouette / 50)\n",
        "  calinski_harabasz.append(sum_calinski_harabasz / 50)\n",
        "  davies_bouldin.append(sum_davies_bouldin / 50)\n",
        "\n",
        "kmeans_metrics = pd.DataFrame({\n",
        "    \"V_measure\": v_measure,\n",
        "    \"Silhouette\": silhouette,\n",
        "    \"Calinski-Harabasz\": calinski_harabasz,\n",
        "    \"Davies-Bouldin\": davies_bouldin\n",
        "}, index=pd.Index([\"Full\", \"Nouns\", \"Nouns and adjs\"]))\n",
        "\n",
        "kmeans_metrics.style.set_table_styles([{'selector': 'td', 'props': [('font-size', '12pt'),('border-style','solid'),('border-width','1px')]},\n",
        "                                          {'selector': 'th', 'props': [('font-size', '12pt'),('border-style','solid'),('border-width','1px')]},\n",
        "                                          {'selector': 'caption', 'props': [('font-size', '24pt')]}]).set_caption(\"KMeans\")"
      ],
      "metadata": {
        "colab": {
          "base_uri": "https://localhost:8080/",
          "height": 203
        },
        "id": "vLr5soHY8jDr",
        "outputId": "74b38a76-4392-4f59-b2db-73a306598f09"
      },
      "execution_count": null,
      "outputs": [
        {
          "output_type": "execute_result",
          "data": {
            "text/plain": [
              "<pandas.io.formats.style.Styler at 0x7c350cea5990>"
            ],
            "text/html": [
              "<style type=\"text/css\">\n",
              "#T_23764 td {\n",
              "  font-size: 12pt;\n",
              "  border-style: solid;\n",
              "  border-width: 1px;\n",
              "}\n",
              "#T_23764 th {\n",
              "  font-size: 12pt;\n",
              "  border-style: solid;\n",
              "  border-width: 1px;\n",
              "}\n",
              "#T_23764 caption {\n",
              "  font-size: 24pt;\n",
              "}\n",
              "</style>\n",
              "<table id=\"T_23764\" class=\"dataframe\">\n",
              "  <caption>KMeans</caption>\n",
              "  <thead>\n",
              "    <tr>\n",
              "      <th class=\"blank level0\" >&nbsp;</th>\n",
              "      <th id=\"T_23764_level0_col0\" class=\"col_heading level0 col0\" >V_measure</th>\n",
              "      <th id=\"T_23764_level0_col1\" class=\"col_heading level0 col1\" >Silhouette</th>\n",
              "      <th id=\"T_23764_level0_col2\" class=\"col_heading level0 col2\" >Calinski-Harabasz</th>\n",
              "      <th id=\"T_23764_level0_col3\" class=\"col_heading level0 col3\" >Davies-Bouldin</th>\n",
              "    </tr>\n",
              "  </thead>\n",
              "  <tbody>\n",
              "    <tr>\n",
              "      <th id=\"T_23764_level0_row0\" class=\"row_heading level0 row0\" >Full</th>\n",
              "      <td id=\"T_23764_row0_col0\" class=\"data row0 col0\" >0.009418</td>\n",
              "      <td id=\"T_23764_row0_col1\" class=\"data row0 col1\" >0.750980</td>\n",
              "      <td id=\"T_23764_row0_col2\" class=\"data row0 col2\" >745.676923</td>\n",
              "      <td id=\"T_23764_row0_col3\" class=\"data row0 col3\" >0.443138</td>\n",
              "    </tr>\n",
              "    <tr>\n",
              "      <th id=\"T_23764_level0_row1\" class=\"row_heading level0 row1\" >Nouns</th>\n",
              "      <td id=\"T_23764_row1_col0\" class=\"data row1 col0\" >0.054086</td>\n",
              "      <td id=\"T_23764_row1_col1\" class=\"data row1 col1\" >0.838996</td>\n",
              "      <td id=\"T_23764_row1_col2\" class=\"data row1 col2\" >1614.425892</td>\n",
              "      <td id=\"T_23764_row1_col3\" class=\"data row1 col3\" >0.238090</td>\n",
              "    </tr>\n",
              "    <tr>\n",
              "      <th id=\"T_23764_level0_row2\" class=\"row_heading level0 row2\" >Nouns and adjs</th>\n",
              "      <td id=\"T_23764_row2_col0\" class=\"data row2 col0\" >0.096974</td>\n",
              "      <td id=\"T_23764_row2_col1\" class=\"data row2 col1\" >0.810963</td>\n",
              "      <td id=\"T_23764_row2_col2\" class=\"data row2 col2\" >1370.151647</td>\n",
              "      <td id=\"T_23764_row2_col3\" class=\"data row2 col3\" >0.276075</td>\n",
              "    </tr>\n",
              "  </tbody>\n",
              "</table>\n"
            ]
          },
          "metadata": {},
          "execution_count": 43
        }
      ]
    },
    {
      "cell_type": "code",
      "source": [
        "aggl_euc_metrics = [[], [], []]\n",
        "\n",
        "for i in range(3):\n",
        "  X = datasets[i]\n",
        "  for link in [\"ward\", \"complete\", \"average\", \"single\"]:\n",
        "    sum_silhouette = 0\n",
        "    sum_calinski_harabasz = 0\n",
        "    sum_davies_bouldin = 0\n",
        "    sum_v_measure = 0\n",
        "    for j in range(50):\n",
        "      aggl = AgglomerativeClustering(n_clusters=4, linkage=link).fit(X)\n",
        "      sum_silhouette += metrics.silhouette_score(X, aggl.labels_, metric='euclidean')\n",
        "      sum_calinski_harabasz += metrics.calinski_harabasz_score(X, aggl.labels_)\n",
        "      sum_davies_bouldin += metrics.davies_bouldin_score(X, aggl.labels_)\n",
        "      sum_v_measure += metrics.v_measure_score(well_separated_target[i], aggl.labels_)\n",
        "    aggl_euc_metrics[i].append(sum_v_measure / 50)\n",
        "    aggl_euc_metrics[i].append(sum_silhouette / 50)\n",
        "    aggl_euc_metrics[i].append(sum_calinski_harabasz / 50)\n",
        "    aggl_euc_metrics[i].append(sum_davies_bouldin / 50)\n",
        "\n",
        "aggl_euc_metrics_table = pd.DataFrame(aggl_euc_metrics,\n",
        "                                index=pd.Index([\"Full\", \"Nouns\", \"Nouns and adjs\"]),\n",
        "                                columns=pd.MultiIndex.from_product([[\"ward\", \"complete\", \"average\", \"single\"],['V', 'Sil', 'Cal-Har', 'Dav-Boul']], names=['Metric', 'Linkage']))\n",
        "\n",
        "aggl_euc_metrics_table.style.set_table_styles([{'selector': 'td', 'props': [('font-size', '12pt'),('border-style','solid'),('border-width','1px')]},\n",
        "                                          {'selector': 'th', 'props': [('font-size', '12pt'),('border-style','solid'),('border-width','1px')]},\n",
        "                                          {'selector': 'caption', 'props': [('font-size', '24pt')]}]).set_caption(\"Agglomerative clustering, Euclidean\")"
      ],
      "metadata": {
        "colab": {
          "base_uri": "https://localhost:8080/",
          "height": 319
        },
        "id": "rNX44QQM_qcA",
        "outputId": "f8bd08cf-751f-44fc-a713-39e97d7bb065"
      },
      "execution_count": null,
      "outputs": [
        {
          "output_type": "execute_result",
          "data": {
            "text/plain": [
              "<pandas.io.formats.style.Styler at 0x7c350c93e170>"
            ],
            "text/html": [
              "<style type=\"text/css\">\n",
              "#T_36a7b td {\n",
              "  font-size: 12pt;\n",
              "  border-style: solid;\n",
              "  border-width: 1px;\n",
              "}\n",
              "#T_36a7b th {\n",
              "  font-size: 12pt;\n",
              "  border-style: solid;\n",
              "  border-width: 1px;\n",
              "}\n",
              "#T_36a7b caption {\n",
              "  font-size: 24pt;\n",
              "}\n",
              "</style>\n",
              "<table id=\"T_36a7b\" class=\"dataframe\">\n",
              "  <caption>Agglomerative clustering, Euclidean</caption>\n",
              "  <thead>\n",
              "    <tr>\n",
              "      <th class=\"index_name level0\" >Metric</th>\n",
              "      <th id=\"T_36a7b_level0_col0\" class=\"col_heading level0 col0\" colspan=\"4\">ward</th>\n",
              "      <th id=\"T_36a7b_level0_col4\" class=\"col_heading level0 col4\" colspan=\"4\">complete</th>\n",
              "      <th id=\"T_36a7b_level0_col8\" class=\"col_heading level0 col8\" colspan=\"4\">average</th>\n",
              "      <th id=\"T_36a7b_level0_col12\" class=\"col_heading level0 col12\" colspan=\"4\">single</th>\n",
              "    </tr>\n",
              "    <tr>\n",
              "      <th class=\"index_name level1\" >Linkage</th>\n",
              "      <th id=\"T_36a7b_level1_col0\" class=\"col_heading level1 col0\" >V</th>\n",
              "      <th id=\"T_36a7b_level1_col1\" class=\"col_heading level1 col1\" >Sil</th>\n",
              "      <th id=\"T_36a7b_level1_col2\" class=\"col_heading level1 col2\" >Cal-Har</th>\n",
              "      <th id=\"T_36a7b_level1_col3\" class=\"col_heading level1 col3\" >Dav-Boul</th>\n",
              "      <th id=\"T_36a7b_level1_col4\" class=\"col_heading level1 col4\" >V</th>\n",
              "      <th id=\"T_36a7b_level1_col5\" class=\"col_heading level1 col5\" >Sil</th>\n",
              "      <th id=\"T_36a7b_level1_col6\" class=\"col_heading level1 col6\" >Cal-Har</th>\n",
              "      <th id=\"T_36a7b_level1_col7\" class=\"col_heading level1 col7\" >Dav-Boul</th>\n",
              "      <th id=\"T_36a7b_level1_col8\" class=\"col_heading level1 col8\" >V</th>\n",
              "      <th id=\"T_36a7b_level1_col9\" class=\"col_heading level1 col9\" >Sil</th>\n",
              "      <th id=\"T_36a7b_level1_col10\" class=\"col_heading level1 col10\" >Cal-Har</th>\n",
              "      <th id=\"T_36a7b_level1_col11\" class=\"col_heading level1 col11\" >Dav-Boul</th>\n",
              "      <th id=\"T_36a7b_level1_col12\" class=\"col_heading level1 col12\" >V</th>\n",
              "      <th id=\"T_36a7b_level1_col13\" class=\"col_heading level1 col13\" >Sil</th>\n",
              "      <th id=\"T_36a7b_level1_col14\" class=\"col_heading level1 col14\" >Cal-Har</th>\n",
              "      <th id=\"T_36a7b_level1_col15\" class=\"col_heading level1 col15\" >Dav-Boul</th>\n",
              "    </tr>\n",
              "  </thead>\n",
              "  <tbody>\n",
              "    <tr>\n",
              "      <th id=\"T_36a7b_level0_row0\" class=\"row_heading level0 row0\" >Full</th>\n",
              "      <td id=\"T_36a7b_row0_col0\" class=\"data row0 col0\" >0.006850</td>\n",
              "      <td id=\"T_36a7b_row0_col1\" class=\"data row0 col1\" >0.671901</td>\n",
              "      <td id=\"T_36a7b_row0_col2\" class=\"data row0 col2\" >425.913979</td>\n",
              "      <td id=\"T_36a7b_row0_col3\" class=\"data row0 col3\" >0.676081</td>\n",
              "      <td id=\"T_36a7b_row0_col4\" class=\"data row0 col4\" >0.011834</td>\n",
              "      <td id=\"T_36a7b_row0_col5\" class=\"data row0 col5\" >0.688285</td>\n",
              "      <td id=\"T_36a7b_row0_col6\" class=\"data row0 col6\" >493.160219</td>\n",
              "      <td id=\"T_36a7b_row0_col7\" class=\"data row0 col7\" >0.419778</td>\n",
              "      <td id=\"T_36a7b_row0_col8\" class=\"data row0 col8\" >0.009984</td>\n",
              "      <td id=\"T_36a7b_row0_col9\" class=\"data row0 col9\" >0.730499</td>\n",
              "      <td id=\"T_36a7b_row0_col10\" class=\"data row0 col10\" >625.262729</td>\n",
              "      <td id=\"T_36a7b_row0_col11\" class=\"data row0 col11\" >0.528365</td>\n",
              "      <td id=\"T_36a7b_row0_col12\" class=\"data row0 col12\" >0.021479</td>\n",
              "      <td id=\"T_36a7b_row0_col13\" class=\"data row0 col13\" >0.267249</td>\n",
              "      <td id=\"T_36a7b_row0_col14\" class=\"data row0 col14\" >39.881644</td>\n",
              "      <td id=\"T_36a7b_row0_col15\" class=\"data row0 col15\" >0.718685</td>\n",
              "    </tr>\n",
              "    <tr>\n",
              "      <th id=\"T_36a7b_level0_row1\" class=\"row_heading level0 row1\" >Nouns</th>\n",
              "      <td id=\"T_36a7b_row1_col0\" class=\"data row1 col0\" >0.053035</td>\n",
              "      <td id=\"T_36a7b_row1_col1\" class=\"data row1 col1\" >0.834951</td>\n",
              "      <td id=\"T_36a7b_row1_col2\" class=\"data row1 col2\" >1542.953120</td>\n",
              "      <td id=\"T_36a7b_row1_col3\" class=\"data row1 col3\" >0.248116</td>\n",
              "      <td id=\"T_36a7b_row1_col4\" class=\"data row1 col4\" >0.053900</td>\n",
              "      <td id=\"T_36a7b_row1_col5\" class=\"data row1 col5\" >0.834629</td>\n",
              "      <td id=\"T_36a7b_row1_col6\" class=\"data row1 col6\" >1528.754959</td>\n",
              "      <td id=\"T_36a7b_row1_col7\" class=\"data row1 col7\" >0.250621</td>\n",
              "      <td id=\"T_36a7b_row1_col8\" class=\"data row1 col8\" >0.052574</td>\n",
              "      <td id=\"T_36a7b_row1_col9\" class=\"data row1 col9\" >0.830900</td>\n",
              "      <td id=\"T_36a7b_row1_col10\" class=\"data row1 col10\" >1458.819012</td>\n",
              "      <td id=\"T_36a7b_row1_col11\" class=\"data row1 col11\" >0.256405</td>\n",
              "      <td id=\"T_36a7b_row1_col12\" class=\"data row1 col12\" >0.040505</td>\n",
              "      <td id=\"T_36a7b_row1_col13\" class=\"data row1 col13\" >0.064400</td>\n",
              "      <td id=\"T_36a7b_row1_col14\" class=\"data row1 col14\" >54.283056</td>\n",
              "      <td id=\"T_36a7b_row1_col15\" class=\"data row1 col15\" >1.613930</td>\n",
              "    </tr>\n",
              "    <tr>\n",
              "      <th id=\"T_36a7b_level0_row2\" class=\"row_heading level0 row2\" >Nouns and adjs</th>\n",
              "      <td id=\"T_36a7b_row2_col0\" class=\"data row2 col0\" >0.095046</td>\n",
              "      <td id=\"T_36a7b_row2_col1\" class=\"data row2 col1\" >0.798903</td>\n",
              "      <td id=\"T_36a7b_row2_col2\" class=\"data row2 col2\" >1207.242773</td>\n",
              "      <td id=\"T_36a7b_row2_col3\" class=\"data row2 col3\" >0.320520</td>\n",
              "      <td id=\"T_36a7b_row2_col4\" class=\"data row2 col4\" >0.100364</td>\n",
              "      <td id=\"T_36a7b_row2_col5\" class=\"data row2 col5\" >0.795370</td>\n",
              "      <td id=\"T_36a7b_row2_col6\" class=\"data row2 col6\" >1176.996307</td>\n",
              "      <td id=\"T_36a7b_row2_col7\" class=\"data row2 col7\" >0.295934</td>\n",
              "      <td id=\"T_36a7b_row2_col8\" class=\"data row2 col8\" >0.105327</td>\n",
              "      <td id=\"T_36a7b_row2_col9\" class=\"data row2 col9\" >0.780560</td>\n",
              "      <td id=\"T_36a7b_row2_col10\" class=\"data row2 col10\" >1012.702849</td>\n",
              "      <td id=\"T_36a7b_row2_col11\" class=\"data row2 col11\" >0.356388</td>\n",
              "      <td id=\"T_36a7b_row2_col12\" class=\"data row2 col12\" >0.087438</td>\n",
              "      <td id=\"T_36a7b_row2_col13\" class=\"data row2 col13\" >-0.016364</td>\n",
              "      <td id=\"T_36a7b_row2_col14\" class=\"data row2 col14\" >44.122641</td>\n",
              "      <td id=\"T_36a7b_row2_col15\" class=\"data row2 col15\" >1.643303</td>\n",
              "    </tr>\n",
              "  </tbody>\n",
              "</table>\n"
            ]
          },
          "metadata": {},
          "execution_count": 44
        }
      ]
    },
    {
      "cell_type": "code",
      "source": [
        "aggl_cos_metrics = [[], [], []]\n",
        "\n",
        "for i in range(3):\n",
        "  X = datasets[i]\n",
        "  for link in [\"complete\", \"average\", \"single\"]:\n",
        "    sum_silhouette = 0\n",
        "    sum_calinski_harabasz = 0\n",
        "    sum_davies_bouldin = 0\n",
        "    sum_v_measure = 0\n",
        "    for j in range(50):\n",
        "      aggl = AgglomerativeClustering(n_clusters=4, linkage=link, metric='cosine').fit(X)\n",
        "      sum_silhouette += metrics.silhouette_score(X, aggl.labels_, metric='euclidean')\n",
        "      sum_calinski_harabasz += metrics.calinski_harabasz_score(X, aggl.labels_)\n",
        "      sum_davies_bouldin += metrics.davies_bouldin_score(X, aggl.labels_)\n",
        "      sum_v_measure += metrics.v_measure_score(well_separated_target[i], aggl.labels_)\n",
        "    aggl_cos_metrics[i].append(sum_v_measure / 50)\n",
        "    aggl_cos_metrics[i].append(sum_silhouette / 50)\n",
        "    aggl_cos_metrics[i].append(sum_calinski_harabasz / 50)\n",
        "    aggl_cos_metrics[i].append(sum_davies_bouldin / 50)\n",
        "\n",
        "aggl_cos_metrics_table = pd.DataFrame(aggl_cos_metrics,\n",
        "                                index=pd.Index([\"Full\", \"Nouns\", \"Nouns and adjs\"]),\n",
        "                                columns=pd.MultiIndex.from_product([[\"complete\", \"average\", \"single\"],['V', 'Sil', 'Cal-Har', 'Dav-Boul']], names=['Metric', 'Linkage']))\n",
        "\n",
        "aggl_cos_metrics_table.style.set_table_styles([{'selector': 'td', 'props': [('font-size', '12pt'),('border-style','solid'),('border-width','1px')]},\n",
        "                                          {'selector': 'th', 'props': [('font-size', '12pt'),('border-style','solid'),('border-width','1px')]},\n",
        "                                          {'selector': 'caption', 'props': [('font-size', '24pt')]}]).set_caption(\"Agglomerative clustering, cosine\")"
      ],
      "metadata": {
        "colab": {
          "base_uri": "https://localhost:8080/",
          "height": 299
        },
        "id": "qa1dQZ5d_0y9",
        "outputId": "c88fae24-e53e-4bed-cbe6-afd133fce92c"
      },
      "execution_count": null,
      "outputs": [
        {
          "output_type": "execute_result",
          "data": {
            "text/plain": [
              "<pandas.io.formats.style.Styler at 0x7c350c95be20>"
            ],
            "text/html": [
              "<style type=\"text/css\">\n",
              "#T_f6347 td {\n",
              "  font-size: 12pt;\n",
              "  border-style: solid;\n",
              "  border-width: 1px;\n",
              "}\n",
              "#T_f6347 th {\n",
              "  font-size: 12pt;\n",
              "  border-style: solid;\n",
              "  border-width: 1px;\n",
              "}\n",
              "#T_f6347 caption {\n",
              "  font-size: 24pt;\n",
              "}\n",
              "</style>\n",
              "<table id=\"T_f6347\" class=\"dataframe\">\n",
              "  <caption>Agglomerative clustering, cosine</caption>\n",
              "  <thead>\n",
              "    <tr>\n",
              "      <th class=\"index_name level0\" >Metric</th>\n",
              "      <th id=\"T_f6347_level0_col0\" class=\"col_heading level0 col0\" colspan=\"4\">complete</th>\n",
              "      <th id=\"T_f6347_level0_col4\" class=\"col_heading level0 col4\" colspan=\"4\">average</th>\n",
              "      <th id=\"T_f6347_level0_col8\" class=\"col_heading level0 col8\" colspan=\"4\">single</th>\n",
              "    </tr>\n",
              "    <tr>\n",
              "      <th class=\"index_name level1\" >Linkage</th>\n",
              "      <th id=\"T_f6347_level1_col0\" class=\"col_heading level1 col0\" >V</th>\n",
              "      <th id=\"T_f6347_level1_col1\" class=\"col_heading level1 col1\" >Sil</th>\n",
              "      <th id=\"T_f6347_level1_col2\" class=\"col_heading level1 col2\" >Cal-Har</th>\n",
              "      <th id=\"T_f6347_level1_col3\" class=\"col_heading level1 col3\" >Dav-Boul</th>\n",
              "      <th id=\"T_f6347_level1_col4\" class=\"col_heading level1 col4\" >V</th>\n",
              "      <th id=\"T_f6347_level1_col5\" class=\"col_heading level1 col5\" >Sil</th>\n",
              "      <th id=\"T_f6347_level1_col6\" class=\"col_heading level1 col6\" >Cal-Har</th>\n",
              "      <th id=\"T_f6347_level1_col7\" class=\"col_heading level1 col7\" >Dav-Boul</th>\n",
              "      <th id=\"T_f6347_level1_col8\" class=\"col_heading level1 col8\" >V</th>\n",
              "      <th id=\"T_f6347_level1_col9\" class=\"col_heading level1 col9\" >Sil</th>\n",
              "      <th id=\"T_f6347_level1_col10\" class=\"col_heading level1 col10\" >Cal-Har</th>\n",
              "      <th id=\"T_f6347_level1_col11\" class=\"col_heading level1 col11\" >Dav-Boul</th>\n",
              "    </tr>\n",
              "  </thead>\n",
              "  <tbody>\n",
              "    <tr>\n",
              "      <th id=\"T_f6347_level0_row0\" class=\"row_heading level0 row0\" >Full</th>\n",
              "      <td id=\"T_f6347_row0_col0\" class=\"data row0 col0\" >0.011049</td>\n",
              "      <td id=\"T_f6347_row0_col1\" class=\"data row0 col1\" >0.726509</td>\n",
              "      <td id=\"T_f6347_row0_col2\" class=\"data row0 col2\" >642.211394</td>\n",
              "      <td id=\"T_f6347_row0_col3\" class=\"data row0 col3\" >0.382163</td>\n",
              "      <td id=\"T_f6347_row0_col4\" class=\"data row0 col4\" >0.014271</td>\n",
              "      <td id=\"T_f6347_row0_col5\" class=\"data row0 col5\" >0.675978</td>\n",
              "      <td id=\"T_f6347_row0_col6\" class=\"data row0 col6\" >444.804510</td>\n",
              "      <td id=\"T_f6347_row0_col7\" class=\"data row0 col7\" >0.409936</td>\n",
              "      <td id=\"T_f6347_row0_col8\" class=\"data row0 col8\" >0.027682</td>\n",
              "      <td id=\"T_f6347_row0_col9\" class=\"data row0 col9\" >-0.121269</td>\n",
              "      <td id=\"T_f6347_row0_col10\" class=\"data row0 col10\" >1.660580</td>\n",
              "      <td id=\"T_f6347_row0_col11\" class=\"data row0 col11\" >1.319971</td>\n",
              "    </tr>\n",
              "    <tr>\n",
              "      <th id=\"T_f6347_level0_row1\" class=\"row_heading level0 row1\" >Nouns</th>\n",
              "      <td id=\"T_f6347_row1_col0\" class=\"data row1 col0\" >0.057221</td>\n",
              "      <td id=\"T_f6347_row1_col1\" class=\"data row1 col1\" >0.836140</td>\n",
              "      <td id=\"T_f6347_row1_col2\" class=\"data row1 col2\" >1564.368269</td>\n",
              "      <td id=\"T_f6347_row1_col3\" class=\"data row1 col3\" >0.235445</td>\n",
              "      <td id=\"T_f6347_row1_col4\" class=\"data row1 col4\" >0.056141</td>\n",
              "      <td id=\"T_f6347_row1_col5\" class=\"data row1 col5\" >0.835806</td>\n",
              "      <td id=\"T_f6347_row1_col6\" class=\"data row1 col6\" >1561.255163</td>\n",
              "      <td id=\"T_f6347_row1_col7\" class=\"data row1 col7\" >0.246606</td>\n",
              "      <td id=\"T_f6347_row1_col8\" class=\"data row1 col8\" >0.040505</td>\n",
              "      <td id=\"T_f6347_row1_col9\" class=\"data row1 col9\" >0.064400</td>\n",
              "      <td id=\"T_f6347_row1_col10\" class=\"data row1 col10\" >54.283056</td>\n",
              "      <td id=\"T_f6347_row1_col11\" class=\"data row1 col11\" >1.613930</td>\n",
              "    </tr>\n",
              "    <tr>\n",
              "      <th id=\"T_f6347_level0_row2\" class=\"row_heading level0 row2\" >Nouns and adjs</th>\n",
              "      <td id=\"T_f6347_row2_col0\" class=\"data row2 col0\" >0.096744</td>\n",
              "      <td id=\"T_f6347_row2_col1\" class=\"data row2 col1\" >0.798844</td>\n",
              "      <td id=\"T_f6347_row2_col2\" class=\"data row2 col2\" >1218.530066</td>\n",
              "      <td id=\"T_f6347_row2_col3\" class=\"data row2 col3\" >0.311769</td>\n",
              "      <td id=\"T_f6347_row2_col4\" class=\"data row2 col4\" >0.097382</td>\n",
              "      <td id=\"T_f6347_row2_col5\" class=\"data row2 col5\" >0.791056</td>\n",
              "      <td id=\"T_f6347_row2_col6\" class=\"data row2 col6\" >1121.342457</td>\n",
              "      <td id=\"T_f6347_row2_col7\" class=\"data row2 col7\" >0.339414</td>\n",
              "      <td id=\"T_f6347_row2_col8\" class=\"data row2 col8\" >0.085435</td>\n",
              "      <td id=\"T_f6347_row2_col9\" class=\"data row2 col9\" >0.486068</td>\n",
              "      <td id=\"T_f6347_row2_col10\" class=\"data row2 col10\" >202.487003</td>\n",
              "      <td id=\"T_f6347_row2_col11\" class=\"data row2 col11\" >0.945896</td>\n",
              "    </tr>\n",
              "  </tbody>\n",
              "</table>\n"
            ]
          },
          "metadata": {},
          "execution_count": 45
        }
      ]
    },
    {
      "cell_type": "markdown",
      "source": [
        "##LSI"
      ],
      "metadata": {
        "id": "BBcJGEFlAA1B"
      }
    },
    {
      "cell_type": "markdown",
      "source": [
        "###Делаем векторизацию"
      ],
      "metadata": {
        "id": "cbfl9S3VAFcw"
      }
    },
    {
      "cell_type": "code",
      "source": [
        "lsi_model_full = models.LsiModel(bow_full, id2word=dictionary_full, num_topics=4)\n",
        "lsi_model_nouns = models.LsiModel(bow_nouns, id2word=dictionary_nouns, num_topics=4)\n",
        "lsi_model_nouns_and_adjs = models.LsiModel(bow_nouns_and_adjs, id2word=dictionary_nouns_and_adjs, num_topics=4)"
      ],
      "metadata": {
        "id": "LQ1RME8kAIzT"
      },
      "execution_count": null,
      "outputs": []
    },
    {
      "cell_type": "code",
      "source": [
        "X_full_LSI = []\n",
        "for doc_bow in bow_full:\n",
        "  document_topics = lda_model_full.get_document_topics(doc_bow, minimum_probability=0.0)\n",
        "  document_topic_vector = [topic_prob for _, topic_prob in document_topics]\n",
        "  X_full_LSI.append(document_topic_vector)\n",
        "\n",
        "X_nouns_LSI = []\n",
        "for doc_bow in bow_nouns:\n",
        "  document_topics = lda_model_nouns.get_document_topics(doc_bow, minimum_probability=0.0)\n",
        "  document_topic_vector = [topic_prob for _, topic_prob in document_topics]\n",
        "  X_nouns_LSI.append(document_topic_vector)\n",
        "\n",
        "X_nouns_and_adjs_LSI = []\n",
        "for doc_bow in bow_nouns_and_adjs:\n",
        " document_topics = lda_model_nouns_and_adjs.get_document_topics(doc_bow, minimum_probability=0.0)\n",
        " document_topic_vector = [topic_prob for _, topic_prob in document_topics]\n",
        " X_nouns_and_adjs_LSI.append(document_topic_vector)"
      ],
      "metadata": {
        "id": "_nTsDn72AqxZ"
      },
      "execution_count": null,
      "outputs": []
    },
    {
      "cell_type": "markdown",
      "source": [
        "###Выводим метрики"
      ],
      "metadata": {
        "id": "3aP10skxBM3x"
      }
    },
    {
      "cell_type": "code",
      "source": [
        "silhouette = []\n",
        "calinski_harabasz = []\n",
        "davies_bouldin = []\n",
        "v_measure = []\n",
        "datasets = [X_full_LSI, X_nouns_LSI, X_nouns_and_adjs_LSI]\n",
        "\n",
        "for j in range(3):\n",
        "  X = datasets[j]\n",
        "  sum_silhouette = 0\n",
        "  sum_calinski_harabasz = 0\n",
        "  sum_davies_bouldin = 0\n",
        "  sum_v_measure = 0\n",
        "  for i in range(50):\n",
        "    kmeans = KMeans(n_clusters=4, n_init=1).fit(X)\n",
        "    sum_silhouette += metrics.silhouette_score(X, kmeans.labels_, metric='euclidean')\n",
        "    sum_calinski_harabasz += metrics.calinski_harabasz_score(X, kmeans.labels_)\n",
        "    sum_davies_bouldin += metrics.davies_bouldin_score(X, kmeans.labels_)\n",
        "    sum_v_measure += metrics.v_measure_score(well_separated_target[j], kmeans.labels_)\n",
        "  v_measure.append(sum_v_measure / 50)\n",
        "  silhouette.append(sum_silhouette / 50)\n",
        "  calinski_harabasz.append(sum_calinski_harabasz / 50)\n",
        "  davies_bouldin.append(sum_davies_bouldin / 50)\n",
        "\n",
        "kmeans_metrics = pd.DataFrame({\n",
        "    \"V_measure\": v_measure,\n",
        "    \"Silhouette\": silhouette,\n",
        "    \"Calinski-Harabasz\": calinski_harabasz,\n",
        "    \"Davies-Bouldin\": davies_bouldin\n",
        "}, index=pd.Index([\"Full\", \"Nouns\", \"Nouns and adjs\"]))\n",
        "\n",
        "kmeans_metrics.style.set_table_styles([{'selector': 'td', 'props': [('font-size', '12pt'),('border-style','solid'),('border-width','1px')]},\n",
        "                                          {'selector': 'th', 'props': [('font-size', '12pt'),('border-style','solid'),('border-width','1px')]},\n",
        "                                          {'selector': 'caption', 'props': [('font-size', '24pt')]}]).set_caption(\"KMeans\")"
      ],
      "metadata": {
        "colab": {
          "base_uri": "https://localhost:8080/",
          "height": 203
        },
        "id": "q67Jp0LuBPoj",
        "outputId": "05322c8d-2767-447a-da68-2a2d21a1b219"
      },
      "execution_count": null,
      "outputs": [
        {
          "output_type": "execute_result",
          "data": {
            "text/plain": [
              "<pandas.io.formats.style.Styler at 0x7c350c93c880>"
            ],
            "text/html": [
              "<style type=\"text/css\">\n",
              "#T_9538e td {\n",
              "  font-size: 12pt;\n",
              "  border-style: solid;\n",
              "  border-width: 1px;\n",
              "}\n",
              "#T_9538e th {\n",
              "  font-size: 12pt;\n",
              "  border-style: solid;\n",
              "  border-width: 1px;\n",
              "}\n",
              "#T_9538e caption {\n",
              "  font-size: 24pt;\n",
              "}\n",
              "</style>\n",
              "<table id=\"T_9538e\" class=\"dataframe\">\n",
              "  <caption>KMeans</caption>\n",
              "  <thead>\n",
              "    <tr>\n",
              "      <th class=\"blank level0\" >&nbsp;</th>\n",
              "      <th id=\"T_9538e_level0_col0\" class=\"col_heading level0 col0\" >V_measure</th>\n",
              "      <th id=\"T_9538e_level0_col1\" class=\"col_heading level0 col1\" >Silhouette</th>\n",
              "      <th id=\"T_9538e_level0_col2\" class=\"col_heading level0 col2\" >Calinski-Harabasz</th>\n",
              "      <th id=\"T_9538e_level0_col3\" class=\"col_heading level0 col3\" >Davies-Bouldin</th>\n",
              "    </tr>\n",
              "  </thead>\n",
              "  <tbody>\n",
              "    <tr>\n",
              "      <th id=\"T_9538e_level0_row0\" class=\"row_heading level0 row0\" >Full</th>\n",
              "      <td id=\"T_9538e_row0_col0\" class=\"data row0 col0\" >0.009500</td>\n",
              "      <td id=\"T_9538e_row0_col1\" class=\"data row0 col1\" >0.748056</td>\n",
              "      <td id=\"T_9538e_row0_col2\" class=\"data row0 col2\" >734.852419</td>\n",
              "      <td id=\"T_9538e_row0_col3\" class=\"data row0 col3\" >0.451009</td>\n",
              "    </tr>\n",
              "    <tr>\n",
              "      <th id=\"T_9538e_level0_row1\" class=\"row_heading level0 row1\" >Nouns</th>\n",
              "      <td id=\"T_9538e_row1_col0\" class=\"data row1 col0\" >0.054086</td>\n",
              "      <td id=\"T_9538e_row1_col1\" class=\"data row1 col1\" >0.838998</td>\n",
              "      <td id=\"T_9538e_row1_col2\" class=\"data row1 col2\" >1614.614142</td>\n",
              "      <td id=\"T_9538e_row1_col3\" class=\"data row1 col3\" >0.238088</td>\n",
              "    </tr>\n",
              "    <tr>\n",
              "      <th id=\"T_9538e_level0_row2\" class=\"row_heading level0 row2\" >Nouns and adjs</th>\n",
              "      <td id=\"T_9538e_row2_col0\" class=\"data row2 col0\" >0.096974</td>\n",
              "      <td id=\"T_9538e_row2_col1\" class=\"data row2 col1\" >0.810926</td>\n",
              "      <td id=\"T_9538e_row2_col2\" class=\"data row2 col2\" >1370.266178</td>\n",
              "      <td id=\"T_9538e_row2_col3\" class=\"data row2 col3\" >0.276074</td>\n",
              "    </tr>\n",
              "  </tbody>\n",
              "</table>\n"
            ]
          },
          "metadata": {},
          "execution_count": 40
        }
      ]
    },
    {
      "cell_type": "code",
      "source": [
        "aggl_euc_metrics = [[], [], []]\n",
        "\n",
        "for i in range(3):\n",
        "  X = datasets[i]\n",
        "  for link in [\"ward\", \"complete\", \"average\", \"single\"]:\n",
        "    sum_silhouette = 0\n",
        "    sum_calinski_harabasz = 0\n",
        "    sum_davies_bouldin = 0\n",
        "    sum_v_measure = 0\n",
        "    for j in range(50):\n",
        "      aggl = AgglomerativeClustering(n_clusters=4, linkage=link).fit(X)\n",
        "      sum_silhouette += metrics.silhouette_score(X, aggl.labels_, metric='euclidean')\n",
        "      sum_calinski_harabasz += metrics.calinski_harabasz_score(X, aggl.labels_)\n",
        "      sum_davies_bouldin += metrics.davies_bouldin_score(X, aggl.labels_)\n",
        "      sum_v_measure += metrics.v_measure_score(well_separated_target[i], aggl.labels_)\n",
        "    aggl_euc_metrics[i].append(sum_v_measure / 50)\n",
        "    aggl_euc_metrics[i].append(sum_silhouette / 50)\n",
        "    aggl_euc_metrics[i].append(sum_calinski_harabasz / 50)\n",
        "    aggl_euc_metrics[i].append(sum_davies_bouldin / 50)\n",
        "\n",
        "aggl_euc_metrics_table = pd.DataFrame(aggl_euc_metrics,\n",
        "                                index=pd.Index([\"Full\", \"Nouns\", \"Nouns and adjs\"]),\n",
        "                                columns=pd.MultiIndex.from_product([[\"ward\", \"complete\", \"average\", \"single\"],['V', 'Sil', 'Cal-Har', 'Dav-Boul']], names=['Metric', 'Linkage']))\n",
        "\n",
        "aggl_euc_metrics_table.style.set_table_styles([{'selector': 'td', 'props': [('font-size', '12pt'),('border-style','solid'),('border-width','1px')]},\n",
        "                                          {'selector': 'th', 'props': [('font-size', '12pt'),('border-style','solid'),('border-width','1px')]},\n",
        "                                          {'selector': 'caption', 'props': [('font-size', '24pt')]}]).set_caption(\"Agglomerative clustering, Euclidean\")"
      ],
      "metadata": {
        "colab": {
          "base_uri": "https://localhost:8080/",
          "height": 319
        },
        "id": "P0lleGefBUWl",
        "outputId": "6ea3c011-f31d-4d40-c517-d470adccc8e5"
      },
      "execution_count": null,
      "outputs": [
        {
          "output_type": "execute_result",
          "data": {
            "text/plain": [
              "<pandas.io.formats.style.Styler at 0x7c355328a980>"
            ],
            "text/html": [
              "<style type=\"text/css\">\n",
              "#T_1463e td {\n",
              "  font-size: 12pt;\n",
              "  border-style: solid;\n",
              "  border-width: 1px;\n",
              "}\n",
              "#T_1463e th {\n",
              "  font-size: 12pt;\n",
              "  border-style: solid;\n",
              "  border-width: 1px;\n",
              "}\n",
              "#T_1463e caption {\n",
              "  font-size: 24pt;\n",
              "}\n",
              "</style>\n",
              "<table id=\"T_1463e\" class=\"dataframe\">\n",
              "  <caption>Agglomerative clustering, Euclidean</caption>\n",
              "  <thead>\n",
              "    <tr>\n",
              "      <th class=\"index_name level0\" >Metric</th>\n",
              "      <th id=\"T_1463e_level0_col0\" class=\"col_heading level0 col0\" colspan=\"4\">ward</th>\n",
              "      <th id=\"T_1463e_level0_col4\" class=\"col_heading level0 col4\" colspan=\"4\">complete</th>\n",
              "      <th id=\"T_1463e_level0_col8\" class=\"col_heading level0 col8\" colspan=\"4\">average</th>\n",
              "      <th id=\"T_1463e_level0_col12\" class=\"col_heading level0 col12\" colspan=\"4\">single</th>\n",
              "    </tr>\n",
              "    <tr>\n",
              "      <th class=\"index_name level1\" >Linkage</th>\n",
              "      <th id=\"T_1463e_level1_col0\" class=\"col_heading level1 col0\" >V</th>\n",
              "      <th id=\"T_1463e_level1_col1\" class=\"col_heading level1 col1\" >Sil</th>\n",
              "      <th id=\"T_1463e_level1_col2\" class=\"col_heading level1 col2\" >Cal-Har</th>\n",
              "      <th id=\"T_1463e_level1_col3\" class=\"col_heading level1 col3\" >Dav-Boul</th>\n",
              "      <th id=\"T_1463e_level1_col4\" class=\"col_heading level1 col4\" >V</th>\n",
              "      <th id=\"T_1463e_level1_col5\" class=\"col_heading level1 col5\" >Sil</th>\n",
              "      <th id=\"T_1463e_level1_col6\" class=\"col_heading level1 col6\" >Cal-Har</th>\n",
              "      <th id=\"T_1463e_level1_col7\" class=\"col_heading level1 col7\" >Dav-Boul</th>\n",
              "      <th id=\"T_1463e_level1_col8\" class=\"col_heading level1 col8\" >V</th>\n",
              "      <th id=\"T_1463e_level1_col9\" class=\"col_heading level1 col9\" >Sil</th>\n",
              "      <th id=\"T_1463e_level1_col10\" class=\"col_heading level1 col10\" >Cal-Har</th>\n",
              "      <th id=\"T_1463e_level1_col11\" class=\"col_heading level1 col11\" >Dav-Boul</th>\n",
              "      <th id=\"T_1463e_level1_col12\" class=\"col_heading level1 col12\" >V</th>\n",
              "      <th id=\"T_1463e_level1_col13\" class=\"col_heading level1 col13\" >Sil</th>\n",
              "      <th id=\"T_1463e_level1_col14\" class=\"col_heading level1 col14\" >Cal-Har</th>\n",
              "      <th id=\"T_1463e_level1_col15\" class=\"col_heading level1 col15\" >Dav-Boul</th>\n",
              "    </tr>\n",
              "  </thead>\n",
              "  <tbody>\n",
              "    <tr>\n",
              "      <th id=\"T_1463e_level0_row0\" class=\"row_heading level0 row0\" >Full</th>\n",
              "      <td id=\"T_1463e_row0_col0\" class=\"data row0 col0\" >0.008196</td>\n",
              "      <td id=\"T_1463e_row0_col1\" class=\"data row0 col1\" >0.696252</td>\n",
              "      <td id=\"T_1463e_row0_col2\" class=\"data row0 col2\" >511.446715</td>\n",
              "      <td id=\"T_1463e_row0_col3\" class=\"data row0 col3\" >0.517872</td>\n",
              "      <td id=\"T_1463e_row0_col4\" class=\"data row0 col4\" >0.011834</td>\n",
              "      <td id=\"T_1463e_row0_col5\" class=\"data row0 col5\" >0.688280</td>\n",
              "      <td id=\"T_1463e_row0_col6\" class=\"data row0 col6\" >493.175796</td>\n",
              "      <td id=\"T_1463e_row0_col7\" class=\"data row0 col7\" >0.419726</td>\n",
              "      <td id=\"T_1463e_row0_col8\" class=\"data row0 col8\" >0.009984</td>\n",
              "      <td id=\"T_1463e_row0_col9\" class=\"data row0 col9\" >0.730508</td>\n",
              "      <td id=\"T_1463e_row0_col10\" class=\"data row0 col10\" >625.341221</td>\n",
              "      <td id=\"T_1463e_row0_col11\" class=\"data row0 col11\" >0.528303</td>\n",
              "      <td id=\"T_1463e_row0_col12\" class=\"data row0 col12\" >0.021479</td>\n",
              "      <td id=\"T_1463e_row0_col13\" class=\"data row0 col13\" >0.267259</td>\n",
              "      <td id=\"T_1463e_row0_col14\" class=\"data row0 col14\" >39.882657</td>\n",
              "      <td id=\"T_1463e_row0_col15\" class=\"data row0 col15\" >0.718678</td>\n",
              "    </tr>\n",
              "    <tr>\n",
              "      <th id=\"T_1463e_level0_row1\" class=\"row_heading level0 row1\" >Nouns</th>\n",
              "      <td id=\"T_1463e_row1_col0\" class=\"data row1 col0\" >0.053035</td>\n",
              "      <td id=\"T_1463e_row1_col1\" class=\"data row1 col1\" >0.834940</td>\n",
              "      <td id=\"T_1463e_row1_col2\" class=\"data row1 col2\" >1542.901355</td>\n",
              "      <td id=\"T_1463e_row1_col3\" class=\"data row1 col3\" >0.248136</td>\n",
              "      <td id=\"T_1463e_row1_col4\" class=\"data row1 col4\" >0.053900</td>\n",
              "      <td id=\"T_1463e_row1_col5\" class=\"data row1 col5\" >0.834615</td>\n",
              "      <td id=\"T_1463e_row1_col6\" class=\"data row1 col6\" >1528.586974</td>\n",
              "      <td id=\"T_1463e_row1_col7\" class=\"data row1 col7\" >0.250644</td>\n",
              "      <td id=\"T_1463e_row1_col8\" class=\"data row1 col8\" >0.052574</td>\n",
              "      <td id=\"T_1463e_row1_col9\" class=\"data row1 col9\" >0.830896</td>\n",
              "      <td id=\"T_1463e_row1_col10\" class=\"data row1 col10\" >1458.885492</td>\n",
              "      <td id=\"T_1463e_row1_col11\" class=\"data row1 col11\" >0.256422</td>\n",
              "      <td id=\"T_1463e_row1_col12\" class=\"data row1 col12\" >0.040505</td>\n",
              "      <td id=\"T_1463e_row1_col13\" class=\"data row1 col13\" >0.064454</td>\n",
              "      <td id=\"T_1463e_row1_col14\" class=\"data row1 col14\" >54.282405</td>\n",
              "      <td id=\"T_1463e_row1_col15\" class=\"data row1 col15\" >1.614622</td>\n",
              "    </tr>\n",
              "    <tr>\n",
              "      <th id=\"T_1463e_level0_row2\" class=\"row_heading level0 row2\" >Nouns and adjs</th>\n",
              "      <td id=\"T_1463e_row2_col0\" class=\"data row2 col0\" >0.095046</td>\n",
              "      <td id=\"T_1463e_row2_col1\" class=\"data row2 col1\" >0.798858</td>\n",
              "      <td id=\"T_1463e_row2_col2\" class=\"data row2 col2\" >1207.219601</td>\n",
              "      <td id=\"T_1463e_row2_col3\" class=\"data row2 col3\" >0.320540</td>\n",
              "      <td id=\"T_1463e_row2_col4\" class=\"data row2 col4\" >0.100364</td>\n",
              "      <td id=\"T_1463e_row2_col5\" class=\"data row2 col5\" >0.795331</td>\n",
              "      <td id=\"T_1463e_row2_col6\" class=\"data row2 col6\" >1177.046335</td>\n",
              "      <td id=\"T_1463e_row2_col7\" class=\"data row2 col7\" >0.295940</td>\n",
              "      <td id=\"T_1463e_row2_col8\" class=\"data row2 col8\" >0.105327</td>\n",
              "      <td id=\"T_1463e_row2_col9\" class=\"data row2 col9\" >0.780506</td>\n",
              "      <td id=\"T_1463e_row2_col10\" class=\"data row2 col10\" >1012.642995</td>\n",
              "      <td id=\"T_1463e_row2_col11\" class=\"data row2 col11\" >0.356407</td>\n",
              "      <td id=\"T_1463e_row2_col12\" class=\"data row2 col12\" >0.087438</td>\n",
              "      <td id=\"T_1463e_row2_col13\" class=\"data row2 col13\" >-0.016364</td>\n",
              "      <td id=\"T_1463e_row2_col14\" class=\"data row2 col14\" >44.131398</td>\n",
              "      <td id=\"T_1463e_row2_col15\" class=\"data row2 col15\" >1.643579</td>\n",
              "    </tr>\n",
              "  </tbody>\n",
              "</table>\n"
            ]
          },
          "metadata": {},
          "execution_count": 41
        }
      ]
    },
    {
      "cell_type": "code",
      "source": [
        "aggl_cos_metrics = [[], [], []]\n",
        "\n",
        "for i in range(3):\n",
        "  X = datasets[i]\n",
        "  for link in [\"complete\", \"average\", \"single\"]:\n",
        "    sum_silhouette = 0\n",
        "    sum_calinski_harabasz = 0\n",
        "    sum_davies_bouldin = 0\n",
        "    sum_v_measure = 0\n",
        "    for j in range(50):\n",
        "      aggl = AgglomerativeClustering(n_clusters=4, linkage=link, metric='cosine').fit(X)\n",
        "      sum_silhouette += metrics.silhouette_score(X, aggl.labels_, metric='euclidean')\n",
        "      sum_calinski_harabasz += metrics.calinski_harabasz_score(X, aggl.labels_)\n",
        "      sum_davies_bouldin += metrics.davies_bouldin_score(X, aggl.labels_)\n",
        "      sum_v_measure += metrics.v_measure_score(well_separated_target[i], aggl.labels_)\n",
        "    aggl_cos_metrics[i].append(sum_v_measure / 50)\n",
        "    aggl_cos_metrics[i].append(sum_silhouette / 50)\n",
        "    aggl_cos_metrics[i].append(sum_calinski_harabasz / 50)\n",
        "    aggl_cos_metrics[i].append(sum_davies_bouldin / 50)\n",
        "\n",
        "aggl_cos_metrics_table = pd.DataFrame(aggl_cos_metrics,\n",
        "                                index=pd.Index([\"Full\", \"Nouns\", \"Nouns and adjs\"]),\n",
        "                                columns=pd.MultiIndex.from_product([[\"complete\", \"average\", \"single\"],['V', 'Sil', 'Cal-Har', 'Dav-Boul']], names=['Metric', 'Linkage']))\n",
        "\n",
        "aggl_cos_metrics_table.style.set_table_styles([{'selector': 'td', 'props': [('font-size', '12pt'),('border-style','solid'),('border-width','1px')]},\n",
        "                                          {'selector': 'th', 'props': [('font-size', '12pt'),('border-style','solid'),('border-width','1px')]},\n",
        "                                          {'selector': 'caption', 'props': [('font-size', '24pt')]}]).set_caption(\"Agglomerative clustering, cosine\")"
      ],
      "metadata": {
        "colab": {
          "base_uri": "https://localhost:8080/",
          "height": 299
        },
        "id": "ckmx3Y8XBZXb",
        "outputId": "29a8d0d0-1419-478f-837f-b1744622e3ce"
      },
      "execution_count": null,
      "outputs": [
        {
          "output_type": "execute_result",
          "data": {
            "text/plain": [
              "<pandas.io.formats.style.Styler at 0x7c350c93e8f0>"
            ],
            "text/html": [
              "<style type=\"text/css\">\n",
              "#T_579fa td {\n",
              "  font-size: 12pt;\n",
              "  border-style: solid;\n",
              "  border-width: 1px;\n",
              "}\n",
              "#T_579fa th {\n",
              "  font-size: 12pt;\n",
              "  border-style: solid;\n",
              "  border-width: 1px;\n",
              "}\n",
              "#T_579fa caption {\n",
              "  font-size: 24pt;\n",
              "}\n",
              "</style>\n",
              "<table id=\"T_579fa\" class=\"dataframe\">\n",
              "  <caption>Agglomerative clustering, cosine</caption>\n",
              "  <thead>\n",
              "    <tr>\n",
              "      <th class=\"index_name level0\" >Metric</th>\n",
              "      <th id=\"T_579fa_level0_col0\" class=\"col_heading level0 col0\" colspan=\"4\">complete</th>\n",
              "      <th id=\"T_579fa_level0_col4\" class=\"col_heading level0 col4\" colspan=\"4\">average</th>\n",
              "      <th id=\"T_579fa_level0_col8\" class=\"col_heading level0 col8\" colspan=\"4\">single</th>\n",
              "    </tr>\n",
              "    <tr>\n",
              "      <th class=\"index_name level1\" >Linkage</th>\n",
              "      <th id=\"T_579fa_level1_col0\" class=\"col_heading level1 col0\" >V</th>\n",
              "      <th id=\"T_579fa_level1_col1\" class=\"col_heading level1 col1\" >Sil</th>\n",
              "      <th id=\"T_579fa_level1_col2\" class=\"col_heading level1 col2\" >Cal-Har</th>\n",
              "      <th id=\"T_579fa_level1_col3\" class=\"col_heading level1 col3\" >Dav-Boul</th>\n",
              "      <th id=\"T_579fa_level1_col4\" class=\"col_heading level1 col4\" >V</th>\n",
              "      <th id=\"T_579fa_level1_col5\" class=\"col_heading level1 col5\" >Sil</th>\n",
              "      <th id=\"T_579fa_level1_col6\" class=\"col_heading level1 col6\" >Cal-Har</th>\n",
              "      <th id=\"T_579fa_level1_col7\" class=\"col_heading level1 col7\" >Dav-Boul</th>\n",
              "      <th id=\"T_579fa_level1_col8\" class=\"col_heading level1 col8\" >V</th>\n",
              "      <th id=\"T_579fa_level1_col9\" class=\"col_heading level1 col9\" >Sil</th>\n",
              "      <th id=\"T_579fa_level1_col10\" class=\"col_heading level1 col10\" >Cal-Har</th>\n",
              "      <th id=\"T_579fa_level1_col11\" class=\"col_heading level1 col11\" >Dav-Boul</th>\n",
              "    </tr>\n",
              "  </thead>\n",
              "  <tbody>\n",
              "    <tr>\n",
              "      <th id=\"T_579fa_level0_row0\" class=\"row_heading level0 row0\" >Full</th>\n",
              "      <td id=\"T_579fa_row0_col0\" class=\"data row0 col0\" >0.011049</td>\n",
              "      <td id=\"T_579fa_row0_col1\" class=\"data row0 col1\" >0.726501</td>\n",
              "      <td id=\"T_579fa_row0_col2\" class=\"data row0 col2\" >642.228565</td>\n",
              "      <td id=\"T_579fa_row0_col3\" class=\"data row0 col3\" >0.382116</td>\n",
              "      <td id=\"T_579fa_row0_col4\" class=\"data row0 col4\" >0.014271</td>\n",
              "      <td id=\"T_579fa_row0_col5\" class=\"data row0 col5\" >0.675952</td>\n",
              "      <td id=\"T_579fa_row0_col6\" class=\"data row0 col6\" >444.769712</td>\n",
              "      <td id=\"T_579fa_row0_col7\" class=\"data row0 col7\" >0.409984</td>\n",
              "      <td id=\"T_579fa_row0_col8\" class=\"data row0 col8\" >0.027682</td>\n",
              "      <td id=\"T_579fa_row0_col9\" class=\"data row0 col9\" >-0.121390</td>\n",
              "      <td id=\"T_579fa_row0_col10\" class=\"data row0 col10\" >1.660515</td>\n",
              "      <td id=\"T_579fa_row0_col11\" class=\"data row0 col11\" >1.320716</td>\n",
              "    </tr>\n",
              "    <tr>\n",
              "      <th id=\"T_579fa_level0_row1\" class=\"row_heading level0 row1\" >Nouns</th>\n",
              "      <td id=\"T_579fa_row1_col0\" class=\"data row1 col0\" >0.057221</td>\n",
              "      <td id=\"T_579fa_row1_col1\" class=\"data row1 col1\" >0.836136</td>\n",
              "      <td id=\"T_579fa_row1_col2\" class=\"data row1 col2\" >1564.437046</td>\n",
              "      <td id=\"T_579fa_row1_col3\" class=\"data row1 col3\" >0.235468</td>\n",
              "      <td id=\"T_579fa_row1_col4\" class=\"data row1 col4\" >0.056141</td>\n",
              "      <td id=\"T_579fa_row1_col5\" class=\"data row1 col5\" >0.835805</td>\n",
              "      <td id=\"T_579fa_row1_col6\" class=\"data row1 col6\" >1561.373481</td>\n",
              "      <td id=\"T_579fa_row1_col7\" class=\"data row1 col7\" >0.246615</td>\n",
              "      <td id=\"T_579fa_row1_col8\" class=\"data row1 col8\" >0.040505</td>\n",
              "      <td id=\"T_579fa_row1_col9\" class=\"data row1 col9\" >0.064454</td>\n",
              "      <td id=\"T_579fa_row1_col10\" class=\"data row1 col10\" >54.282405</td>\n",
              "      <td id=\"T_579fa_row1_col11\" class=\"data row1 col11\" >1.614622</td>\n",
              "    </tr>\n",
              "    <tr>\n",
              "      <th id=\"T_579fa_level0_row2\" class=\"row_heading level0 row2\" >Nouns and adjs</th>\n",
              "      <td id=\"T_579fa_row2_col0\" class=\"data row2 col0\" >0.096744</td>\n",
              "      <td id=\"T_579fa_row2_col1\" class=\"data row2 col1\" >0.798796</td>\n",
              "      <td id=\"T_579fa_row2_col2\" class=\"data row2 col2\" >1218.458744</td>\n",
              "      <td id=\"T_579fa_row2_col3\" class=\"data row2 col3\" >0.311787</td>\n",
              "      <td id=\"T_579fa_row2_col4\" class=\"data row2 col4\" >0.097382</td>\n",
              "      <td id=\"T_579fa_row2_col5\" class=\"data row2 col5\" >0.791007</td>\n",
              "      <td id=\"T_579fa_row2_col6\" class=\"data row2 col6\" >1121.300663</td>\n",
              "      <td id=\"T_579fa_row2_col7\" class=\"data row2 col7\" >0.339441</td>\n",
              "      <td id=\"T_579fa_row2_col8\" class=\"data row2 col8\" >0.085435</td>\n",
              "      <td id=\"T_579fa_row2_col9\" class=\"data row2 col9\" >0.486103</td>\n",
              "      <td id=\"T_579fa_row2_col10\" class=\"data row2 col10\" >202.574197</td>\n",
              "      <td id=\"T_579fa_row2_col11\" class=\"data row2 col11\" >0.945847</td>\n",
              "    </tr>\n",
              "  </tbody>\n",
              "</table>\n"
            ]
          },
          "metadata": {},
          "execution_count": 42
        }
      ]
    }
  ]
}