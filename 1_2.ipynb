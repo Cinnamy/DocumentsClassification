{
  "nbformat": 4,
  "nbformat_minor": 0,
  "metadata": {
    "colab": {
      "provenance": [],
      "collapsed_sections": [
        "fJjkHXxvw9s8",
        "Dl3F2q1Xybr3"
      ],
      "authorship_tag": "ABX9TyNZ+hgTxsNmIC9+YhxPO/zn",
      "include_colab_link": true
    },
    "kernelspec": {
      "name": "python3",
      "display_name": "Python 3"
    },
    "language_info": {
      "name": "python"
    }
  },
  "cells": [
    {
      "cell_type": "markdown",
      "metadata": {
        "id": "view-in-github",
        "colab_type": "text"
      },
      "source": [
        "<a href=\"https://colab.research.google.com/github/Cinnamy/DocumentsClassification/blob/main/1_2.ipynb\" target=\"_parent\"><img src=\"https://colab.research.google.com/assets/colab-badge.svg\" alt=\"Open In Colab\"/></a>"
      ]
    },
    {
      "cell_type": "markdown",
      "source": [
        "#Подключаем модули"
      ],
      "metadata": {
        "id": "fJjkHXxvw9s8"
      }
    },
    {
      "cell_type": "code",
      "source": [
        "pip install pymorphy2"
      ],
      "metadata": {
        "colab": {
          "base_uri": "https://localhost:8080/"
        },
        "id": "MnI3ZVgNBK38",
        "outputId": "874de1af-36aa-47fc-912f-d7c27b486ace"
      },
      "execution_count": null,
      "outputs": [
        {
          "output_type": "stream",
          "name": "stdout",
          "text": [
            "Collecting pymorphy2\n",
            "  Downloading pymorphy2-0.9.1-py3-none-any.whl (55 kB)\n",
            "\u001b[2K     \u001b[90m━━━━━━━━━━━━━━━━━━━━━━━━━━━━━━━━━━━━━━━━\u001b[0m \u001b[32m55.5/55.5 kB\u001b[0m \u001b[31m873.5 kB/s\u001b[0m eta \u001b[36m0:00:00\u001b[0m\n",
            "\u001b[?25hCollecting dawg-python>=0.7.1 (from pymorphy2)\n",
            "  Downloading DAWG_Python-0.7.2-py2.py3-none-any.whl (11 kB)\n",
            "Collecting pymorphy2-dicts-ru<3.0,>=2.4 (from pymorphy2)\n",
            "  Downloading pymorphy2_dicts_ru-2.4.417127.4579844-py2.py3-none-any.whl (8.2 MB)\n",
            "\u001b[2K     \u001b[90m━━━━━━━━━━━━━━━━━━━━━━━━━━━━━━━━━━━━━━━━\u001b[0m \u001b[32m8.2/8.2 MB\u001b[0m \u001b[31m43.5 MB/s\u001b[0m eta \u001b[36m0:00:00\u001b[0m\n",
            "\u001b[?25hCollecting docopt>=0.6 (from pymorphy2)\n",
            "  Downloading docopt-0.6.2.tar.gz (25 kB)\n",
            "  Preparing metadata (setup.py) ... \u001b[?25l\u001b[?25hdone\n",
            "Building wheels for collected packages: docopt\n",
            "  Building wheel for docopt (setup.py) ... \u001b[?25l\u001b[?25hdone\n",
            "  Created wheel for docopt: filename=docopt-0.6.2-py2.py3-none-any.whl size=13706 sha256=04d3729b5d28f578560a86b1ff0948e456124f52cacce20070a3b39335a02dc5\n",
            "  Stored in directory: /root/.cache/pip/wheels/fc/ab/d4/5da2067ac95b36618c629a5f93f809425700506f72c9732fac\n",
            "Successfully built docopt\n",
            "Installing collected packages: pymorphy2-dicts-ru, docopt, dawg-python, pymorphy2\n",
            "Successfully installed dawg-python-0.7.2 docopt-0.6.2 pymorphy2-0.9.1 pymorphy2-dicts-ru-2.4.417127.4579844\n"
          ]
        }
      ]
    },
    {
      "cell_type": "code",
      "execution_count": null,
      "metadata": {
        "id": "kFVXqyUjcwxE",
        "colab": {
          "base_uri": "https://localhost:8080/"
        },
        "outputId": "ca13dcbe-6267-423e-c080-4212319c5936"
      },
      "outputs": [
        {
          "output_type": "stream",
          "name": "stderr",
          "text": [
            "[nltk_data] Downloading package stopwords to /root/nltk_data...\n",
            "[nltk_data]   Unzipping corpora/stopwords.zip.\n",
            "[nltk_data] Downloading package punkt to /root/nltk_data...\n",
            "[nltk_data]   Unzipping tokenizers/punkt.zip.\n"
          ]
        }
      ],
      "source": [
        "import nltk\n",
        "import re\n",
        "import pymorphy2\n",
        "\n",
        "nltk.download('stopwords')\n",
        "nltk.download('punkt')\n",
        "\n",
        "from nltk.tokenize import word_tokenize\n",
        "from nltk.corpus import stopwords"
      ]
    },
    {
      "cell_type": "markdown",
      "source": [
        "# 1 задание"
      ],
      "metadata": {
        "id": "Dl3F2q1Xybr3"
      }
    },
    {
      "cell_type": "markdown",
      "source": [
        "Вводим данные и делаем предобработку с помощью NLTK и pymorphy2:"
      ],
      "metadata": {
        "id": "k_grj3v2dnz_"
      }
    },
    {
      "cell_type": "code",
      "source": [
        "data = \"\"\"[15:56] Кудайбергенов Хаби\n",
        "\n",
        "Будет солнечно\n",
        "\n",
        "[15:56] Павлов Михаэль\n",
        "\n",
        "Солнечно до конца дня. В Красносельском районе как всегда ветер\n",
        "\n",
        "[15:56] Бутусов Андрей Михайлович\n",
        "\n",
        "Сегодня будет солнечно, ясное небо, ни облачка не появится. Ночь чистая, можно будет даже звёзды увидеть\n",
        "\n",
        "[15:57] Титов Глеб Германович\n",
        "\n",
        "Температура опустится сразу на 6-7 градусов, так что на улице днем будет не выше плюс 13. Ощущение холода будут усиливать дожди, которые начнутся в последний день этой недели и затем будут идти несколько суток\n",
        "\n",
        "[15:57] Гампер Елизавета Алексеевна\n",
        "\n",
        "Сегодня ясно, без осадков. Атмосферное давление выше нормы.\n",
        "\n",
        "[15:58] Резниченко Владимир Аркадьевич\n",
        "\n",
        "Сегодня довольно теплая для сентября погода. Небо ясное и осадков не ожидается. Так что прогноз на сегодня очень приятный.\n",
        "\n",
        "[15:58] Иванова Анастасия Алексеевна\n",
        "\n",
        "В Санкт-Петербурге сегодня ожидается +20..+18 °C, без осадков, легкий ветер.\n",
        "\n",
        "[16:01] Титов Глеб Германович\n",
        "\n",
        "Трудно с ходу назвать фильм, который породил столько же абсурдных пародий. Данное творение несмотря на свою «трешовость», снискал огромное количество поклонников\n",
        "\n",
        "[16:01] Резниченко Владимир Аркадьевич\n",
        "\n",
        "Трагикомедия, которая показывает последние дни двух молодых людей со смертельными диагнозами\n",
        "\n",
        "[16:01] Бутусов Андрей Михайлович\n",
        "\n",
        "Фильм явно тянет на премию Оскар, проработанный сюжет, очень красивая, завораживающая картинка и я верю, что он не умер в конце фильма\n",
        "\n",
        "[16:02] Павлов Михаэль\n",
        "\n",
        "Еще долго после просмотра фильма я и мои друзья повторяли такие легендарные фразы главного героя, как «водка внутри — снаружи бутылка» и «ю вонна плей — лэтс плей», не забывая при этом делать губы «бантиком»\n",
        "\n",
        "[16:04] Егорова Ирина Анатольевна\n",
        "\n",
        "Ковер действительно задавал весь стиль комнате.\"\"\"\n",
        "\n",
        "data = re.sub(r'[^(\\w\\s\\-)]', '', data)\n",
        "data = re.sub(r'[\\d]', '', data).split('\\n\\n')\n",
        "data = [x.lower() for (i, x) in enumerate(data) if i % 2 == 1]\n",
        "\n",
        "morph = pymorphy2.MorphAnalyzer()\n",
        "\n",
        "stopwords_ru = stopwords.words('russian')\n",
        "data_full = []\n",
        "data_nouns = []\n",
        "data_nouns_and_adjs = []\n",
        "for sentence in data:\n",
        "  data_full.append(' '.join([morph.normal_forms(word)[0] for word in sentence.split(' ') if word not in stopwords_ru]))\n",
        "  nouns = ' '.join([morph.normal_forms(word)[0] for word in sentence.split(' ') if word not in stopwords_ru and morph.parse(word)[0].tag.POS == \"NOUN\"])\n",
        "  if nouns != '':\n",
        "    data_nouns.append(nouns)\n",
        "  nouns_and_adjs = ' '.join([morph.normal_forms(word)[0] for word in sentence.split(' ') if word not in stopwords_ru and (morph.parse(word)[0].tag.POS == \"NOUN\" or morph.parse(word)[0].tag.POS == \"ADJF\")])\n",
        "  if nouns_and_adjs != '':\n",
        "    data_nouns_and_adjs.append(nouns_and_adjs)"
      ],
      "metadata": {
        "id": "U_OZaKNJc5wF"
      },
      "execution_count": null,
      "outputs": []
    },
    {
      "cell_type": "markdown",
      "source": [
        "Данные после лемматизации полностью:"
      ],
      "metadata": {
        "id": "14f0tOvMM8dx"
      }
    },
    {
      "cell_type": "code",
      "source": [
        "data_full"
      ],
      "metadata": {
        "colab": {
          "base_uri": "https://localhost:8080/"
        },
        "id": "FZ4ljRcMMu9Z",
        "outputId": "dc347790-1a60-4eca-c671-31db44d44ae0"
      },
      "execution_count": null,
      "outputs": [
        {
          "output_type": "execute_result",
          "data": {
            "text/plain": [
              "['солнечно',\n",
              " 'солнечно конец день красносельский район ветер',\n",
              " 'сегодня солнечно ясный небо облачко появиться ночь чистый звезда увидеть',\n",
              " 'температура опуститься сразу - градус улица день выше плюс  ощущение холод быть усиливать дождь который начаться последний день неделя затем быть идти несколько сутки',\n",
              " 'сегодня ясно осадки атмосферный давление выше норма',\n",
              " 'сегодня довольно тёплый сентябрь погода небо ясный осадки ожидаться прогноз сегодня очень приятный',\n",
              " 'санкт-петербург сегодня ожидаться  c осадки лёгкий ветер',\n",
              " 'трудно ход назвать фильм который породить столько абсурдный пародия данный творение несмотря трешовость снискать огромный количество поклонник',\n",
              " 'трагикомедия который показывать последний день два молодой человек смертельный диагноз',\n",
              " 'фильм явно тянуть премия оскар проработать сюжет очень красивый завораживать картинка верить умереть конец фильм',\n",
              " 'долго просмотр фильм мой друг повторять такой легендарный фраза главное герой водка внутри  снаружи бутылка ю вонный плей  лэтс плей забывать делать губа бантик',\n",
              " 'ковёр действительно задавать весь стиль комната']"
            ]
          },
          "metadata": {},
          "execution_count": 4
        }
      ]
    },
    {
      "cell_type": "markdown",
      "source": [
        "Только существительные:"
      ],
      "metadata": {
        "id": "zI-Av0PyNEIb"
      }
    },
    {
      "cell_type": "code",
      "source": [
        "data_nouns"
      ],
      "metadata": {
        "colab": {
          "base_uri": "https://localhost:8080/"
        },
        "id": "zJDJVBtNL_kv",
        "outputId": "fd4dea8b-8d4f-4135-859b-60b78d3aa9bb"
      },
      "execution_count": null,
      "outputs": [
        {
          "output_type": "execute_result",
          "data": {
            "text/plain": [
              "['конец день район ветер',\n",
              " 'небо облачко ночь звезда',\n",
              " 'температура градус улица день ощущение холод дождь день неделя сутки',\n",
              " 'осадки давление норма',\n",
              " 'сентябрь погода небо осадки прогноз',\n",
              " 'санкт-петербург осадки ветер',\n",
              " 'ход фильм пародия творение трешовость количество поклонник',\n",
              " 'трагикомедия день человек диагноз',\n",
              " 'фильм премия оскар сюжет картинка конец фильм',\n",
              " 'просмотр фильм друг фраза главное герой водка бутылка плей лэтс плей губа бантик',\n",
              " 'ковёр стиль комната']"
            ]
          },
          "metadata": {},
          "execution_count": 5
        }
      ]
    },
    {
      "cell_type": "markdown",
      "source": [
        "Существительные и прилагательные:"
      ],
      "metadata": {
        "id": "m0ySAK5UNHGL"
      }
    },
    {
      "cell_type": "code",
      "source": [
        "data_nouns_and_adjs"
      ],
      "metadata": {
        "colab": {
          "base_uri": "https://localhost:8080/"
        },
        "id": "Ad4jufQdMBij",
        "outputId": "713e6b7f-8798-460b-f291-211c319db5e3"
      },
      "execution_count": null,
      "outputs": [
        {
          "output_type": "execute_result",
          "data": {
            "text/plain": [
              "['конец день красносельский район ветер',\n",
              " 'ясный небо облачко ночь чистый звезда',\n",
              " 'температура градус улица день ощущение холод дождь который последний день неделя сутки',\n",
              " 'осадки атмосферный давление норма',\n",
              " 'тёплый сентябрь погода небо ясный осадки прогноз приятный',\n",
              " 'санкт-петербург осадки лёгкий ветер',\n",
              " 'ход фильм который абсурдный пародия данный творение трешовость огромный количество поклонник',\n",
              " 'трагикомедия который последний день молодой человек смертельный диагноз',\n",
              " 'фильм премия оскар сюжет красивый картинка конец фильм',\n",
              " 'просмотр фильм мой друг такой легендарный фраза главное герой водка бутылка плей лэтс плей губа бантик',\n",
              " 'ковёр весь стиль комната']"
            ]
          },
          "metadata": {},
          "execution_count": 6
        }
      ]
    },
    {
      "cell_type": "markdown",
      "source": [
        "Можно добавить метки частей речи всем словам:"
      ],
      "metadata": {
        "id": "dmpDN9FExU1X"
      }
    },
    {
      "cell_type": "code",
      "source": [
        "morph = pymorphy2.MorphAnalyzer()\n",
        "\n",
        "data_tokenized = word_tokenize(' '.join(data_full))\n",
        "tokens = [(morph.normal_forms(word)[0], morph.parse(word)[0].tag.POS) for word in data_tokenized]\n",
        "tokens"
      ],
      "metadata": {
        "colab": {
          "base_uri": "https://localhost:8080/"
        },
        "id": "osx4uRrhfIEB",
        "outputId": "f671b955-7315-44f6-efb4-5cc5aa7c5978"
      },
      "execution_count": null,
      "outputs": [
        {
          "output_type": "execute_result",
          "data": {
            "text/plain": [
              "[('солнечно', 'ADVB'),\n",
              " ('солнечно', 'ADVB'),\n",
              " ('конец', 'NOUN'),\n",
              " ('день', 'NOUN'),\n",
              " ('красносельский', 'ADJF'),\n",
              " ('район', 'NOUN'),\n",
              " ('ветер', 'NOUN'),\n",
              " ('сегодня', 'ADVB'),\n",
              " ('солнечно', 'ADVB'),\n",
              " ('ясный', 'ADJF'),\n",
              " ('небо', 'NOUN'),\n",
              " ('облачко', 'NOUN'),\n",
              " ('появиться', 'INFN'),\n",
              " ('ночь', 'NOUN'),\n",
              " ('чистый', 'ADJF'),\n",
              " ('звезда', 'NOUN'),\n",
              " ('увидеть', 'INFN'),\n",
              " ('температура', 'NOUN'),\n",
              " ('опуститься', 'INFN'),\n",
              " ('сразу', 'ADVB'),\n",
              " ('-', None),\n",
              " ('градус', 'NOUN'),\n",
              " ('улица', 'NOUN'),\n",
              " ('день', 'NOUN'),\n",
              " ('выше', 'ADVB'),\n",
              " ('плюс', 'CONJ'),\n",
              " ('ощущение', 'NOUN'),\n",
              " ('холод', 'NOUN'),\n",
              " ('быть', 'INFN'),\n",
              " ('усиливать', 'INFN'),\n",
              " ('дождь', 'NOUN'),\n",
              " ('который', 'ADJF'),\n",
              " ('начаться', 'INFN'),\n",
              " ('последний', 'ADJF'),\n",
              " ('день', 'NOUN'),\n",
              " ('неделя', 'NOUN'),\n",
              " ('затем', 'ADVB'),\n",
              " ('быть', 'INFN'),\n",
              " ('идти', 'INFN'),\n",
              " ('несколько', 'ADVB'),\n",
              " ('сутки', 'NOUN'),\n",
              " ('сегодня', 'ADVB'),\n",
              " ('ясно', 'ADVB'),\n",
              " ('осадка', 'NOUN'),\n",
              " ('атмосферный', 'ADJF'),\n",
              " ('давление', 'NOUN'),\n",
              " ('выше', 'ADVB'),\n",
              " ('норма', 'NOUN'),\n",
              " ('сегодня', 'ADVB'),\n",
              " ('довольно', 'ADVB'),\n",
              " ('тёплый', 'ADJF'),\n",
              " ('сентябрь', 'NOUN'),\n",
              " ('погода', 'NOUN'),\n",
              " ('небо', 'NOUN'),\n",
              " ('ясный', 'ADJF'),\n",
              " ('осадка', 'NOUN'),\n",
              " ('ожидаться', 'INFN'),\n",
              " ('прогноз', 'NOUN'),\n",
              " ('сегодня', 'ADVB'),\n",
              " ('очень', 'ADVB'),\n",
              " ('приятный', 'ADJF'),\n",
              " ('санкт-петербург', 'NOUN'),\n",
              " ('сегодня', 'ADVB'),\n",
              " ('ожидаться', 'INFN'),\n",
              " ('c', None),\n",
              " ('осадка', 'NOUN'),\n",
              " ('лёгкий', 'ADJF'),\n",
              " ('ветер', 'NOUN'),\n",
              " ('трудно', 'ADVB'),\n",
              " ('ход', 'NOUN'),\n",
              " ('назвать', 'INFN'),\n",
              " ('фильм', 'NOUN'),\n",
              " ('который', 'ADJF'),\n",
              " ('породить', 'INFN'),\n",
              " ('столько', 'ADVB'),\n",
              " ('абсурдный', 'ADJF'),\n",
              " ('пародия', 'NOUN'),\n",
              " ('данный', 'ADJF'),\n",
              " ('творение', 'NOUN'),\n",
              " ('несмотря', 'PREP'),\n",
              " ('трешовость', 'NOUN'),\n",
              " ('снискать', 'INFN'),\n",
              " ('огромный', 'ADJF'),\n",
              " ('количество', 'NOUN'),\n",
              " ('поклонник', 'NOUN'),\n",
              " ('трагикомедия', 'NOUN'),\n",
              " ('который', 'ADJF'),\n",
              " ('показывать', 'INFN'),\n",
              " ('последний', 'ADJF'),\n",
              " ('день', 'NOUN'),\n",
              " ('два', 'NUMR'),\n",
              " ('молодой', 'ADJF'),\n",
              " ('человек', 'NOUN'),\n",
              " ('смертельный', 'ADJF'),\n",
              " ('диагноз', 'NOUN'),\n",
              " ('фильм', 'NOUN'),\n",
              " ('явно', 'ADVB'),\n",
              " ('тянуть', 'INFN'),\n",
              " ('премия', 'NOUN'),\n",
              " ('оскар', 'NOUN'),\n",
              " ('проработать', 'INFN'),\n",
              " ('сюжет', 'NOUN'),\n",
              " ('очень', 'ADVB'),\n",
              " ('красивый', 'ADJF'),\n",
              " ('завораживать', 'INFN'),\n",
              " ('картинка', 'NOUN'),\n",
              " ('верить', 'INFN'),\n",
              " ('умереть', 'INFN'),\n",
              " ('конец', 'NOUN'),\n",
              " ('фильм', 'NOUN'),\n",
              " ('долго', 'ADVB'),\n",
              " ('просмотр', 'NOUN'),\n",
              " ('фильм', 'NOUN'),\n",
              " ('мой', 'ADJF'),\n",
              " ('друг', 'NOUN'),\n",
              " ('повторять', 'INFN'),\n",
              " ('такой', 'ADJF'),\n",
              " ('легендарный', 'ADJF'),\n",
              " ('фраза', 'NOUN'),\n",
              " ('главное', 'NOUN'),\n",
              " ('герой', 'NOUN'),\n",
              " ('водка', 'NOUN'),\n",
              " ('внутри', 'PREP'),\n",
              " ('снаружи', 'ADVB'),\n",
              " ('бутылка', 'NOUN'),\n",
              " ('ю', None),\n",
              " ('вонный', 'ADJF'),\n",
              " ('плей', 'NOUN'),\n",
              " ('лэтс', 'NOUN'),\n",
              " ('плей', 'NOUN'),\n",
              " ('забывать', 'INFN'),\n",
              " ('делать', 'INFN'),\n",
              " ('губа', 'NOUN'),\n",
              " ('бантик', 'NOUN'),\n",
              " ('ковёр', 'NOUN'),\n",
              " ('действительно', 'ADVB'),\n",
              " ('задавать', 'INFN'),\n",
              " ('весь', 'ADJF'),\n",
              " ('стиль', 'NOUN'),\n",
              " ('комната', 'NOUN')]"
            ]
          },
          "metadata": {},
          "execution_count": 7
        }
      ]
    },
    {
      "cell_type": "markdown",
      "source": [
        "# 2 задание"
      ],
      "metadata": {
        "id": "lPjWXgp-ygv2"
      }
    },
    {
      "cell_type": "markdown",
      "source": [
        "Подключаем модули для векторизации через TF-IDF, кластеризации через k-means и вывода таблиц через pandas:"
      ],
      "metadata": {
        "id": "e--KVox3yn6R"
      }
    },
    {
      "cell_type": "code",
      "source": [
        "import sklearn\n",
        "import numpy as np\n",
        "import pandas as pd\n",
        "\n",
        "from sklearn.feature_extraction.text import TfidfVectorizer\n",
        "from sklearn.cluster import KMeans\n",
        "from sklearn.cluster import AgglomerativeClustering\n",
        "from sklearn import metrics"
      ],
      "metadata": {
        "id": "XLWmaLq_ynRZ"
      },
      "execution_count": null,
      "outputs": []
    },
    {
      "cell_type": "markdown",
      "source": [
        "Векторизуем через TF-IDF:"
      ],
      "metadata": {
        "id": "cjaJUvZq4mDt"
      }
    },
    {
      "cell_type": "code",
      "source": [
        "vectorizer = TfidfVectorizer()\n",
        "X_full = vectorizer.fit_transform(data_full)\n",
        "X_nouns = vectorizer.fit_transform(data_nouns)\n",
        "X_nouns_and_adjs = vectorizer.fit_transform(data_nouns_and_adjs)"
      ],
      "metadata": {
        "id": "FWgkdxQizbeR"
      },
      "execution_count": null,
      "outputs": []
    },
    {
      "cell_type": "markdown",
      "source": [
        "Кластеризуем через k-means каждый набор данных и выводим с помощью таблицы pandas:"
      ],
      "metadata": {
        "id": "qACGWtwF4rc1"
      }
    },
    {
      "cell_type": "code",
      "source": [
        "silhouette = []\n",
        "calinski_harabasz = []\n",
        "davies_bouldin = []\n",
        "\n",
        "for X in [X_full, X_nouns, X_nouns_and_adjs]:\n",
        "  sum_silhouette = 0;\n",
        "  sum_calinski_harabasz = 0;\n",
        "  sum_davies_bouldin = 0;\n",
        "  for i in range(50):\n",
        "    kmeans = KMeans(n_clusters=3, n_init=1).fit(X);\n",
        "    sum_silhouette += metrics.silhouette_score(X, kmeans.labels_, metric='euclidean')\n",
        "    sum_calinski_harabasz += metrics.calinski_harabasz_score(X.toarray(), kmeans.labels_)\n",
        "    sum_davies_bouldin += metrics.davies_bouldin_score(X.toarray(), kmeans.labels_)\n",
        "  silhouette.append(sum_silhouette / 50)\n",
        "  calinski_harabasz.append(sum_calinski_harabasz / 50)\n",
        "  davies_bouldin.append(sum_davies_bouldin / 50)"
      ],
      "metadata": {
        "id": "c7qmJO1Pp8TB"
      },
      "execution_count": null,
      "outputs": []
    },
    {
      "cell_type": "code",
      "source": [
        "kmeans_metrics = pd.DataFrame({\n",
        "    \"Silhouette\": silhouette,\n",
        "    \"Calinski-Harabasz\": calinski_harabasz,\n",
        "    \"Davies-Bouldin\": davies_bouldin\n",
        "}, index=pd.Index([\"Full\", \"Nouns\", \"Nouns and adjs\"]))\n",
        "\n",
        "kmeans_metrics.style.set_table_styles([{'selector': 'td', 'props': [('font-size', '12pt'),('border-style','solid'),('border-width','1px')]},\n",
        "                                          {'selector': 'th', 'props': [('font-size', '12pt'),('border-style','solid'),('border-width','1px')]},\n",
        "                                          {'selector': 'caption', 'props': [('font-size', '24pt')]}]).set_caption(\"KMeans\")"
      ],
      "metadata": {
        "colab": {
          "base_uri": "https://localhost:8080/",
          "height": 203
        },
        "id": "DC4NvQgorykC",
        "outputId": "8b0a0b17-1d02-41d8-bec9-809cdd808272"
      },
      "execution_count": null,
      "outputs": [
        {
          "output_type": "execute_result",
          "data": {
            "text/plain": [
              "<pandas.io.formats.style.Styler at 0x788896b4c700>"
            ],
            "text/html": [
              "<style type=\"text/css\">\n",
              "#T_d5027 td {\n",
              "  font-size: 12pt;\n",
              "  border-style: solid;\n",
              "  border-width: 1px;\n",
              "}\n",
              "#T_d5027 th {\n",
              "  font-size: 12pt;\n",
              "  border-style: solid;\n",
              "  border-width: 1px;\n",
              "}\n",
              "#T_d5027 caption {\n",
              "  font-size: 24pt;\n",
              "}\n",
              "</style>\n",
              "<table id=\"T_d5027\" class=\"dataframe\">\n",
              "  <caption>KMeans</caption>\n",
              "  <thead>\n",
              "    <tr>\n",
              "      <th class=\"blank level0\" >&nbsp;</th>\n",
              "      <th id=\"T_d5027_level0_col0\" class=\"col_heading level0 col0\" >Silhouette</th>\n",
              "      <th id=\"T_d5027_level0_col1\" class=\"col_heading level0 col1\" >Calinski-Harabasz</th>\n",
              "      <th id=\"T_d5027_level0_col2\" class=\"col_heading level0 col2\" >Davies-Bouldin</th>\n",
              "    </tr>\n",
              "  </thead>\n",
              "  <tbody>\n",
              "    <tr>\n",
              "      <th id=\"T_d5027_level0_row0\" class=\"row_heading level0 row0\" >Full</th>\n",
              "      <td id=\"T_d5027_row0_col0\" class=\"data row0 col0\" >0.032139</td>\n",
              "      <td id=\"T_d5027_row0_col1\" class=\"data row0 col1\" >1.312279</td>\n",
              "      <td id=\"T_d5027_row0_col2\" class=\"data row0 col2\" >2.153762</td>\n",
              "    </tr>\n",
              "    <tr>\n",
              "      <th id=\"T_d5027_level0_row1\" class=\"row_heading level0 row1\" >Nouns</th>\n",
              "      <td id=\"T_d5027_row1_col0\" class=\"data row1 col0\" >0.035118</td>\n",
              "      <td id=\"T_d5027_row1_col1\" class=\"data row1 col1\" >1.293467</td>\n",
              "      <td id=\"T_d5027_row1_col2\" class=\"data row1 col2\" >2.007441</td>\n",
              "    </tr>\n",
              "    <tr>\n",
              "      <th id=\"T_d5027_level0_row2\" class=\"row_heading level0 row2\" >Nouns and adjs</th>\n",
              "      <td id=\"T_d5027_row2_col0\" class=\"data row2 col0\" >0.030238</td>\n",
              "      <td id=\"T_d5027_row2_col1\" class=\"data row2 col1\" >1.256030</td>\n",
              "      <td id=\"T_d5027_row2_col2\" class=\"data row2 col2\" >2.042764</td>\n",
              "    </tr>\n",
              "  </tbody>\n",
              "</table>\n"
            ]
          },
          "metadata": {},
          "execution_count": 17
        }
      ]
    },
    {
      "cell_type": "markdown",
      "source": [
        "Иерархическая кластеризация, метрика -- Евклидово расстояние:"
      ],
      "metadata": {
        "id": "z6a_r-7ouAUi"
      }
    },
    {
      "cell_type": "code",
      "source": [
        "aggl_euc_metrics = [[], [], []]\n",
        "\n",
        "datasets = [X_full, X_nouns, X_nouns_and_adjs]\n",
        "for i in range(3):\n",
        "  X = datasets[i]\n",
        "  for link in [\"ward\", \"complete\", \"average\", \"single\"]:\n",
        "    sum_silhouette = 0\n",
        "    sum_calinski_harabasz = 0\n",
        "    sum_davies_bouldin = 0\n",
        "    for j in range(50):\n",
        "      aggl = AgglomerativeClustering(n_clusters=3, linkage=link).fit(X.toarray())\n",
        "      sum_silhouette += metrics.silhouette_score(X, aggl.labels_, metric='euclidean')\n",
        "      sum_calinski_harabasz += metrics.calinski_harabasz_score(X.toarray(), aggl.labels_)\n",
        "      sum_davies_bouldin += metrics.davies_bouldin_score(X.toarray(), aggl.labels_)\n",
        "    aggl_euc_metrics[i].append(sum_silhouette / 50)\n",
        "    aggl_euc_metrics[i].append(sum_calinski_harabasz / 50)\n",
        "    aggl_euc_metrics[i].append(sum_davies_bouldin / 50)"
      ],
      "metadata": {
        "id": "WRw98KbDuDXM"
      },
      "execution_count": null,
      "outputs": []
    },
    {
      "cell_type": "code",
      "source": [
        "aggl_euc_metrics_table = pd.DataFrame(aggl_euc_metrics,\n",
        "                                index=pd.Index([\"Full\", \"Nouns\", \"Nouns and adjs\"]),\n",
        "                                columns=pd.MultiIndex.from_product([[\"ward\", \"complete\", \"average\", \"single\"],['Sil', 'Cal-Har', 'Dav-Boul']], names=['Metric', 'Linkage']))\n",
        "\n",
        "aggl_euc_metrics_table.style.set_table_styles([{'selector': 'td', 'props': [('font-size', '12pt'),('border-style','solid'),('border-width','1px')]},\n",
        "                                          {'selector': 'th', 'props': [('font-size', '12pt'),('border-style','solid'),('border-width','1px')]},\n",
        "                                          {'selector': 'caption', 'props': [('font-size', '24pt')]}]).set_caption(\"Agglomerative clustering, Euclidean\")"
      ],
      "metadata": {
        "colab": {
          "base_uri": "https://localhost:8080/",
          "height": 240
        },
        "id": "R597MFhCzJdS",
        "outputId": "8c061d4f-2ce6-426e-b80c-6c5eb6da3672"
      },
      "execution_count": null,
      "outputs": [
        {
          "output_type": "execute_result",
          "data": {
            "text/plain": [
              "<pandas.io.formats.style.Styler at 0x788896b8faf0>"
            ],
            "text/html": [
              "<style type=\"text/css\">\n",
              "#T_0cd62 td {\n",
              "  font-size: 12pt;\n",
              "  border-style: solid;\n",
              "  border-width: 1px;\n",
              "}\n",
              "#T_0cd62 th {\n",
              "  font-size: 12pt;\n",
              "  border-style: solid;\n",
              "  border-width: 1px;\n",
              "}\n",
              "#T_0cd62 caption {\n",
              "  font-size: 24pt;\n",
              "}\n",
              "</style>\n",
              "<table id=\"T_0cd62\" class=\"dataframe\">\n",
              "  <caption>Agglomerative clustering, Euclidean</caption>\n",
              "  <thead>\n",
              "    <tr>\n",
              "      <th class=\"index_name level0\" >Metric</th>\n",
              "      <th id=\"T_0cd62_level0_col0\" class=\"col_heading level0 col0\" colspan=\"3\">ward</th>\n",
              "      <th id=\"T_0cd62_level0_col3\" class=\"col_heading level0 col3\" colspan=\"3\">complete</th>\n",
              "      <th id=\"T_0cd62_level0_col6\" class=\"col_heading level0 col6\" colspan=\"3\">average</th>\n",
              "      <th id=\"T_0cd62_level0_col9\" class=\"col_heading level0 col9\" colspan=\"3\">single</th>\n",
              "    </tr>\n",
              "    <tr>\n",
              "      <th class=\"index_name level1\" >Linkage</th>\n",
              "      <th id=\"T_0cd62_level1_col0\" class=\"col_heading level1 col0\" >Sil</th>\n",
              "      <th id=\"T_0cd62_level1_col1\" class=\"col_heading level1 col1\" >Cal-Har</th>\n",
              "      <th id=\"T_0cd62_level1_col2\" class=\"col_heading level1 col2\" >Dav-Boul</th>\n",
              "      <th id=\"T_0cd62_level1_col3\" class=\"col_heading level1 col3\" >Sil</th>\n",
              "      <th id=\"T_0cd62_level1_col4\" class=\"col_heading level1 col4\" >Cal-Har</th>\n",
              "      <th id=\"T_0cd62_level1_col5\" class=\"col_heading level1 col5\" >Dav-Boul</th>\n",
              "      <th id=\"T_0cd62_level1_col6\" class=\"col_heading level1 col6\" >Sil</th>\n",
              "      <th id=\"T_0cd62_level1_col7\" class=\"col_heading level1 col7\" >Cal-Har</th>\n",
              "      <th id=\"T_0cd62_level1_col8\" class=\"col_heading level1 col8\" >Dav-Boul</th>\n",
              "      <th id=\"T_0cd62_level1_col9\" class=\"col_heading level1 col9\" >Sil</th>\n",
              "      <th id=\"T_0cd62_level1_col10\" class=\"col_heading level1 col10\" >Cal-Har</th>\n",
              "      <th id=\"T_0cd62_level1_col11\" class=\"col_heading level1 col11\" >Dav-Boul</th>\n",
              "    </tr>\n",
              "  </thead>\n",
              "  <tbody>\n",
              "    <tr>\n",
              "      <th id=\"T_0cd62_level0_row0\" class=\"row_heading level0 row0\" >Full</th>\n",
              "      <td id=\"T_0cd62_row0_col0\" class=\"data row0 col0\" >0.049486</td>\n",
              "      <td id=\"T_0cd62_row0_col1\" class=\"data row0 col1\" >1.465067</td>\n",
              "      <td id=\"T_0cd62_row0_col2\" class=\"data row0 col2\" >2.005048</td>\n",
              "      <td id=\"T_0cd62_row0_col3\" class=\"data row0 col3\" >0.031902</td>\n",
              "      <td id=\"T_0cd62_row0_col4\" class=\"data row0 col4\" >1.210878</td>\n",
              "      <td id=\"T_0cd62_row0_col5\" class=\"data row0 col5\" >1.794025</td>\n",
              "      <td id=\"T_0cd62_row0_col6\" class=\"data row0 col6\" >0.031902</td>\n",
              "      <td id=\"T_0cd62_row0_col7\" class=\"data row0 col7\" >1.210878</td>\n",
              "      <td id=\"T_0cd62_row0_col8\" class=\"data row0 col8\" >1.794025</td>\n",
              "      <td id=\"T_0cd62_row0_col9\" class=\"data row0 col9\" >0.021694</td>\n",
              "      <td id=\"T_0cd62_row0_col10\" class=\"data row0 col10\" >1.099680</td>\n",
              "      <td id=\"T_0cd62_row0_col11\" class=\"data row0 col11\" >0.862009</td>\n",
              "    </tr>\n",
              "    <tr>\n",
              "      <th id=\"T_0cd62_level0_row1\" class=\"row_heading level0 row1\" >Nouns</th>\n",
              "      <td id=\"T_0cd62_row1_col0\" class=\"data row1 col0\" >0.039729</td>\n",
              "      <td id=\"T_0cd62_row1_col1\" class=\"data row1 col1\" >1.354967</td>\n",
              "      <td id=\"T_0cd62_row1_col2\" class=\"data row1 col2\" >2.030981</td>\n",
              "      <td id=\"T_0cd62_row1_col3\" class=\"data row1 col3\" >0.036147</td>\n",
              "      <td id=\"T_0cd62_row1_col4\" class=\"data row1 col4\" >1.245839</td>\n",
              "      <td id=\"T_0cd62_row1_col5\" class=\"data row1 col5\" >1.704716</td>\n",
              "      <td id=\"T_0cd62_row1_col6\" class=\"data row1 col6\" >0.036147</td>\n",
              "      <td id=\"T_0cd62_row1_col7\" class=\"data row1 col7\" >1.245839</td>\n",
              "      <td id=\"T_0cd62_row1_col8\" class=\"data row1 col8\" >1.704716</td>\n",
              "      <td id=\"T_0cd62_row1_col9\" class=\"data row1 col9\" >0.013691</td>\n",
              "      <td id=\"T_0cd62_row1_col10\" class=\"data row1 col10\" >1.075505</td>\n",
              "      <td id=\"T_0cd62_row1_col11\" class=\"data row1 col11\" >0.863795</td>\n",
              "    </tr>\n",
              "    <tr>\n",
              "      <th id=\"T_0cd62_level0_row2\" class=\"row_heading level0 row2\" >Nouns and adjs</th>\n",
              "      <td id=\"T_0cd62_row2_col0\" class=\"data row2 col0\" >0.039938</td>\n",
              "      <td id=\"T_0cd62_row2_col1\" class=\"data row2 col1\" >1.307258</td>\n",
              "      <td id=\"T_0cd62_row2_col2\" class=\"data row2 col2\" >2.095859</td>\n",
              "      <td id=\"T_0cd62_row2_col3\" class=\"data row2 col3\" >0.027916</td>\n",
              "      <td id=\"T_0cd62_row2_col4\" class=\"data row2 col4\" >1.191898</td>\n",
              "      <td id=\"T_0cd62_row2_col5\" class=\"data row2 col5\" >1.759761</td>\n",
              "      <td id=\"T_0cd62_row2_col6\" class=\"data row2 col6\" >0.027916</td>\n",
              "      <td id=\"T_0cd62_row2_col7\" class=\"data row2 col7\" >1.191898</td>\n",
              "      <td id=\"T_0cd62_row2_col8\" class=\"data row2 col8\" >1.759761</td>\n",
              "      <td id=\"T_0cd62_row2_col9\" class=\"data row2 col9\" >0.013672</td>\n",
              "      <td id=\"T_0cd62_row2_col10\" class=\"data row2 col10\" >1.072034</td>\n",
              "      <td id=\"T_0cd62_row2_col11\" class=\"data row2 col11\" >0.864825</td>\n",
              "    </tr>\n",
              "  </tbody>\n",
              "</table>\n"
            ]
          },
          "metadata": {},
          "execution_count": 13
        }
      ]
    },
    {
      "cell_type": "markdown",
      "source": [
        "Иерархическая кластеризация, косинус:"
      ],
      "metadata": {
        "id": "sVC4Usxn8YB9"
      }
    },
    {
      "cell_type": "code",
      "source": [
        "aggl_cos_metrics = [[], [], []]\n",
        "\n",
        "datasets = [X_full, X_nouns, X_nouns_and_adjs]\n",
        "for i in range(3):\n",
        "  X = datasets[i]\n",
        "  for link in [\"complete\", \"average\", \"single\"]:\n",
        "    sum_silhouette = 0;\n",
        "    sum_calinski_harabasz = 0;\n",
        "    sum_davies_bouldin = 0;\n",
        "    for j in range(50):\n",
        "      aggl = AgglomerativeClustering(n_clusters=3, linkage=link, metric='cosine').fit(X.toarray())\n",
        "      sum_silhouette += metrics.silhouette_score(X, aggl.labels_, metric='euclidean')\n",
        "      sum_calinski_harabasz += metrics.calinski_harabasz_score(X.toarray(), aggl.labels_)\n",
        "      sum_davies_bouldin += metrics.davies_bouldin_score(X.toarray(), aggl.labels_)\n",
        "    aggl_cos_metrics[i].append(sum_silhouette / 50)\n",
        "    aggl_cos_metrics[i].append(sum_calinski_harabasz / 50)\n",
        "    aggl_cos_metrics[i].append(sum_davies_bouldin / 50)"
      ],
      "metadata": {
        "id": "vSEguubB8nKl"
      },
      "execution_count": null,
      "outputs": []
    },
    {
      "cell_type": "code",
      "source": [
        "aggl_cos_metrics_table = pd.DataFrame(aggl_cos_metrics,\n",
        "                                index=pd.Index([\"Full\", \"Nouns\", \"Nouns and adjs\"]),\n",
        "                                columns=pd.MultiIndex.from_product([[\"complete\", \"average\", \"single\"],['Sil', 'Cal-Har', 'Dav-Boul']], names=['Metric', 'Linkage']))\n",
        "\n",
        "s_aggl_cos = aggl_cos_metrics_table.style\n",
        "s_aggl_cos = s_aggl_cos.set_table_styles([{'selector': 'td', 'props': [('font-size', '12pt'),('border-style','solid'),('border-width','1px')]},\n",
        "                                          {'selector': 'th', 'props': [('font-size', '12pt'),('border-style','solid'),('border-width','1px')]},\n",
        "                                          {'selector': 'caption', 'props': [('font-size', '24pt')]}])\n",
        "s_aggl_cos.set_caption(\"Agglomerative clustering, cosine\")"
      ],
      "metadata": {
        "colab": {
          "base_uri": "https://localhost:8080/",
          "height": 240
        },
        "id": "WTUGB7Ip99b8",
        "outputId": "85b69675-84fc-45d7-cf3e-a1325f3731bc"
      },
      "execution_count": null,
      "outputs": [
        {
          "output_type": "execute_result",
          "data": {
            "text/plain": [
              "<pandas.io.formats.style.Styler at 0x788896f1fa60>"
            ],
            "text/html": [
              "<style type=\"text/css\">\n",
              "#T_8ddb1 td {\n",
              "  font-size: 12pt;\n",
              "  border-style: solid;\n",
              "  border-width: 1px;\n",
              "}\n",
              "#T_8ddb1 th {\n",
              "  font-size: 12pt;\n",
              "  border-style: solid;\n",
              "  border-width: 1px;\n",
              "}\n",
              "#T_8ddb1 caption {\n",
              "  font-size: 24pt;\n",
              "}\n",
              "</style>\n",
              "<table id=\"T_8ddb1\" class=\"dataframe\">\n",
              "  <caption>Agglomerative clustering, cosine</caption>\n",
              "  <thead>\n",
              "    <tr>\n",
              "      <th class=\"index_name level0\" >Metric</th>\n",
              "      <th id=\"T_8ddb1_level0_col0\" class=\"col_heading level0 col0\" colspan=\"3\">complete</th>\n",
              "      <th id=\"T_8ddb1_level0_col3\" class=\"col_heading level0 col3\" colspan=\"3\">average</th>\n",
              "      <th id=\"T_8ddb1_level0_col6\" class=\"col_heading level0 col6\" colspan=\"3\">single</th>\n",
              "    </tr>\n",
              "    <tr>\n",
              "      <th class=\"index_name level1\" >Linkage</th>\n",
              "      <th id=\"T_8ddb1_level1_col0\" class=\"col_heading level1 col0\" >Sil</th>\n",
              "      <th id=\"T_8ddb1_level1_col1\" class=\"col_heading level1 col1\" >Cal-Har</th>\n",
              "      <th id=\"T_8ddb1_level1_col2\" class=\"col_heading level1 col2\" >Dav-Boul</th>\n",
              "      <th id=\"T_8ddb1_level1_col3\" class=\"col_heading level1 col3\" >Sil</th>\n",
              "      <th id=\"T_8ddb1_level1_col4\" class=\"col_heading level1 col4\" >Cal-Har</th>\n",
              "      <th id=\"T_8ddb1_level1_col5\" class=\"col_heading level1 col5\" >Dav-Boul</th>\n",
              "      <th id=\"T_8ddb1_level1_col6\" class=\"col_heading level1 col6\" >Sil</th>\n",
              "      <th id=\"T_8ddb1_level1_col7\" class=\"col_heading level1 col7\" >Cal-Har</th>\n",
              "      <th id=\"T_8ddb1_level1_col8\" class=\"col_heading level1 col8\" >Dav-Boul</th>\n",
              "    </tr>\n",
              "  </thead>\n",
              "  <tbody>\n",
              "    <tr>\n",
              "      <th id=\"T_8ddb1_level0_row0\" class=\"row_heading level0 row0\" >Full</th>\n",
              "      <td id=\"T_8ddb1_row0_col0\" class=\"data row0 col0\" >0.031902</td>\n",
              "      <td id=\"T_8ddb1_row0_col1\" class=\"data row0 col1\" >1.210878</td>\n",
              "      <td id=\"T_8ddb1_row0_col2\" class=\"data row0 col2\" >1.794025</td>\n",
              "      <td id=\"T_8ddb1_row0_col3\" class=\"data row0 col3\" >0.031902</td>\n",
              "      <td id=\"T_8ddb1_row0_col4\" class=\"data row0 col4\" >1.210878</td>\n",
              "      <td id=\"T_8ddb1_row0_col5\" class=\"data row0 col5\" >1.794025</td>\n",
              "      <td id=\"T_8ddb1_row0_col6\" class=\"data row0 col6\" >0.021694</td>\n",
              "      <td id=\"T_8ddb1_row0_col7\" class=\"data row0 col7\" >1.099680</td>\n",
              "      <td id=\"T_8ddb1_row0_col8\" class=\"data row0 col8\" >0.862009</td>\n",
              "    </tr>\n",
              "    <tr>\n",
              "      <th id=\"T_8ddb1_level0_row1\" class=\"row_heading level0 row1\" >Nouns</th>\n",
              "      <td id=\"T_8ddb1_row1_col0\" class=\"data row1 col0\" >0.036147</td>\n",
              "      <td id=\"T_8ddb1_row1_col1\" class=\"data row1 col1\" >1.245839</td>\n",
              "      <td id=\"T_8ddb1_row1_col2\" class=\"data row1 col2\" >1.704716</td>\n",
              "      <td id=\"T_8ddb1_row1_col3\" class=\"data row1 col3\" >0.036147</td>\n",
              "      <td id=\"T_8ddb1_row1_col4\" class=\"data row1 col4\" >1.245839</td>\n",
              "      <td id=\"T_8ddb1_row1_col5\" class=\"data row1 col5\" >1.704716</td>\n",
              "      <td id=\"T_8ddb1_row1_col6\" class=\"data row1 col6\" >0.013691</td>\n",
              "      <td id=\"T_8ddb1_row1_col7\" class=\"data row1 col7\" >1.075505</td>\n",
              "      <td id=\"T_8ddb1_row1_col8\" class=\"data row1 col8\" >0.863795</td>\n",
              "    </tr>\n",
              "    <tr>\n",
              "      <th id=\"T_8ddb1_level0_row2\" class=\"row_heading level0 row2\" >Nouns and adjs</th>\n",
              "      <td id=\"T_8ddb1_row2_col0\" class=\"data row2 col0\" >0.027916</td>\n",
              "      <td id=\"T_8ddb1_row2_col1\" class=\"data row2 col1\" >1.191898</td>\n",
              "      <td id=\"T_8ddb1_row2_col2\" class=\"data row2 col2\" >1.759761</td>\n",
              "      <td id=\"T_8ddb1_row2_col3\" class=\"data row2 col3\" >0.027916</td>\n",
              "      <td id=\"T_8ddb1_row2_col4\" class=\"data row2 col4\" >1.191898</td>\n",
              "      <td id=\"T_8ddb1_row2_col5\" class=\"data row2 col5\" >1.759761</td>\n",
              "      <td id=\"T_8ddb1_row2_col6\" class=\"data row2 col6\" >0.013672</td>\n",
              "      <td id=\"T_8ddb1_row2_col7\" class=\"data row2 col7\" >1.072034</td>\n",
              "      <td id=\"T_8ddb1_row2_col8\" class=\"data row2 col8\" >0.864825</td>\n",
              "    </tr>\n",
              "  </tbody>\n",
              "</table>\n"
            ]
          },
          "metadata": {},
          "execution_count": 15
        }
      ]
    }
  ]
}