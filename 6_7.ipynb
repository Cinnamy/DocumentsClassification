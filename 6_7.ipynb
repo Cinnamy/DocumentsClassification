{
  "nbformat": 4,
  "nbformat_minor": 0,
  "metadata": {
    "colab": {
      "provenance": [],
      "collapsed_sections": [
        "MHw6Kw1iNapq",
        "4b3-rIY_NfCC",
        "3mSmbNVFPVsf",
        "mXz2RY5kPZ43",
        "8g2Osf2DPueN",
        "eCBEP-AfQUYg",
        "SYlPBt0bPRpo",
        "j6mzTfKFQ57s",
        "U2QSV297aWwd",
        "Ervbn540aZqh",
        "EIev4iUocPS3",
        "XbKyKNEFdEFR",
        "dv9lXALnemBF",
        "ixeT4URdekYf",
        "DLfDtvjze8Nz",
        "lTzw0tTlfZR6",
        "EhwSifzwfeH4",
        "JIT_Ygh_f51g",
        "0zDHrb6FgMK3",
        "38XH-qBwgb9U",
        "wi2P8QrEgeRm",
        "JxnzDgC8gwwl",
        "IQ0oeznShA6S",
        "R_f9BlHjhOun",
        "DgyD6MNbhmQ7",
        "xYReesO4hpkc",
        "Q43lnRJGiVhE",
        "jjk_UHlrihvk",
        "zArninuYi753",
        "-BtmiCrfjCKs",
        "BGHMmPaOjg6-",
        "xFFrY9AQj4fU"
      ],
      "authorship_tag": "ABX9TyO1JupW7+pqucdG7gFqaHYS",
      "include_colab_link": true
    },
    "kernelspec": {
      "name": "python3",
      "display_name": "Python 3"
    },
    "language_info": {
      "name": "python"
    },
    "widgets": {
      "application/vnd.jupyter.widget-state+json": {
        "f1dad7dc5c734ccd8061642ba1e2570a": {
          "model_module": "@jupyter-widgets/controls",
          "model_name": "HBoxModel",
          "model_module_version": "1.5.0",
          "state": {
            "_dom_classes": [],
            "_model_module": "@jupyter-widgets/controls",
            "_model_module_version": "1.5.0",
            "_model_name": "HBoxModel",
            "_view_count": null,
            "_view_module": "@jupyter-widgets/controls",
            "_view_module_version": "1.5.0",
            "_view_name": "HBoxView",
            "box_style": "",
            "children": [
              "IPY_MODEL_c9ff64da4fa64548a86ba229bcc638a8",
              "IPY_MODEL_62f2c439b85646068993194688644b66",
              "IPY_MODEL_d31c0ed7298e4ca493c2192e143d7284"
            ],
            "layout": "IPY_MODEL_642b84f7863d4cc1898bd46ad8b86fe0"
          }
        },
        "c9ff64da4fa64548a86ba229bcc638a8": {
          "model_module": "@jupyter-widgets/controls",
          "model_name": "HTMLModel",
          "model_module_version": "1.5.0",
          "state": {
            "_dom_classes": [],
            "_model_module": "@jupyter-widgets/controls",
            "_model_module_version": "1.5.0",
            "_model_name": "HTMLModel",
            "_view_count": null,
            "_view_module": "@jupyter-widgets/controls",
            "_view_module_version": "1.5.0",
            "_view_name": "HTMLView",
            "description": "",
            "description_tooltip": null,
            "layout": "IPY_MODEL_8716d58641324a24b8d38cc259a830f3",
            "placeholder": "​",
            "style": "IPY_MODEL_c94409d2058a429f82049d654f70621c",
            "value": "tokenizer_config.json: 100%"
          }
        },
        "62f2c439b85646068993194688644b66": {
          "model_module": "@jupyter-widgets/controls",
          "model_name": "FloatProgressModel",
          "model_module_version": "1.5.0",
          "state": {
            "_dom_classes": [],
            "_model_module": "@jupyter-widgets/controls",
            "_model_module_version": "1.5.0",
            "_model_name": "FloatProgressModel",
            "_view_count": null,
            "_view_module": "@jupyter-widgets/controls",
            "_view_module_version": "1.5.0",
            "_view_name": "ProgressView",
            "bar_style": "success",
            "description": "",
            "description_tooltip": null,
            "layout": "IPY_MODEL_302746d20a5341da921ab92bbbeb59c5",
            "max": 28,
            "min": 0,
            "orientation": "horizontal",
            "style": "IPY_MODEL_d3bcf7c9d02645beb2124618d44c68f3",
            "value": 28
          }
        },
        "d31c0ed7298e4ca493c2192e143d7284": {
          "model_module": "@jupyter-widgets/controls",
          "model_name": "HTMLModel",
          "model_module_version": "1.5.0",
          "state": {
            "_dom_classes": [],
            "_model_module": "@jupyter-widgets/controls",
            "_model_module_version": "1.5.0",
            "_model_name": "HTMLModel",
            "_view_count": null,
            "_view_module": "@jupyter-widgets/controls",
            "_view_module_version": "1.5.0",
            "_view_name": "HTMLView",
            "description": "",
            "description_tooltip": null,
            "layout": "IPY_MODEL_3806b5db40a4443d9b57b33b79f4c835",
            "placeholder": "​",
            "style": "IPY_MODEL_623c8b34ff12438fad24027785ff23fc",
            "value": " 28.0/28.0 [00:00&lt;00:00, 1.59kB/s]"
          }
        },
        "642b84f7863d4cc1898bd46ad8b86fe0": {
          "model_module": "@jupyter-widgets/base",
          "model_name": "LayoutModel",
          "model_module_version": "1.2.0",
          "state": {
            "_model_module": "@jupyter-widgets/base",
            "_model_module_version": "1.2.0",
            "_model_name": "LayoutModel",
            "_view_count": null,
            "_view_module": "@jupyter-widgets/base",
            "_view_module_version": "1.2.0",
            "_view_name": "LayoutView",
            "align_content": null,
            "align_items": null,
            "align_self": null,
            "border": null,
            "bottom": null,
            "display": null,
            "flex": null,
            "flex_flow": null,
            "grid_area": null,
            "grid_auto_columns": null,
            "grid_auto_flow": null,
            "grid_auto_rows": null,
            "grid_column": null,
            "grid_gap": null,
            "grid_row": null,
            "grid_template_areas": null,
            "grid_template_columns": null,
            "grid_template_rows": null,
            "height": null,
            "justify_content": null,
            "justify_items": null,
            "left": null,
            "margin": null,
            "max_height": null,
            "max_width": null,
            "min_height": null,
            "min_width": null,
            "object_fit": null,
            "object_position": null,
            "order": null,
            "overflow": null,
            "overflow_x": null,
            "overflow_y": null,
            "padding": null,
            "right": null,
            "top": null,
            "visibility": null,
            "width": null
          }
        },
        "8716d58641324a24b8d38cc259a830f3": {
          "model_module": "@jupyter-widgets/base",
          "model_name": "LayoutModel",
          "model_module_version": "1.2.0",
          "state": {
            "_model_module": "@jupyter-widgets/base",
            "_model_module_version": "1.2.0",
            "_model_name": "LayoutModel",
            "_view_count": null,
            "_view_module": "@jupyter-widgets/base",
            "_view_module_version": "1.2.0",
            "_view_name": "LayoutView",
            "align_content": null,
            "align_items": null,
            "align_self": null,
            "border": null,
            "bottom": null,
            "display": null,
            "flex": null,
            "flex_flow": null,
            "grid_area": null,
            "grid_auto_columns": null,
            "grid_auto_flow": null,
            "grid_auto_rows": null,
            "grid_column": null,
            "grid_gap": null,
            "grid_row": null,
            "grid_template_areas": null,
            "grid_template_columns": null,
            "grid_template_rows": null,
            "height": null,
            "justify_content": null,
            "justify_items": null,
            "left": null,
            "margin": null,
            "max_height": null,
            "max_width": null,
            "min_height": null,
            "min_width": null,
            "object_fit": null,
            "object_position": null,
            "order": null,
            "overflow": null,
            "overflow_x": null,
            "overflow_y": null,
            "padding": null,
            "right": null,
            "top": null,
            "visibility": null,
            "width": null
          }
        },
        "c94409d2058a429f82049d654f70621c": {
          "model_module": "@jupyter-widgets/controls",
          "model_name": "DescriptionStyleModel",
          "model_module_version": "1.5.0",
          "state": {
            "_model_module": "@jupyter-widgets/controls",
            "_model_module_version": "1.5.0",
            "_model_name": "DescriptionStyleModel",
            "_view_count": null,
            "_view_module": "@jupyter-widgets/base",
            "_view_module_version": "1.2.0",
            "_view_name": "StyleView",
            "description_width": ""
          }
        },
        "302746d20a5341da921ab92bbbeb59c5": {
          "model_module": "@jupyter-widgets/base",
          "model_name": "LayoutModel",
          "model_module_version": "1.2.0",
          "state": {
            "_model_module": "@jupyter-widgets/base",
            "_model_module_version": "1.2.0",
            "_model_name": "LayoutModel",
            "_view_count": null,
            "_view_module": "@jupyter-widgets/base",
            "_view_module_version": "1.2.0",
            "_view_name": "LayoutView",
            "align_content": null,
            "align_items": null,
            "align_self": null,
            "border": null,
            "bottom": null,
            "display": null,
            "flex": null,
            "flex_flow": null,
            "grid_area": null,
            "grid_auto_columns": null,
            "grid_auto_flow": null,
            "grid_auto_rows": null,
            "grid_column": null,
            "grid_gap": null,
            "grid_row": null,
            "grid_template_areas": null,
            "grid_template_columns": null,
            "grid_template_rows": null,
            "height": null,
            "justify_content": null,
            "justify_items": null,
            "left": null,
            "margin": null,
            "max_height": null,
            "max_width": null,
            "min_height": null,
            "min_width": null,
            "object_fit": null,
            "object_position": null,
            "order": null,
            "overflow": null,
            "overflow_x": null,
            "overflow_y": null,
            "padding": null,
            "right": null,
            "top": null,
            "visibility": null,
            "width": null
          }
        },
        "d3bcf7c9d02645beb2124618d44c68f3": {
          "model_module": "@jupyter-widgets/controls",
          "model_name": "ProgressStyleModel",
          "model_module_version": "1.5.0",
          "state": {
            "_model_module": "@jupyter-widgets/controls",
            "_model_module_version": "1.5.0",
            "_model_name": "ProgressStyleModel",
            "_view_count": null,
            "_view_module": "@jupyter-widgets/base",
            "_view_module_version": "1.2.0",
            "_view_name": "StyleView",
            "bar_color": null,
            "description_width": ""
          }
        },
        "3806b5db40a4443d9b57b33b79f4c835": {
          "model_module": "@jupyter-widgets/base",
          "model_name": "LayoutModel",
          "model_module_version": "1.2.0",
          "state": {
            "_model_module": "@jupyter-widgets/base",
            "_model_module_version": "1.2.0",
            "_model_name": "LayoutModel",
            "_view_count": null,
            "_view_module": "@jupyter-widgets/base",
            "_view_module_version": "1.2.0",
            "_view_name": "LayoutView",
            "align_content": null,
            "align_items": null,
            "align_self": null,
            "border": null,
            "bottom": null,
            "display": null,
            "flex": null,
            "flex_flow": null,
            "grid_area": null,
            "grid_auto_columns": null,
            "grid_auto_flow": null,
            "grid_auto_rows": null,
            "grid_column": null,
            "grid_gap": null,
            "grid_row": null,
            "grid_template_areas": null,
            "grid_template_columns": null,
            "grid_template_rows": null,
            "height": null,
            "justify_content": null,
            "justify_items": null,
            "left": null,
            "margin": null,
            "max_height": null,
            "max_width": null,
            "min_height": null,
            "min_width": null,
            "object_fit": null,
            "object_position": null,
            "order": null,
            "overflow": null,
            "overflow_x": null,
            "overflow_y": null,
            "padding": null,
            "right": null,
            "top": null,
            "visibility": null,
            "width": null
          }
        },
        "623c8b34ff12438fad24027785ff23fc": {
          "model_module": "@jupyter-widgets/controls",
          "model_name": "DescriptionStyleModel",
          "model_module_version": "1.5.0",
          "state": {
            "_model_module": "@jupyter-widgets/controls",
            "_model_module_version": "1.5.0",
            "_model_name": "DescriptionStyleModel",
            "_view_count": null,
            "_view_module": "@jupyter-widgets/base",
            "_view_module_version": "1.2.0",
            "_view_name": "StyleView",
            "description_width": ""
          }
        },
        "16602bc9c2f6448990f94e934867ee27": {
          "model_module": "@jupyter-widgets/controls",
          "model_name": "HBoxModel",
          "model_module_version": "1.5.0",
          "state": {
            "_dom_classes": [],
            "_model_module": "@jupyter-widgets/controls",
            "_model_module_version": "1.5.0",
            "_model_name": "HBoxModel",
            "_view_count": null,
            "_view_module": "@jupyter-widgets/controls",
            "_view_module_version": "1.5.0",
            "_view_name": "HBoxView",
            "box_style": "",
            "children": [
              "IPY_MODEL_71062052b1444fea861e2433c909552b",
              "IPY_MODEL_f83ca71e3a7f4c698be087f1013fe5e9",
              "IPY_MODEL_f8844b500b7e4589859b56444800ec35"
            ],
            "layout": "IPY_MODEL_092d36e0d1ab429e86aca1e889288847"
          }
        },
        "71062052b1444fea861e2433c909552b": {
          "model_module": "@jupyter-widgets/controls",
          "model_name": "HTMLModel",
          "model_module_version": "1.5.0",
          "state": {
            "_dom_classes": [],
            "_model_module": "@jupyter-widgets/controls",
            "_model_module_version": "1.5.0",
            "_model_name": "HTMLModel",
            "_view_count": null,
            "_view_module": "@jupyter-widgets/controls",
            "_view_module_version": "1.5.0",
            "_view_name": "HTMLView",
            "description": "",
            "description_tooltip": null,
            "layout": "IPY_MODEL_1aac37928f724191a9644ff92b677f5c",
            "placeholder": "​",
            "style": "IPY_MODEL_98de0845c4164f5ab9c7c034b823f179",
            "value": "vocab.txt: 100%"
          }
        },
        "f83ca71e3a7f4c698be087f1013fe5e9": {
          "model_module": "@jupyter-widgets/controls",
          "model_name": "FloatProgressModel",
          "model_module_version": "1.5.0",
          "state": {
            "_dom_classes": [],
            "_model_module": "@jupyter-widgets/controls",
            "_model_module_version": "1.5.0",
            "_model_name": "FloatProgressModel",
            "_view_count": null,
            "_view_module": "@jupyter-widgets/controls",
            "_view_module_version": "1.5.0",
            "_view_name": "ProgressView",
            "bar_style": "success",
            "description": "",
            "description_tooltip": null,
            "layout": "IPY_MODEL_3b9f6d646934424a944ec2a26893d4e2",
            "max": 231508,
            "min": 0,
            "orientation": "horizontal",
            "style": "IPY_MODEL_762599b7c0fb477db375855129b2602d",
            "value": 231508
          }
        },
        "f8844b500b7e4589859b56444800ec35": {
          "model_module": "@jupyter-widgets/controls",
          "model_name": "HTMLModel",
          "model_module_version": "1.5.0",
          "state": {
            "_dom_classes": [],
            "_model_module": "@jupyter-widgets/controls",
            "_model_module_version": "1.5.0",
            "_model_name": "HTMLModel",
            "_view_count": null,
            "_view_module": "@jupyter-widgets/controls",
            "_view_module_version": "1.5.0",
            "_view_name": "HTMLView",
            "description": "",
            "description_tooltip": null,
            "layout": "IPY_MODEL_aac6f98b288347acab03cf0b91fb7007",
            "placeholder": "​",
            "style": "IPY_MODEL_0c2d8f8d03424484957cd27488f20772",
            "value": " 232k/232k [00:00&lt;00:00, 3.80MB/s]"
          }
        },
        "092d36e0d1ab429e86aca1e889288847": {
          "model_module": "@jupyter-widgets/base",
          "model_name": "LayoutModel",
          "model_module_version": "1.2.0",
          "state": {
            "_model_module": "@jupyter-widgets/base",
            "_model_module_version": "1.2.0",
            "_model_name": "LayoutModel",
            "_view_count": null,
            "_view_module": "@jupyter-widgets/base",
            "_view_module_version": "1.2.0",
            "_view_name": "LayoutView",
            "align_content": null,
            "align_items": null,
            "align_self": null,
            "border": null,
            "bottom": null,
            "display": null,
            "flex": null,
            "flex_flow": null,
            "grid_area": null,
            "grid_auto_columns": null,
            "grid_auto_flow": null,
            "grid_auto_rows": null,
            "grid_column": null,
            "grid_gap": null,
            "grid_row": null,
            "grid_template_areas": null,
            "grid_template_columns": null,
            "grid_template_rows": null,
            "height": null,
            "justify_content": null,
            "justify_items": null,
            "left": null,
            "margin": null,
            "max_height": null,
            "max_width": null,
            "min_height": null,
            "min_width": null,
            "object_fit": null,
            "object_position": null,
            "order": null,
            "overflow": null,
            "overflow_x": null,
            "overflow_y": null,
            "padding": null,
            "right": null,
            "top": null,
            "visibility": null,
            "width": null
          }
        },
        "1aac37928f724191a9644ff92b677f5c": {
          "model_module": "@jupyter-widgets/base",
          "model_name": "LayoutModel",
          "model_module_version": "1.2.0",
          "state": {
            "_model_module": "@jupyter-widgets/base",
            "_model_module_version": "1.2.0",
            "_model_name": "LayoutModel",
            "_view_count": null,
            "_view_module": "@jupyter-widgets/base",
            "_view_module_version": "1.2.0",
            "_view_name": "LayoutView",
            "align_content": null,
            "align_items": null,
            "align_self": null,
            "border": null,
            "bottom": null,
            "display": null,
            "flex": null,
            "flex_flow": null,
            "grid_area": null,
            "grid_auto_columns": null,
            "grid_auto_flow": null,
            "grid_auto_rows": null,
            "grid_column": null,
            "grid_gap": null,
            "grid_row": null,
            "grid_template_areas": null,
            "grid_template_columns": null,
            "grid_template_rows": null,
            "height": null,
            "justify_content": null,
            "justify_items": null,
            "left": null,
            "margin": null,
            "max_height": null,
            "max_width": null,
            "min_height": null,
            "min_width": null,
            "object_fit": null,
            "object_position": null,
            "order": null,
            "overflow": null,
            "overflow_x": null,
            "overflow_y": null,
            "padding": null,
            "right": null,
            "top": null,
            "visibility": null,
            "width": null
          }
        },
        "98de0845c4164f5ab9c7c034b823f179": {
          "model_module": "@jupyter-widgets/controls",
          "model_name": "DescriptionStyleModel",
          "model_module_version": "1.5.0",
          "state": {
            "_model_module": "@jupyter-widgets/controls",
            "_model_module_version": "1.5.0",
            "_model_name": "DescriptionStyleModel",
            "_view_count": null,
            "_view_module": "@jupyter-widgets/base",
            "_view_module_version": "1.2.0",
            "_view_name": "StyleView",
            "description_width": ""
          }
        },
        "3b9f6d646934424a944ec2a26893d4e2": {
          "model_module": "@jupyter-widgets/base",
          "model_name": "LayoutModel",
          "model_module_version": "1.2.0",
          "state": {
            "_model_module": "@jupyter-widgets/base",
            "_model_module_version": "1.2.0",
            "_model_name": "LayoutModel",
            "_view_count": null,
            "_view_module": "@jupyter-widgets/base",
            "_view_module_version": "1.2.0",
            "_view_name": "LayoutView",
            "align_content": null,
            "align_items": null,
            "align_self": null,
            "border": null,
            "bottom": null,
            "display": null,
            "flex": null,
            "flex_flow": null,
            "grid_area": null,
            "grid_auto_columns": null,
            "grid_auto_flow": null,
            "grid_auto_rows": null,
            "grid_column": null,
            "grid_gap": null,
            "grid_row": null,
            "grid_template_areas": null,
            "grid_template_columns": null,
            "grid_template_rows": null,
            "height": null,
            "justify_content": null,
            "justify_items": null,
            "left": null,
            "margin": null,
            "max_height": null,
            "max_width": null,
            "min_height": null,
            "min_width": null,
            "object_fit": null,
            "object_position": null,
            "order": null,
            "overflow": null,
            "overflow_x": null,
            "overflow_y": null,
            "padding": null,
            "right": null,
            "top": null,
            "visibility": null,
            "width": null
          }
        },
        "762599b7c0fb477db375855129b2602d": {
          "model_module": "@jupyter-widgets/controls",
          "model_name": "ProgressStyleModel",
          "model_module_version": "1.5.0",
          "state": {
            "_model_module": "@jupyter-widgets/controls",
            "_model_module_version": "1.5.0",
            "_model_name": "ProgressStyleModel",
            "_view_count": null,
            "_view_module": "@jupyter-widgets/base",
            "_view_module_version": "1.2.0",
            "_view_name": "StyleView",
            "bar_color": null,
            "description_width": ""
          }
        },
        "aac6f98b288347acab03cf0b91fb7007": {
          "model_module": "@jupyter-widgets/base",
          "model_name": "LayoutModel",
          "model_module_version": "1.2.0",
          "state": {
            "_model_module": "@jupyter-widgets/base",
            "_model_module_version": "1.2.0",
            "_model_name": "LayoutModel",
            "_view_count": null,
            "_view_module": "@jupyter-widgets/base",
            "_view_module_version": "1.2.0",
            "_view_name": "LayoutView",
            "align_content": null,
            "align_items": null,
            "align_self": null,
            "border": null,
            "bottom": null,
            "display": null,
            "flex": null,
            "flex_flow": null,
            "grid_area": null,
            "grid_auto_columns": null,
            "grid_auto_flow": null,
            "grid_auto_rows": null,
            "grid_column": null,
            "grid_gap": null,
            "grid_row": null,
            "grid_template_areas": null,
            "grid_template_columns": null,
            "grid_template_rows": null,
            "height": null,
            "justify_content": null,
            "justify_items": null,
            "left": null,
            "margin": null,
            "max_height": null,
            "max_width": null,
            "min_height": null,
            "min_width": null,
            "object_fit": null,
            "object_position": null,
            "order": null,
            "overflow": null,
            "overflow_x": null,
            "overflow_y": null,
            "padding": null,
            "right": null,
            "top": null,
            "visibility": null,
            "width": null
          }
        },
        "0c2d8f8d03424484957cd27488f20772": {
          "model_module": "@jupyter-widgets/controls",
          "model_name": "DescriptionStyleModel",
          "model_module_version": "1.5.0",
          "state": {
            "_model_module": "@jupyter-widgets/controls",
            "_model_module_version": "1.5.0",
            "_model_name": "DescriptionStyleModel",
            "_view_count": null,
            "_view_module": "@jupyter-widgets/base",
            "_view_module_version": "1.2.0",
            "_view_name": "StyleView",
            "description_width": ""
          }
        },
        "3f1c9be5bcdf415588bf1156611cf4d9": {
          "model_module": "@jupyter-widgets/controls",
          "model_name": "HBoxModel",
          "model_module_version": "1.5.0",
          "state": {
            "_dom_classes": [],
            "_model_module": "@jupyter-widgets/controls",
            "_model_module_version": "1.5.0",
            "_model_name": "HBoxModel",
            "_view_count": null,
            "_view_module": "@jupyter-widgets/controls",
            "_view_module_version": "1.5.0",
            "_view_name": "HBoxView",
            "box_style": "",
            "children": [
              "IPY_MODEL_35c8093d3771429cb7d67ad538938188",
              "IPY_MODEL_abda3c5fa1384e1d8cc5b70d2cca7a98",
              "IPY_MODEL_971a0ae2497f4fd3b8761cf01d8214e5"
            ],
            "layout": "IPY_MODEL_d2e159b3afc64d39a8ab251046c624d2"
          }
        },
        "35c8093d3771429cb7d67ad538938188": {
          "model_module": "@jupyter-widgets/controls",
          "model_name": "HTMLModel",
          "model_module_version": "1.5.0",
          "state": {
            "_dom_classes": [],
            "_model_module": "@jupyter-widgets/controls",
            "_model_module_version": "1.5.0",
            "_model_name": "HTMLModel",
            "_view_count": null,
            "_view_module": "@jupyter-widgets/controls",
            "_view_module_version": "1.5.0",
            "_view_name": "HTMLView",
            "description": "",
            "description_tooltip": null,
            "layout": "IPY_MODEL_0f729d0c3248456ea86ad9a640f5e589",
            "placeholder": "​",
            "style": "IPY_MODEL_a0591729c5c640e0a160fd56561e20db",
            "value": "tokenizer.json: 100%"
          }
        },
        "abda3c5fa1384e1d8cc5b70d2cca7a98": {
          "model_module": "@jupyter-widgets/controls",
          "model_name": "FloatProgressModel",
          "model_module_version": "1.5.0",
          "state": {
            "_dom_classes": [],
            "_model_module": "@jupyter-widgets/controls",
            "_model_module_version": "1.5.0",
            "_model_name": "FloatProgressModel",
            "_view_count": null,
            "_view_module": "@jupyter-widgets/controls",
            "_view_module_version": "1.5.0",
            "_view_name": "ProgressView",
            "bar_style": "success",
            "description": "",
            "description_tooltip": null,
            "layout": "IPY_MODEL_726b5fffe7be4f37b089834b78928391",
            "max": 466062,
            "min": 0,
            "orientation": "horizontal",
            "style": "IPY_MODEL_78c3ebeed61a442596df6ef94dd2fd1a",
            "value": 466062
          }
        },
        "971a0ae2497f4fd3b8761cf01d8214e5": {
          "model_module": "@jupyter-widgets/controls",
          "model_name": "HTMLModel",
          "model_module_version": "1.5.0",
          "state": {
            "_dom_classes": [],
            "_model_module": "@jupyter-widgets/controls",
            "_model_module_version": "1.5.0",
            "_model_name": "HTMLModel",
            "_view_count": null,
            "_view_module": "@jupyter-widgets/controls",
            "_view_module_version": "1.5.0",
            "_view_name": "HTMLView",
            "description": "",
            "description_tooltip": null,
            "layout": "IPY_MODEL_15c67c209bae4a46bd369803f26065b7",
            "placeholder": "​",
            "style": "IPY_MODEL_55a2e6b51f3f4cf88c928d8fa6d97480",
            "value": " 466k/466k [00:00&lt;00:00, 15.6MB/s]"
          }
        },
        "d2e159b3afc64d39a8ab251046c624d2": {
          "model_module": "@jupyter-widgets/base",
          "model_name": "LayoutModel",
          "model_module_version": "1.2.0",
          "state": {
            "_model_module": "@jupyter-widgets/base",
            "_model_module_version": "1.2.0",
            "_model_name": "LayoutModel",
            "_view_count": null,
            "_view_module": "@jupyter-widgets/base",
            "_view_module_version": "1.2.0",
            "_view_name": "LayoutView",
            "align_content": null,
            "align_items": null,
            "align_self": null,
            "border": null,
            "bottom": null,
            "display": null,
            "flex": null,
            "flex_flow": null,
            "grid_area": null,
            "grid_auto_columns": null,
            "grid_auto_flow": null,
            "grid_auto_rows": null,
            "grid_column": null,
            "grid_gap": null,
            "grid_row": null,
            "grid_template_areas": null,
            "grid_template_columns": null,
            "grid_template_rows": null,
            "height": null,
            "justify_content": null,
            "justify_items": null,
            "left": null,
            "margin": null,
            "max_height": null,
            "max_width": null,
            "min_height": null,
            "min_width": null,
            "object_fit": null,
            "object_position": null,
            "order": null,
            "overflow": null,
            "overflow_x": null,
            "overflow_y": null,
            "padding": null,
            "right": null,
            "top": null,
            "visibility": null,
            "width": null
          }
        },
        "0f729d0c3248456ea86ad9a640f5e589": {
          "model_module": "@jupyter-widgets/base",
          "model_name": "LayoutModel",
          "model_module_version": "1.2.0",
          "state": {
            "_model_module": "@jupyter-widgets/base",
            "_model_module_version": "1.2.0",
            "_model_name": "LayoutModel",
            "_view_count": null,
            "_view_module": "@jupyter-widgets/base",
            "_view_module_version": "1.2.0",
            "_view_name": "LayoutView",
            "align_content": null,
            "align_items": null,
            "align_self": null,
            "border": null,
            "bottom": null,
            "display": null,
            "flex": null,
            "flex_flow": null,
            "grid_area": null,
            "grid_auto_columns": null,
            "grid_auto_flow": null,
            "grid_auto_rows": null,
            "grid_column": null,
            "grid_gap": null,
            "grid_row": null,
            "grid_template_areas": null,
            "grid_template_columns": null,
            "grid_template_rows": null,
            "height": null,
            "justify_content": null,
            "justify_items": null,
            "left": null,
            "margin": null,
            "max_height": null,
            "max_width": null,
            "min_height": null,
            "min_width": null,
            "object_fit": null,
            "object_position": null,
            "order": null,
            "overflow": null,
            "overflow_x": null,
            "overflow_y": null,
            "padding": null,
            "right": null,
            "top": null,
            "visibility": null,
            "width": null
          }
        },
        "a0591729c5c640e0a160fd56561e20db": {
          "model_module": "@jupyter-widgets/controls",
          "model_name": "DescriptionStyleModel",
          "model_module_version": "1.5.0",
          "state": {
            "_model_module": "@jupyter-widgets/controls",
            "_model_module_version": "1.5.0",
            "_model_name": "DescriptionStyleModel",
            "_view_count": null,
            "_view_module": "@jupyter-widgets/base",
            "_view_module_version": "1.2.0",
            "_view_name": "StyleView",
            "description_width": ""
          }
        },
        "726b5fffe7be4f37b089834b78928391": {
          "model_module": "@jupyter-widgets/base",
          "model_name": "LayoutModel",
          "model_module_version": "1.2.0",
          "state": {
            "_model_module": "@jupyter-widgets/base",
            "_model_module_version": "1.2.0",
            "_model_name": "LayoutModel",
            "_view_count": null,
            "_view_module": "@jupyter-widgets/base",
            "_view_module_version": "1.2.0",
            "_view_name": "LayoutView",
            "align_content": null,
            "align_items": null,
            "align_self": null,
            "border": null,
            "bottom": null,
            "display": null,
            "flex": null,
            "flex_flow": null,
            "grid_area": null,
            "grid_auto_columns": null,
            "grid_auto_flow": null,
            "grid_auto_rows": null,
            "grid_column": null,
            "grid_gap": null,
            "grid_row": null,
            "grid_template_areas": null,
            "grid_template_columns": null,
            "grid_template_rows": null,
            "height": null,
            "justify_content": null,
            "justify_items": null,
            "left": null,
            "margin": null,
            "max_height": null,
            "max_width": null,
            "min_height": null,
            "min_width": null,
            "object_fit": null,
            "object_position": null,
            "order": null,
            "overflow": null,
            "overflow_x": null,
            "overflow_y": null,
            "padding": null,
            "right": null,
            "top": null,
            "visibility": null,
            "width": null
          }
        },
        "78c3ebeed61a442596df6ef94dd2fd1a": {
          "model_module": "@jupyter-widgets/controls",
          "model_name": "ProgressStyleModel",
          "model_module_version": "1.5.0",
          "state": {
            "_model_module": "@jupyter-widgets/controls",
            "_model_module_version": "1.5.0",
            "_model_name": "ProgressStyleModel",
            "_view_count": null,
            "_view_module": "@jupyter-widgets/base",
            "_view_module_version": "1.2.0",
            "_view_name": "StyleView",
            "bar_color": null,
            "description_width": ""
          }
        },
        "15c67c209bae4a46bd369803f26065b7": {
          "model_module": "@jupyter-widgets/base",
          "model_name": "LayoutModel",
          "model_module_version": "1.2.0",
          "state": {
            "_model_module": "@jupyter-widgets/base",
            "_model_module_version": "1.2.0",
            "_model_name": "LayoutModel",
            "_view_count": null,
            "_view_module": "@jupyter-widgets/base",
            "_view_module_version": "1.2.0",
            "_view_name": "LayoutView",
            "align_content": null,
            "align_items": null,
            "align_self": null,
            "border": null,
            "bottom": null,
            "display": null,
            "flex": null,
            "flex_flow": null,
            "grid_area": null,
            "grid_auto_columns": null,
            "grid_auto_flow": null,
            "grid_auto_rows": null,
            "grid_column": null,
            "grid_gap": null,
            "grid_row": null,
            "grid_template_areas": null,
            "grid_template_columns": null,
            "grid_template_rows": null,
            "height": null,
            "justify_content": null,
            "justify_items": null,
            "left": null,
            "margin": null,
            "max_height": null,
            "max_width": null,
            "min_height": null,
            "min_width": null,
            "object_fit": null,
            "object_position": null,
            "order": null,
            "overflow": null,
            "overflow_x": null,
            "overflow_y": null,
            "padding": null,
            "right": null,
            "top": null,
            "visibility": null,
            "width": null
          }
        },
        "55a2e6b51f3f4cf88c928d8fa6d97480": {
          "model_module": "@jupyter-widgets/controls",
          "model_name": "DescriptionStyleModel",
          "model_module_version": "1.5.0",
          "state": {
            "_model_module": "@jupyter-widgets/controls",
            "_model_module_version": "1.5.0",
            "_model_name": "DescriptionStyleModel",
            "_view_count": null,
            "_view_module": "@jupyter-widgets/base",
            "_view_module_version": "1.2.0",
            "_view_name": "StyleView",
            "description_width": ""
          }
        },
        "6812cfacd841496fba63c97c7bba9ecf": {
          "model_module": "@jupyter-widgets/controls",
          "model_name": "HBoxModel",
          "model_module_version": "1.5.0",
          "state": {
            "_dom_classes": [],
            "_model_module": "@jupyter-widgets/controls",
            "_model_module_version": "1.5.0",
            "_model_name": "HBoxModel",
            "_view_count": null,
            "_view_module": "@jupyter-widgets/controls",
            "_view_module_version": "1.5.0",
            "_view_name": "HBoxView",
            "box_style": "",
            "children": [
              "IPY_MODEL_1a67d2beb1064b5bbcc9b88aade48cc5",
              "IPY_MODEL_7187de76e40544b08c24154ce0e97e2b",
              "IPY_MODEL_9324c5d8505d4a80af7d39d2b7f848c9"
            ],
            "layout": "IPY_MODEL_7cba903a4bb9463bb751793e765e2ae1"
          }
        },
        "1a67d2beb1064b5bbcc9b88aade48cc5": {
          "model_module": "@jupyter-widgets/controls",
          "model_name": "HTMLModel",
          "model_module_version": "1.5.0",
          "state": {
            "_dom_classes": [],
            "_model_module": "@jupyter-widgets/controls",
            "_model_module_version": "1.5.0",
            "_model_name": "HTMLModel",
            "_view_count": null,
            "_view_module": "@jupyter-widgets/controls",
            "_view_module_version": "1.5.0",
            "_view_name": "HTMLView",
            "description": "",
            "description_tooltip": null,
            "layout": "IPY_MODEL_7ab45595ee7542138dace908c6ec3eed",
            "placeholder": "​",
            "style": "IPY_MODEL_ebc9127a12ce422abbf58bc2b91c1641",
            "value": "config.json: 100%"
          }
        },
        "7187de76e40544b08c24154ce0e97e2b": {
          "model_module": "@jupyter-widgets/controls",
          "model_name": "FloatProgressModel",
          "model_module_version": "1.5.0",
          "state": {
            "_dom_classes": [],
            "_model_module": "@jupyter-widgets/controls",
            "_model_module_version": "1.5.0",
            "_model_name": "FloatProgressModel",
            "_view_count": null,
            "_view_module": "@jupyter-widgets/controls",
            "_view_module_version": "1.5.0",
            "_view_name": "ProgressView",
            "bar_style": "success",
            "description": "",
            "description_tooltip": null,
            "layout": "IPY_MODEL_66cd717e719744778a95f07df0caa270",
            "max": 483,
            "min": 0,
            "orientation": "horizontal",
            "style": "IPY_MODEL_13c950cabc7e4ff1b250a33d1a9fae89",
            "value": 483
          }
        },
        "9324c5d8505d4a80af7d39d2b7f848c9": {
          "model_module": "@jupyter-widgets/controls",
          "model_name": "HTMLModel",
          "model_module_version": "1.5.0",
          "state": {
            "_dom_classes": [],
            "_model_module": "@jupyter-widgets/controls",
            "_model_module_version": "1.5.0",
            "_model_name": "HTMLModel",
            "_view_count": null,
            "_view_module": "@jupyter-widgets/controls",
            "_view_module_version": "1.5.0",
            "_view_name": "HTMLView",
            "description": "",
            "description_tooltip": null,
            "layout": "IPY_MODEL_d089e5238fe247d49dc6639d0f3946e6",
            "placeholder": "​",
            "style": "IPY_MODEL_8998a17b68bb4d7ba1e47ad72ba11c69",
            "value": " 483/483 [00:00&lt;00:00, 28.8kB/s]"
          }
        },
        "7cba903a4bb9463bb751793e765e2ae1": {
          "model_module": "@jupyter-widgets/base",
          "model_name": "LayoutModel",
          "model_module_version": "1.2.0",
          "state": {
            "_model_module": "@jupyter-widgets/base",
            "_model_module_version": "1.2.0",
            "_model_name": "LayoutModel",
            "_view_count": null,
            "_view_module": "@jupyter-widgets/base",
            "_view_module_version": "1.2.0",
            "_view_name": "LayoutView",
            "align_content": null,
            "align_items": null,
            "align_self": null,
            "border": null,
            "bottom": null,
            "display": null,
            "flex": null,
            "flex_flow": null,
            "grid_area": null,
            "grid_auto_columns": null,
            "grid_auto_flow": null,
            "grid_auto_rows": null,
            "grid_column": null,
            "grid_gap": null,
            "grid_row": null,
            "grid_template_areas": null,
            "grid_template_columns": null,
            "grid_template_rows": null,
            "height": null,
            "justify_content": null,
            "justify_items": null,
            "left": null,
            "margin": null,
            "max_height": null,
            "max_width": null,
            "min_height": null,
            "min_width": null,
            "object_fit": null,
            "object_position": null,
            "order": null,
            "overflow": null,
            "overflow_x": null,
            "overflow_y": null,
            "padding": null,
            "right": null,
            "top": null,
            "visibility": null,
            "width": null
          }
        },
        "7ab45595ee7542138dace908c6ec3eed": {
          "model_module": "@jupyter-widgets/base",
          "model_name": "LayoutModel",
          "model_module_version": "1.2.0",
          "state": {
            "_model_module": "@jupyter-widgets/base",
            "_model_module_version": "1.2.0",
            "_model_name": "LayoutModel",
            "_view_count": null,
            "_view_module": "@jupyter-widgets/base",
            "_view_module_version": "1.2.0",
            "_view_name": "LayoutView",
            "align_content": null,
            "align_items": null,
            "align_self": null,
            "border": null,
            "bottom": null,
            "display": null,
            "flex": null,
            "flex_flow": null,
            "grid_area": null,
            "grid_auto_columns": null,
            "grid_auto_flow": null,
            "grid_auto_rows": null,
            "grid_column": null,
            "grid_gap": null,
            "grid_row": null,
            "grid_template_areas": null,
            "grid_template_columns": null,
            "grid_template_rows": null,
            "height": null,
            "justify_content": null,
            "justify_items": null,
            "left": null,
            "margin": null,
            "max_height": null,
            "max_width": null,
            "min_height": null,
            "min_width": null,
            "object_fit": null,
            "object_position": null,
            "order": null,
            "overflow": null,
            "overflow_x": null,
            "overflow_y": null,
            "padding": null,
            "right": null,
            "top": null,
            "visibility": null,
            "width": null
          }
        },
        "ebc9127a12ce422abbf58bc2b91c1641": {
          "model_module": "@jupyter-widgets/controls",
          "model_name": "DescriptionStyleModel",
          "model_module_version": "1.5.0",
          "state": {
            "_model_module": "@jupyter-widgets/controls",
            "_model_module_version": "1.5.0",
            "_model_name": "DescriptionStyleModel",
            "_view_count": null,
            "_view_module": "@jupyter-widgets/base",
            "_view_module_version": "1.2.0",
            "_view_name": "StyleView",
            "description_width": ""
          }
        },
        "66cd717e719744778a95f07df0caa270": {
          "model_module": "@jupyter-widgets/base",
          "model_name": "LayoutModel",
          "model_module_version": "1.2.0",
          "state": {
            "_model_module": "@jupyter-widgets/base",
            "_model_module_version": "1.2.0",
            "_model_name": "LayoutModel",
            "_view_count": null,
            "_view_module": "@jupyter-widgets/base",
            "_view_module_version": "1.2.0",
            "_view_name": "LayoutView",
            "align_content": null,
            "align_items": null,
            "align_self": null,
            "border": null,
            "bottom": null,
            "display": null,
            "flex": null,
            "flex_flow": null,
            "grid_area": null,
            "grid_auto_columns": null,
            "grid_auto_flow": null,
            "grid_auto_rows": null,
            "grid_column": null,
            "grid_gap": null,
            "grid_row": null,
            "grid_template_areas": null,
            "grid_template_columns": null,
            "grid_template_rows": null,
            "height": null,
            "justify_content": null,
            "justify_items": null,
            "left": null,
            "margin": null,
            "max_height": null,
            "max_width": null,
            "min_height": null,
            "min_width": null,
            "object_fit": null,
            "object_position": null,
            "order": null,
            "overflow": null,
            "overflow_x": null,
            "overflow_y": null,
            "padding": null,
            "right": null,
            "top": null,
            "visibility": null,
            "width": null
          }
        },
        "13c950cabc7e4ff1b250a33d1a9fae89": {
          "model_module": "@jupyter-widgets/controls",
          "model_name": "ProgressStyleModel",
          "model_module_version": "1.5.0",
          "state": {
            "_model_module": "@jupyter-widgets/controls",
            "_model_module_version": "1.5.0",
            "_model_name": "ProgressStyleModel",
            "_view_count": null,
            "_view_module": "@jupyter-widgets/base",
            "_view_module_version": "1.2.0",
            "_view_name": "StyleView",
            "bar_color": null,
            "description_width": ""
          }
        },
        "d089e5238fe247d49dc6639d0f3946e6": {
          "model_module": "@jupyter-widgets/base",
          "model_name": "LayoutModel",
          "model_module_version": "1.2.0",
          "state": {
            "_model_module": "@jupyter-widgets/base",
            "_model_module_version": "1.2.0",
            "_model_name": "LayoutModel",
            "_view_count": null,
            "_view_module": "@jupyter-widgets/base",
            "_view_module_version": "1.2.0",
            "_view_name": "LayoutView",
            "align_content": null,
            "align_items": null,
            "align_self": null,
            "border": null,
            "bottom": null,
            "display": null,
            "flex": null,
            "flex_flow": null,
            "grid_area": null,
            "grid_auto_columns": null,
            "grid_auto_flow": null,
            "grid_auto_rows": null,
            "grid_column": null,
            "grid_gap": null,
            "grid_row": null,
            "grid_template_areas": null,
            "grid_template_columns": null,
            "grid_template_rows": null,
            "height": null,
            "justify_content": null,
            "justify_items": null,
            "left": null,
            "margin": null,
            "max_height": null,
            "max_width": null,
            "min_height": null,
            "min_width": null,
            "object_fit": null,
            "object_position": null,
            "order": null,
            "overflow": null,
            "overflow_x": null,
            "overflow_y": null,
            "padding": null,
            "right": null,
            "top": null,
            "visibility": null,
            "width": null
          }
        },
        "8998a17b68bb4d7ba1e47ad72ba11c69": {
          "model_module": "@jupyter-widgets/controls",
          "model_name": "DescriptionStyleModel",
          "model_module_version": "1.5.0",
          "state": {
            "_model_module": "@jupyter-widgets/controls",
            "_model_module_version": "1.5.0",
            "_model_name": "DescriptionStyleModel",
            "_view_count": null,
            "_view_module": "@jupyter-widgets/base",
            "_view_module_version": "1.2.0",
            "_view_name": "StyleView",
            "description_width": ""
          }
        },
        "5e3211ef044d4cd68cc21ab131dd8885": {
          "model_module": "@jupyter-widgets/controls",
          "model_name": "HBoxModel",
          "model_module_version": "1.5.0",
          "state": {
            "_dom_classes": [],
            "_model_module": "@jupyter-widgets/controls",
            "_model_module_version": "1.5.0",
            "_model_name": "HBoxModel",
            "_view_count": null,
            "_view_module": "@jupyter-widgets/controls",
            "_view_module_version": "1.5.0",
            "_view_name": "HBoxView",
            "box_style": "",
            "children": [
              "IPY_MODEL_7d65390e39df48c4b247517f6138244c",
              "IPY_MODEL_0624029339024e6eb33790840b22b5f9",
              "IPY_MODEL_58fac3c20a2b4610969d1d4b7ca45d87"
            ],
            "layout": "IPY_MODEL_60ab1d139de3413cb77aeb9c5e4afa21"
          }
        },
        "7d65390e39df48c4b247517f6138244c": {
          "model_module": "@jupyter-widgets/controls",
          "model_name": "HTMLModel",
          "model_module_version": "1.5.0",
          "state": {
            "_dom_classes": [],
            "_model_module": "@jupyter-widgets/controls",
            "_model_module_version": "1.5.0",
            "_model_name": "HTMLModel",
            "_view_count": null,
            "_view_module": "@jupyter-widgets/controls",
            "_view_module_version": "1.5.0",
            "_view_name": "HTMLView",
            "description": "",
            "description_tooltip": null,
            "layout": "IPY_MODEL_56af8c65546e48729ea7f33be54b9bc1",
            "placeholder": "​",
            "style": "IPY_MODEL_040c6f3f695d416facc9aaded4f2486d",
            "value": "model.safetensors: 100%"
          }
        },
        "0624029339024e6eb33790840b22b5f9": {
          "model_module": "@jupyter-widgets/controls",
          "model_name": "FloatProgressModel",
          "model_module_version": "1.5.0",
          "state": {
            "_dom_classes": [],
            "_model_module": "@jupyter-widgets/controls",
            "_model_module_version": "1.5.0",
            "_model_name": "FloatProgressModel",
            "_view_count": null,
            "_view_module": "@jupyter-widgets/controls",
            "_view_module_version": "1.5.0",
            "_view_name": "ProgressView",
            "bar_style": "success",
            "description": "",
            "description_tooltip": null,
            "layout": "IPY_MODEL_e1f27a04da8a4ddbb2a16c38a874c9e1",
            "max": 267954768,
            "min": 0,
            "orientation": "horizontal",
            "style": "IPY_MODEL_7a33e1f2f385435da9a260f9ef3ade8d",
            "value": 267954768
          }
        },
        "58fac3c20a2b4610969d1d4b7ca45d87": {
          "model_module": "@jupyter-widgets/controls",
          "model_name": "HTMLModel",
          "model_module_version": "1.5.0",
          "state": {
            "_dom_classes": [],
            "_model_module": "@jupyter-widgets/controls",
            "_model_module_version": "1.5.0",
            "_model_name": "HTMLModel",
            "_view_count": null,
            "_view_module": "@jupyter-widgets/controls",
            "_view_module_version": "1.5.0",
            "_view_name": "HTMLView",
            "description": "",
            "description_tooltip": null,
            "layout": "IPY_MODEL_c888627db0f04a9a91e5edd7ef8244c5",
            "placeholder": "​",
            "style": "IPY_MODEL_d00e86d0969d471894a7807f8339f7af",
            "value": " 268M/268M [00:04&lt;00:00, 77.5MB/s]"
          }
        },
        "60ab1d139de3413cb77aeb9c5e4afa21": {
          "model_module": "@jupyter-widgets/base",
          "model_name": "LayoutModel",
          "model_module_version": "1.2.0",
          "state": {
            "_model_module": "@jupyter-widgets/base",
            "_model_module_version": "1.2.0",
            "_model_name": "LayoutModel",
            "_view_count": null,
            "_view_module": "@jupyter-widgets/base",
            "_view_module_version": "1.2.0",
            "_view_name": "LayoutView",
            "align_content": null,
            "align_items": null,
            "align_self": null,
            "border": null,
            "bottom": null,
            "display": null,
            "flex": null,
            "flex_flow": null,
            "grid_area": null,
            "grid_auto_columns": null,
            "grid_auto_flow": null,
            "grid_auto_rows": null,
            "grid_column": null,
            "grid_gap": null,
            "grid_row": null,
            "grid_template_areas": null,
            "grid_template_columns": null,
            "grid_template_rows": null,
            "height": null,
            "justify_content": null,
            "justify_items": null,
            "left": null,
            "margin": null,
            "max_height": null,
            "max_width": null,
            "min_height": null,
            "min_width": null,
            "object_fit": null,
            "object_position": null,
            "order": null,
            "overflow": null,
            "overflow_x": null,
            "overflow_y": null,
            "padding": null,
            "right": null,
            "top": null,
            "visibility": null,
            "width": null
          }
        },
        "56af8c65546e48729ea7f33be54b9bc1": {
          "model_module": "@jupyter-widgets/base",
          "model_name": "LayoutModel",
          "model_module_version": "1.2.0",
          "state": {
            "_model_module": "@jupyter-widgets/base",
            "_model_module_version": "1.2.0",
            "_model_name": "LayoutModel",
            "_view_count": null,
            "_view_module": "@jupyter-widgets/base",
            "_view_module_version": "1.2.0",
            "_view_name": "LayoutView",
            "align_content": null,
            "align_items": null,
            "align_self": null,
            "border": null,
            "bottom": null,
            "display": null,
            "flex": null,
            "flex_flow": null,
            "grid_area": null,
            "grid_auto_columns": null,
            "grid_auto_flow": null,
            "grid_auto_rows": null,
            "grid_column": null,
            "grid_gap": null,
            "grid_row": null,
            "grid_template_areas": null,
            "grid_template_columns": null,
            "grid_template_rows": null,
            "height": null,
            "justify_content": null,
            "justify_items": null,
            "left": null,
            "margin": null,
            "max_height": null,
            "max_width": null,
            "min_height": null,
            "min_width": null,
            "object_fit": null,
            "object_position": null,
            "order": null,
            "overflow": null,
            "overflow_x": null,
            "overflow_y": null,
            "padding": null,
            "right": null,
            "top": null,
            "visibility": null,
            "width": null
          }
        },
        "040c6f3f695d416facc9aaded4f2486d": {
          "model_module": "@jupyter-widgets/controls",
          "model_name": "DescriptionStyleModel",
          "model_module_version": "1.5.0",
          "state": {
            "_model_module": "@jupyter-widgets/controls",
            "_model_module_version": "1.5.0",
            "_model_name": "DescriptionStyleModel",
            "_view_count": null,
            "_view_module": "@jupyter-widgets/base",
            "_view_module_version": "1.2.0",
            "_view_name": "StyleView",
            "description_width": ""
          }
        },
        "e1f27a04da8a4ddbb2a16c38a874c9e1": {
          "model_module": "@jupyter-widgets/base",
          "model_name": "LayoutModel",
          "model_module_version": "1.2.0",
          "state": {
            "_model_module": "@jupyter-widgets/base",
            "_model_module_version": "1.2.0",
            "_model_name": "LayoutModel",
            "_view_count": null,
            "_view_module": "@jupyter-widgets/base",
            "_view_module_version": "1.2.0",
            "_view_name": "LayoutView",
            "align_content": null,
            "align_items": null,
            "align_self": null,
            "border": null,
            "bottom": null,
            "display": null,
            "flex": null,
            "flex_flow": null,
            "grid_area": null,
            "grid_auto_columns": null,
            "grid_auto_flow": null,
            "grid_auto_rows": null,
            "grid_column": null,
            "grid_gap": null,
            "grid_row": null,
            "grid_template_areas": null,
            "grid_template_columns": null,
            "grid_template_rows": null,
            "height": null,
            "justify_content": null,
            "justify_items": null,
            "left": null,
            "margin": null,
            "max_height": null,
            "max_width": null,
            "min_height": null,
            "min_width": null,
            "object_fit": null,
            "object_position": null,
            "order": null,
            "overflow": null,
            "overflow_x": null,
            "overflow_y": null,
            "padding": null,
            "right": null,
            "top": null,
            "visibility": null,
            "width": null
          }
        },
        "7a33e1f2f385435da9a260f9ef3ade8d": {
          "model_module": "@jupyter-widgets/controls",
          "model_name": "ProgressStyleModel",
          "model_module_version": "1.5.0",
          "state": {
            "_model_module": "@jupyter-widgets/controls",
            "_model_module_version": "1.5.0",
            "_model_name": "ProgressStyleModel",
            "_view_count": null,
            "_view_module": "@jupyter-widgets/base",
            "_view_module_version": "1.2.0",
            "_view_name": "StyleView",
            "bar_color": null,
            "description_width": ""
          }
        },
        "c888627db0f04a9a91e5edd7ef8244c5": {
          "model_module": "@jupyter-widgets/base",
          "model_name": "LayoutModel",
          "model_module_version": "1.2.0",
          "state": {
            "_model_module": "@jupyter-widgets/base",
            "_model_module_version": "1.2.0",
            "_model_name": "LayoutModel",
            "_view_count": null,
            "_view_module": "@jupyter-widgets/base",
            "_view_module_version": "1.2.0",
            "_view_name": "LayoutView",
            "align_content": null,
            "align_items": null,
            "align_self": null,
            "border": null,
            "bottom": null,
            "display": null,
            "flex": null,
            "flex_flow": null,
            "grid_area": null,
            "grid_auto_columns": null,
            "grid_auto_flow": null,
            "grid_auto_rows": null,
            "grid_column": null,
            "grid_gap": null,
            "grid_row": null,
            "grid_template_areas": null,
            "grid_template_columns": null,
            "grid_template_rows": null,
            "height": null,
            "justify_content": null,
            "justify_items": null,
            "left": null,
            "margin": null,
            "max_height": null,
            "max_width": null,
            "min_height": null,
            "min_width": null,
            "object_fit": null,
            "object_position": null,
            "order": null,
            "overflow": null,
            "overflow_x": null,
            "overflow_y": null,
            "padding": null,
            "right": null,
            "top": null,
            "visibility": null,
            "width": null
          }
        },
        "d00e86d0969d471894a7807f8339f7af": {
          "model_module": "@jupyter-widgets/controls",
          "model_name": "DescriptionStyleModel",
          "model_module_version": "1.5.0",
          "state": {
            "_model_module": "@jupyter-widgets/controls",
            "_model_module_version": "1.5.0",
            "_model_name": "DescriptionStyleModel",
            "_view_count": null,
            "_view_module": "@jupyter-widgets/base",
            "_view_module_version": "1.2.0",
            "_view_name": "StyleView",
            "description_width": ""
          }
        }
      }
    }
  },
  "cells": [
    {
      "cell_type": "markdown",
      "metadata": {
        "id": "view-in-github",
        "colab_type": "text"
      },
      "source": [
        "<a href=\"https://colab.research.google.com/github/Cinnamy/DocumentsClassification/blob/main/6_7.ipynb\" target=\"_parent\"><img src=\"https://colab.research.google.com/assets/colab-badge.svg\" alt=\"Open In Colab\"/></a>"
      ]
    },
    {
      "cell_type": "markdown",
      "source": [
        "#Подключаем модули"
      ],
      "metadata": {
        "id": "MHw6Kw1iNapq"
      }
    },
    {
      "cell_type": "code",
      "execution_count": null,
      "metadata": {
        "colab": {
          "base_uri": "https://localhost:8080/"
        },
        "id": "iMRmxcCiB6sq",
        "outputId": "ebca82b9-9469-4cb3-da3e-103351944bdc"
      },
      "outputs": [
        {
          "output_type": "stream",
          "name": "stderr",
          "text": [
            "[nltk_data] Downloading package stopwords to /root/nltk_data...\n",
            "[nltk_data]   Unzipping corpora/stopwords.zip.\n",
            "[nltk_data] Downloading package punkt to /root/nltk_data...\n",
            "[nltk_data]   Unzipping tokenizers/punkt.zip.\n",
            "[nltk_data] Downloading package wordnet to /root/nltk_data...\n",
            "[nltk_data] Downloading package averaged_perceptron_tagger to\n",
            "[nltk_data]     /root/nltk_data...\n",
            "[nltk_data]   Unzipping taggers/averaged_perceptron_tagger.zip.\n"
          ]
        }
      ],
      "source": [
        "import sklearn\n",
        "import numpy as np\n",
        "import nltk\n",
        "import re\n",
        "import pandas as pd\n",
        "import torch\n",
        "from sklearn.datasets import fetch_20newsgroups\n",
        "from sklearn.feature_extraction.text import CountVectorizer\n",
        "from gensim import corpora, models\n",
        "from gensim.utils import simple_preprocess\n",
        "\n",
        "nltk.download('stopwords')\n",
        "nltk.download('punkt')\n",
        "nltk.download('wordnet')\n",
        "nltk.download('averaged_perceptron_tagger')\n",
        "\n",
        "from nltk.tokenize import word_tokenize\n",
        "from nltk.corpus import stopwords\n",
        "from nltk.stem import WordNetLemmatizer\n",
        "from sklearn.feature_extraction.text import TfidfVectorizer\n",
        "from sklearn.cluster import KMeans\n",
        "from sklearn.cluster import AgglomerativeClustering\n",
        "from sklearn import metrics\n",
        "from sklearn.datasets import fetch_20newsgroups\n",
        "from transformers import DistilBertTokenizer, DistilBertModel"
      ]
    },
    {
      "cell_type": "markdown",
      "source": [
        "#Загружаем и предобрабатываем данные"
      ],
      "metadata": {
        "id": "4b3-rIY_NfCC"
      }
    },
    {
      "cell_type": "code",
      "source": [
        "stopwords_en = stopwords.words('english')\n",
        "lemmatizer = WordNetLemmatizer()\n",
        "\n",
        "articles = fetch_20newsgroups(subset='train', remove=('headers', 'footers', 'quotes'), categories=['comp.graphics', 'sci.med'])\n",
        "articles_full = []\n",
        "articles_full_bow = []\n",
        "articles_target = [[], [], []]\n",
        "articles_nouns = []\n",
        "articles_nouns_bow = []\n",
        "articles_nouns_and_adjs = []\n",
        "articles_nouns_and_adjs_bow = []\n",
        "for i in range(300):\n",
        "  text = articles.data[i]\n",
        "  text = re.sub(r'[^(\\w\\s\\-)]|[\\d]|[()]|-{2,}', '', text)\n",
        "  text = re.sub(r'\\s{2,}|[\\n]', ' ', text)\n",
        "  text = [lemmatizer.lemmatize(word.lower()) for word in word_tokenize(text) if word not in stopwords_en]\n",
        "  if text != []:\n",
        "    articles_full.append(' '.join(text))\n",
        "    articles_full_bow.append(text)\n",
        "    articles_target[0].append(articles.target[i])\n",
        "  nouns = [word[0] for word in nltk.pos_tag(text) if word[1] == \"NN\"]\n",
        "  if nouns != []:\n",
        "    articles_nouns.append(' '.join(nouns))\n",
        "    articles_nouns_bow.append(nouns)\n",
        "    articles_target[1].append(articles.target[i])\n",
        "  nouns_and_adjs = [word[0] for word in nltk.pos_tag(text) if word[1] == \"NN\" or word[1] == \"JJ\"]\n",
        "  if nouns_and_adjs != []:\n",
        "    articles_nouns_and_adjs.append(' '.join(nouns_and_adjs))\n",
        "    articles_nouns_and_adjs_bow.append(nouns_and_adjs)\n",
        "    articles_target[2].append(articles.target[i])"
      ],
      "metadata": {
        "id": "6VtavzN2NkFa"
      },
      "execution_count": null,
      "outputs": []
    },
    {
      "cell_type": "markdown",
      "source": [
        "#Векторизация"
      ],
      "metadata": {
        "id": "3mSmbNVFPVsf"
      }
    },
    {
      "cell_type": "markdown",
      "source": [
        "##TF-IDF"
      ],
      "metadata": {
        "id": "mXz2RY5kPZ43"
      }
    },
    {
      "cell_type": "code",
      "source": [
        "vectorizer = TfidfVectorizer()\n",
        "X_full_TF = vectorizer.fit_transform(articles_full)\n",
        "X_nouns_TF = vectorizer.fit_transform(articles_nouns)\n",
        "X_nouns_and_adjs_TF = vectorizer.fit_transform(articles_nouns_and_adjs)"
      ],
      "metadata": {
        "id": "TrA9VkM0PfuF"
      },
      "execution_count": null,
      "outputs": []
    },
    {
      "cell_type": "markdown",
      "source": [
        "##DistilBERT embeddings"
      ],
      "metadata": {
        "id": "8g2Osf2DPueN"
      }
    },
    {
      "cell_type": "code",
      "source": [
        "model_name = 'distilbert-base-uncased'\n",
        "tokenizer = DistilBertTokenizer.from_pretrained(model_name)\n",
        "model = DistilBertModel.from_pretrained(model_name)"
      ],
      "metadata": {
        "colab": {
          "base_uri": "https://localhost:8080/",
          "referenced_widgets": [
            "f1dad7dc5c734ccd8061642ba1e2570a",
            "c9ff64da4fa64548a86ba229bcc638a8",
            "62f2c439b85646068993194688644b66",
            "d31c0ed7298e4ca493c2192e143d7284",
            "642b84f7863d4cc1898bd46ad8b86fe0",
            "8716d58641324a24b8d38cc259a830f3",
            "c94409d2058a429f82049d654f70621c",
            "302746d20a5341da921ab92bbbeb59c5",
            "d3bcf7c9d02645beb2124618d44c68f3",
            "3806b5db40a4443d9b57b33b79f4c835",
            "623c8b34ff12438fad24027785ff23fc",
            "16602bc9c2f6448990f94e934867ee27",
            "71062052b1444fea861e2433c909552b",
            "f83ca71e3a7f4c698be087f1013fe5e9",
            "f8844b500b7e4589859b56444800ec35",
            "092d36e0d1ab429e86aca1e889288847",
            "1aac37928f724191a9644ff92b677f5c",
            "98de0845c4164f5ab9c7c034b823f179",
            "3b9f6d646934424a944ec2a26893d4e2",
            "762599b7c0fb477db375855129b2602d",
            "aac6f98b288347acab03cf0b91fb7007",
            "0c2d8f8d03424484957cd27488f20772",
            "3f1c9be5bcdf415588bf1156611cf4d9",
            "35c8093d3771429cb7d67ad538938188",
            "abda3c5fa1384e1d8cc5b70d2cca7a98",
            "971a0ae2497f4fd3b8761cf01d8214e5",
            "d2e159b3afc64d39a8ab251046c624d2",
            "0f729d0c3248456ea86ad9a640f5e589",
            "a0591729c5c640e0a160fd56561e20db",
            "726b5fffe7be4f37b089834b78928391",
            "78c3ebeed61a442596df6ef94dd2fd1a",
            "15c67c209bae4a46bd369803f26065b7",
            "55a2e6b51f3f4cf88c928d8fa6d97480",
            "6812cfacd841496fba63c97c7bba9ecf",
            "1a67d2beb1064b5bbcc9b88aade48cc5",
            "7187de76e40544b08c24154ce0e97e2b",
            "9324c5d8505d4a80af7d39d2b7f848c9",
            "7cba903a4bb9463bb751793e765e2ae1",
            "7ab45595ee7542138dace908c6ec3eed",
            "ebc9127a12ce422abbf58bc2b91c1641",
            "66cd717e719744778a95f07df0caa270",
            "13c950cabc7e4ff1b250a33d1a9fae89",
            "d089e5238fe247d49dc6639d0f3946e6",
            "8998a17b68bb4d7ba1e47ad72ba11c69",
            "5e3211ef044d4cd68cc21ab131dd8885",
            "7d65390e39df48c4b247517f6138244c",
            "0624029339024e6eb33790840b22b5f9",
            "58fac3c20a2b4610969d1d4b7ca45d87",
            "60ab1d139de3413cb77aeb9c5e4afa21",
            "56af8c65546e48729ea7f33be54b9bc1",
            "040c6f3f695d416facc9aaded4f2486d",
            "e1f27a04da8a4ddbb2a16c38a874c9e1",
            "7a33e1f2f385435da9a260f9ef3ade8d",
            "c888627db0f04a9a91e5edd7ef8244c5",
            "d00e86d0969d471894a7807f8339f7af"
          ]
        },
        "id": "uNB_JDjkP2Ml",
        "outputId": "17c588eb-5c3a-40b8-9271-28cc76745673"
      },
      "execution_count": null,
      "outputs": [
        {
          "output_type": "stream",
          "name": "stderr",
          "text": [
            "/usr/local/lib/python3.10/dist-packages/huggingface_hub/utils/_token.py:88: UserWarning: \n",
            "The secret `HF_TOKEN` does not exist in your Colab secrets.\n",
            "To authenticate with the Hugging Face Hub, create a token in your settings tab (https://huggingface.co/settings/tokens), set it as secret in your Google Colab and restart your session.\n",
            "You will be able to reuse this secret in all of your notebooks.\n",
            "Please note that authentication is recommended but still optional to access public models or datasets.\n",
            "  warnings.warn(\n"
          ]
        },
        {
          "output_type": "display_data",
          "data": {
            "text/plain": [
              "tokenizer_config.json:   0%|          | 0.00/28.0 [00:00<?, ?B/s]"
            ],
            "application/vnd.jupyter.widget-view+json": {
              "version_major": 2,
              "version_minor": 0,
              "model_id": "f1dad7dc5c734ccd8061642ba1e2570a"
            }
          },
          "metadata": {}
        },
        {
          "output_type": "display_data",
          "data": {
            "text/plain": [
              "vocab.txt:   0%|          | 0.00/232k [00:00<?, ?B/s]"
            ],
            "application/vnd.jupyter.widget-view+json": {
              "version_major": 2,
              "version_minor": 0,
              "model_id": "16602bc9c2f6448990f94e934867ee27"
            }
          },
          "metadata": {}
        },
        {
          "output_type": "display_data",
          "data": {
            "text/plain": [
              "tokenizer.json:   0%|          | 0.00/466k [00:00<?, ?B/s]"
            ],
            "application/vnd.jupyter.widget-view+json": {
              "version_major": 2,
              "version_minor": 0,
              "model_id": "3f1c9be5bcdf415588bf1156611cf4d9"
            }
          },
          "metadata": {}
        },
        {
          "output_type": "display_data",
          "data": {
            "text/plain": [
              "config.json:   0%|          | 0.00/483 [00:00<?, ?B/s]"
            ],
            "application/vnd.jupyter.widget-view+json": {
              "version_major": 2,
              "version_minor": 0,
              "model_id": "6812cfacd841496fba63c97c7bba9ecf"
            }
          },
          "metadata": {}
        },
        {
          "output_type": "display_data",
          "data": {
            "text/plain": [
              "model.safetensors:   0%|          | 0.00/268M [00:00<?, ?B/s]"
            ],
            "application/vnd.jupyter.widget-view+json": {
              "version_major": 2,
              "version_minor": 0,
              "model_id": "5e3211ef044d4cd68cc21ab131dd8885"
            }
          },
          "metadata": {}
        }
      ]
    },
    {
      "cell_type": "code",
      "source": [
        "articles_full_tokens = [tokenizer(text, padding=True, truncation=True, return_tensors=\"pt\") for text in articles_full]\n",
        "articles_nouns_tokens = [tokenizer(text, padding=True, truncation=True, return_tensors=\"pt\") for text in articles_nouns]\n",
        "articles_nouns_adjs_tokens = [tokenizer(text, padding=True, truncation=True, return_tensors=\"pt\") for text in articles_nouns_and_adjs]\n",
        "\n",
        "X_full_DBERT = []\n",
        "with torch.no_grad():\n",
        "  for phrase_tokens in articles_full_tokens:\n",
        "    outputs = model(**phrase_tokens)\n",
        "    X_full_DBERT.append(np.array(outputs.last_hidden_state.mean(dim=1).flatten()))\n",
        "\n",
        "X_nouns_DBERT = []\n",
        "with torch.no_grad():\n",
        "  for phrase_tokens in articles_nouns_tokens:\n",
        "    outputs = model(**phrase_tokens)\n",
        "    X_nouns_DBERT.append(np.array(outputs.last_hidden_state.mean(dim=1).flatten()))\n",
        "\n",
        "X_nouns_and_adjs_DBERT = []\n",
        "with torch.no_grad():\n",
        "  for phrase_tokens in articles_nouns_adjs_tokens:\n",
        "    outputs = model(**phrase_tokens)\n",
        "    X_nouns_and_adjs_DBERT.append(np.array(outputs.last_hidden_state.mean(dim=1).flatten()))"
      ],
      "metadata": {
        "id": "buLNFhFhP9qA"
      },
      "execution_count": null,
      "outputs": []
    },
    {
      "cell_type": "markdown",
      "source": [
        "##LDA"
      ],
      "metadata": {
        "id": "eCBEP-AfQUYg"
      }
    },
    {
      "cell_type": "code",
      "source": [
        "dictionary_full = corpora.Dictionary(articles_full_bow)\n",
        "dictionary_nouns = corpora.Dictionary(articles_nouns_bow)\n",
        "dictionary_nouns_and_adjs = corpora.Dictionary(articles_nouns_and_adjs_bow)\n",
        "\n",
        "bow_full = [dictionary_full.doc2bow(doc) for doc in articles_full_bow]\n",
        "bow_nouns = [dictionary_nouns.doc2bow(doc) for doc in articles_nouns_bow]\n",
        "bow_nouns_and_adjs = [dictionary_nouns_and_adjs.doc2bow(doc) for doc in articles_nouns_and_adjs_bow]"
      ],
      "metadata": {
        "id": "3dTuT_dBQWq0"
      },
      "execution_count": null,
      "outputs": []
    },
    {
      "cell_type": "code",
      "source": [
        "lda_model_full = models.LdaModel(bow_full, num_topics=4, id2word=dictionary_full, passes=15)\n",
        "lda_model_nouns = models.LdaModel(bow_nouns, num_topics=4, id2word=dictionary_nouns, passes=15)\n",
        "lda_model_nouns_and_adjs = models.LdaModel(bow_nouns_and_adjs, num_topics=4, id2word=dictionary_nouns_and_adjs, passes=15)"
      ],
      "metadata": {
        "id": "iwrU4YQGQjwV"
      },
      "execution_count": null,
      "outputs": []
    },
    {
      "cell_type": "code",
      "source": [
        "X_full_LDA = []\n",
        "for doc_bow in bow_full:\n",
        "  document_topics = lda_model_full.get_document_topics(doc_bow, minimum_probability=0.0)\n",
        "  document_topic_vector = [topic_prob for _, topic_prob in document_topics]\n",
        "  X_full_LDA.append(document_topic_vector)\n",
        "\n",
        "X_nouns_LDA = []\n",
        "for doc_bow in bow_nouns:\n",
        "  document_topics = lda_model_nouns.get_document_topics(doc_bow, minimum_probability=0.0)\n",
        "  document_topic_vector = [topic_prob for _, topic_prob in document_topics]\n",
        "  X_nouns_LDA.append(document_topic_vector)\n",
        "\n",
        "X_nouns_and_adjs_LDA = []\n",
        "for doc_bow in bow_nouns_and_adjs:\n",
        " document_topics = lda_model_nouns_and_adjs.get_document_topics(doc_bow, minimum_probability=0.0)\n",
        " document_topic_vector = [topic_prob for _, topic_prob in document_topics]\n",
        " X_nouns_and_adjs_LDA.append(document_topic_vector)"
      ],
      "metadata": {
        "id": "fMVCV3EFQxZt"
      },
      "execution_count": null,
      "outputs": []
    },
    {
      "cell_type": "markdown",
      "source": [
        "#6 задание"
      ],
      "metadata": {
        "id": "SYlPBt0bPRpo"
      }
    },
    {
      "cell_type": "markdown",
      "source": [
        "##Support Vector Machines"
      ],
      "metadata": {
        "id": "j6mzTfKFQ57s"
      }
    },
    {
      "cell_type": "markdown",
      "source": [
        "###TF-IDF"
      ],
      "metadata": {
        "id": "U2QSV297aWwd"
      }
    },
    {
      "cell_type": "code",
      "source": [
        "from sklearn import svm\n",
        "\n",
        "clf_SVM_TF = svm.SVC()\n",
        "clf_SVM_TF.fit(X_full_TF[:200].toarray(), articles_target[0][:200])\n",
        "\n",
        "pred_SVM_TF = []\n",
        "for i in range(90):\n",
        "  pred_SVM_TF.append(clf_SVM_TF.predict(X_full_TF[i + 200].toarray())[0])\n",
        "\n",
        "f_SVM_TF = metrics.f1_score(articles_target[0][200:290], pred_SVM_TF)"
      ],
      "metadata": {
        "id": "Ktg85p3WRFVI"
      },
      "execution_count": null,
      "outputs": []
    },
    {
      "cell_type": "markdown",
      "source": [
        "###DistilBERT"
      ],
      "metadata": {
        "id": "Ervbn540aZqh"
      }
    },
    {
      "cell_type": "code",
      "source": [
        "clf_SVM_DBERT = svm.SVC()\n",
        "clf_SVM_DBERT.fit(X_full_DBERT[:200], articles_target[0][:200])\n",
        "\n",
        "pred_SVM_DBERT = []\n",
        "for i in range(90):\n",
        "  pred_SVM_DBERT.append(clf_SVM_DBERT.predict([X_full_DBERT[i + 200]])[0])\n",
        "\n",
        "f_SVM_DBERT = metrics.f1_score(articles_target[0][200:290], pred_SVM_DBERT)"
      ],
      "metadata": {
        "id": "JKAS8oOHacfh"
      },
      "execution_count": null,
      "outputs": []
    },
    {
      "cell_type": "markdown",
      "source": [
        "###LDA"
      ],
      "metadata": {
        "id": "EIev4iUocPS3"
      }
    },
    {
      "cell_type": "code",
      "source": [
        "clf_SVM_LDA = svm.SVC()\n",
        "clf_SVM_LDA.fit(X_full_LDA[:200], articles_target[0][:200])\n",
        "\n",
        "pred_SVM_LDA = []\n",
        "for i in range(90):\n",
        "  pred_SVM_LDA.append(clf_SVM_LDA.predict([X_full_LDA[i + 200]])[0])\n",
        "\n",
        "f_SVM_LDA = metrics.f1_score(articles_target[0][200:290], pred_SVM_LDA)"
      ],
      "metadata": {
        "id": "Dx5xUQtIcmko"
      },
      "execution_count": null,
      "outputs": []
    },
    {
      "cell_type": "markdown",
      "source": [
        "##Naive Bayes"
      ],
      "metadata": {
        "id": "XbKyKNEFdEFR"
      }
    },
    {
      "cell_type": "markdown",
      "source": [
        "###TF-IDF"
      ],
      "metadata": {
        "id": "dv9lXALnemBF"
      }
    },
    {
      "cell_type": "code",
      "source": [
        "from sklearn.naive_bayes import GaussianNB\n",
        "\n",
        "clf_NB_TF = GaussianNB()\n",
        "clf_NB_TF.fit(X_full_TF[:200].toarray(), articles_target[0][:200])\n",
        "\n",
        "pred_NB_TF = []\n",
        "for i in range(90):\n",
        "  pred_NB_TF.append(clf_NB_TF.predict(X_full_TF[i + 200].toarray())[0])\n",
        "\n",
        "f_NB_TF = metrics.f1_score(articles_target[0][200:290], pred_NB_TF)"
      ],
      "metadata": {
        "id": "crCBoJHjdRwU"
      },
      "execution_count": null,
      "outputs": []
    },
    {
      "cell_type": "markdown",
      "source": [
        "###DistilBERT"
      ],
      "metadata": {
        "id": "ixeT4URdekYf"
      }
    },
    {
      "cell_type": "code",
      "source": [
        "clf_NB_DBERT = GaussianNB()\n",
        "clf_NB_DBERT.fit(X_full_DBERT[:200], articles_target[0][:200])\n",
        "\n",
        "pred_NB_DBERT = []\n",
        "for i in range(90):\n",
        "  pred_NB_DBERT.append(clf_NB_DBERT.predict([X_full_DBERT[i + 200]])[0])\n",
        "\n",
        "f_NB_DBERT = metrics.f1_score(articles_target[0][200:290], pred_NB_DBERT)"
      ],
      "metadata": {
        "id": "IrUnpnqlevy1"
      },
      "execution_count": null,
      "outputs": []
    },
    {
      "cell_type": "markdown",
      "source": [
        "###LDA"
      ],
      "metadata": {
        "id": "DLfDtvjze8Nz"
      }
    },
    {
      "cell_type": "code",
      "source": [
        "clf_NB_LDA = GaussianNB()\n",
        "clf_NB_LDA.fit(X_full_LDA[:200], articles_target[0][:200])\n",
        "\n",
        "pred_NB_LDA = []\n",
        "for i in range(90):\n",
        "  pred_NB_LDA.append(clf_NB_LDA.predict([X_full_LDA[i + 200]])[0])\n",
        "\n",
        "f_NB_LDA = metrics.f1_score(articles_target[0][200:290], pred_NB_LDA)"
      ],
      "metadata": {
        "id": "OZL-GepzfL_D"
      },
      "execution_count": null,
      "outputs": []
    },
    {
      "cell_type": "markdown",
      "source": [
        "##Decision Trees"
      ],
      "metadata": {
        "id": "lTzw0tTlfZR6"
      }
    },
    {
      "cell_type": "markdown",
      "source": [
        "###TF-IDF"
      ],
      "metadata": {
        "id": "EhwSifzwfeH4"
      }
    },
    {
      "cell_type": "code",
      "source": [
        "from sklearn.tree import DecisionTreeClassifier\n",
        "\n",
        "clf_DT_TF = DecisionTreeClassifier()\n",
        "clf_DT_TF.fit(X_full_TF[:200].toarray(), articles_target[0][:200])\n",
        "\n",
        "pred_DT_TF = []\n",
        "for i in range(90):\n",
        "  pred_DT_TF.append(clf_DT_TF.predict(X_full_TF[i + 200].toarray())[0])\n",
        "\n",
        "f_DT_TF = metrics.f1_score(articles_target[0][200:290], pred_DT_TF)"
      ],
      "metadata": {
        "id": "GZDB9E-ifdFZ"
      },
      "execution_count": null,
      "outputs": []
    },
    {
      "cell_type": "markdown",
      "source": [
        "###DistilBERT"
      ],
      "metadata": {
        "id": "JIT_Ygh_f51g"
      }
    },
    {
      "cell_type": "code",
      "source": [
        "clf_DT_DBERT = DecisionTreeClassifier()\n",
        "clf_DT_DBERT.fit(X_full_DBERT[:200], articles_target[0][:200])\n",
        "\n",
        "pred_DT_DBERT = []\n",
        "for i in range(90):\n",
        "  pred_DT_DBERT.append(clf_DT_DBERT.predict([X_full_DBERT[i + 200]])[0])\n",
        "\n",
        "f_DT_DBERT = metrics.f1_score(articles_target[0][200:290], pred_DT_DBERT)"
      ],
      "metadata": {
        "id": "1aw0UAxIf9Hx"
      },
      "execution_count": null,
      "outputs": []
    },
    {
      "cell_type": "markdown",
      "source": [
        "###LDA"
      ],
      "metadata": {
        "id": "0zDHrb6FgMK3"
      }
    },
    {
      "cell_type": "code",
      "source": [
        "clf_DT_LDA = DecisionTreeClassifier()\n",
        "clf_DT_LDA.fit(X_full_LDA[:200], articles_target[0][:200])\n",
        "\n",
        "pred_DT_LDA = []\n",
        "for i in range(90):\n",
        "  pred_DT_LDA.append(clf_DT_LDA.predict([X_full_LDA[i + 200]])[0])\n",
        "\n",
        "f_DT_LDA = metrics.f1_score(articles_target[0][200:290], pred_DT_LDA)"
      ],
      "metadata": {
        "id": "gPbsfbmBgN5t"
      },
      "execution_count": null,
      "outputs": []
    },
    {
      "cell_type": "markdown",
      "source": [
        "#7 задание"
      ],
      "metadata": {
        "id": "38XH-qBwgb9U"
      }
    },
    {
      "cell_type": "markdown",
      "source": [
        "##Random Forest"
      ],
      "metadata": {
        "id": "wi2P8QrEgeRm"
      }
    },
    {
      "cell_type": "markdown",
      "source": [
        "###TF-IDF"
      ],
      "metadata": {
        "id": "JxnzDgC8gwwl"
      }
    },
    {
      "cell_type": "code",
      "source": [
        "from sklearn.ensemble import RandomForestClassifier\n",
        "\n",
        "clf_RF_TF = RandomForestClassifier(max_depth=2)\n",
        "clf_RF_TF.fit(X_full_TF[:200].toarray(), articles_target[0][:200])\n",
        "\n",
        "pred_RF_TF = []\n",
        "for i in range(90):\n",
        "  pred_RF_TF.append(clf_RF_TF.predict(X_full_TF[i + 200].toarray())[0])\n",
        "\n",
        "f_RF_TF = metrics.f1_score(articles_target[0][200:290], pred_RF_TF)"
      ],
      "metadata": {
        "id": "_juzlw_BghzI"
      },
      "execution_count": null,
      "outputs": []
    },
    {
      "cell_type": "markdown",
      "source": [
        "###DistilBERT"
      ],
      "metadata": {
        "id": "IQ0oeznShA6S"
      }
    },
    {
      "cell_type": "code",
      "source": [
        "clf_RF_DBERT = RandomForestClassifier(max_depth=2)\n",
        "clf_RF_DBERT.fit(X_full_DBERT[:200], articles_target[0][:200])\n",
        "\n",
        "pred_RF_DBERT = []\n",
        "for i in range(90):\n",
        "  pred_RF_DBERT.append(clf_RF_DBERT.predict([X_full_DBERT[i + 200]])[0])\n",
        "\n",
        "f_RF_DBERT = metrics.f1_score(articles_target[0][200:290], pred_RF_DBERT)"
      ],
      "metadata": {
        "id": "LH-5LAwwhDS3"
      },
      "execution_count": null,
      "outputs": []
    },
    {
      "cell_type": "markdown",
      "source": [
        "###LDA"
      ],
      "metadata": {
        "id": "R_f9BlHjhOun"
      }
    },
    {
      "cell_type": "code",
      "source": [
        "clf_RF_LDA = RandomForestClassifier(max_depth=2)\n",
        "clf_RF_LDA.fit(X_full_LDA[:200], articles_target[0][:200])\n",
        "\n",
        "pred_RF_LDA = []\n",
        "for i in range(90):\n",
        "  pred_RF_LDA.append(clf_RF_LDA.predict([X_full_LDA[i + 200]])[0])\n",
        "\n",
        "f_RF_LDA = metrics.f1_score(articles_target[0][200:290], pred_RF_LDA)"
      ],
      "metadata": {
        "id": "XnAa57swhQd2"
      },
      "execution_count": null,
      "outputs": []
    },
    {
      "cell_type": "markdown",
      "source": [
        "##AdaBoost"
      ],
      "metadata": {
        "id": "DgyD6MNbhmQ7"
      }
    },
    {
      "cell_type": "markdown",
      "source": [
        "###TF-IDF"
      ],
      "metadata": {
        "id": "xYReesO4hpkc"
      }
    },
    {
      "cell_type": "code",
      "source": [
        "from sklearn.ensemble import AdaBoostClassifier\n",
        "\n",
        "clf_AB_TF = AdaBoostClassifier(n_estimators=100, algorithm=\"SAMME\")\n",
        "clf_AB_TF.fit(X_full_TF[:200].toarray(), articles_target[0][:200])\n",
        "\n",
        "pred_AB_TF = []\n",
        "for i in range(90):\n",
        "  pred_AB_TF.append(clf_AB_TF.predict(X_full_TF[i + 200].toarray())[0])\n",
        "\n",
        "f_AB_TF = metrics.f1_score(articles_target[0][200:290], pred_AB_TF)"
      ],
      "metadata": {
        "id": "2G1jJmy8hril"
      },
      "execution_count": null,
      "outputs": []
    },
    {
      "cell_type": "markdown",
      "source": [
        "###DistilBERT"
      ],
      "metadata": {
        "id": "Q43lnRJGiVhE"
      }
    },
    {
      "cell_type": "code",
      "source": [
        "clf_AB_DBERT = AdaBoostClassifier(n_estimators=100, algorithm=\"SAMME\")\n",
        "clf_AB_DBERT.fit(X_full_DBERT[:200], articles_target[0][:200])\n",
        "\n",
        "pred_AB_DBERT = []\n",
        "for i in range(90):\n",
        "  pred_AB_DBERT.append(clf_AB_DBERT.predict([X_full_DBERT[i + 200]])[0])\n",
        "\n",
        "f_AB_DBERT = metrics.f1_score(articles_target[0][200:290], pred_AB_DBERT)"
      ],
      "metadata": {
        "id": "isNkMipqiXxV"
      },
      "execution_count": null,
      "outputs": []
    },
    {
      "cell_type": "markdown",
      "source": [
        "###LDA"
      ],
      "metadata": {
        "id": "jjk_UHlrihvk"
      }
    },
    {
      "cell_type": "code",
      "source": [
        "clf_AB_LDA = AdaBoostClassifier(n_estimators=100, algorithm=\"SAMME\")\n",
        "clf_AB_LDA.fit(X_full_LDA[:200], articles_target[0][:200])\n",
        "\n",
        "pred_AB_LDA = []\n",
        "for i in range(90):\n",
        "  pred_AB_LDA.append(clf_AB_LDA.predict([X_full_LDA[i + 200]])[0])\n",
        "\n",
        "f_AB_LDA = metrics.f1_score(articles_target[0][200:290], pred_AB_LDA)"
      ],
      "metadata": {
        "id": "Vtjpf1qDijhY"
      },
      "execution_count": null,
      "outputs": []
    },
    {
      "cell_type": "markdown",
      "source": [
        "##Multi-layer Perceptron"
      ],
      "metadata": {
        "id": "zArninuYi753"
      }
    },
    {
      "cell_type": "markdown",
      "source": [
        "###TF-IDF"
      ],
      "metadata": {
        "id": "-BtmiCrfjCKs"
      }
    },
    {
      "cell_type": "code",
      "source": [
        "from sklearn.neural_network import MLPClassifier\n",
        "\n",
        "clf_NN_TF = MLPClassifier(solver='lbfgs', hidden_layer_sizes=(50, 20), random_state=1)\n",
        "clf_NN_TF.fit(X_full_TF[:200].toarray(), articles_target[0][:200])\n",
        "\n",
        "pred_NN_TF = []\n",
        "for i in range(90):\n",
        "  pred_NN_TF.append(clf_NN_TF.predict(X_full_TF[i + 200].toarray())[0])\n",
        "\n",
        "f_NN_TF = metrics.f1_score(articles_target[0][200:290], pred_NN_TF)"
      ],
      "metadata": {
        "id": "f6iuTvHWjFBv"
      },
      "execution_count": null,
      "outputs": []
    },
    {
      "cell_type": "markdown",
      "source": [
        "###DistilBERT"
      ],
      "metadata": {
        "id": "BGHMmPaOjg6-"
      }
    },
    {
      "cell_type": "code",
      "source": [
        "clf_NN_DBERT = MLPClassifier(solver='lbfgs', hidden_layer_sizes=(50, 20), random_state=1)\n",
        "clf_NN_DBERT.fit(X_full_DBERT[:200], articles_target[0][:200])\n",
        "\n",
        "pred_NN_DBERT = []\n",
        "for i in range(90):\n",
        "  pred_NN_DBERT.append(clf_NN_DBERT.predict([X_full_DBERT[i + 200]])[0])\n",
        "\n",
        "f_NN_DBERT = metrics.f1_score(articles_target[0][200:290], pred_NN_DBERT)"
      ],
      "metadata": {
        "id": "uZBzBERVjkLI"
      },
      "execution_count": null,
      "outputs": []
    },
    {
      "cell_type": "markdown",
      "source": [
        "###LDA"
      ],
      "metadata": {
        "id": "xFFrY9AQj4fU"
      }
    },
    {
      "cell_type": "code",
      "source": [
        "clf_NN_LDA = MLPClassifier(solver='lbfgs', hidden_layer_sizes=(50, 20), random_state=1)\n",
        "clf_NN_LDA.fit(X_full_LDA[:200], articles_target[0][:200])\n",
        "\n",
        "pred_NN_LDA = []\n",
        "for i in range(90):\n",
        "  pred_NN_LDA.append(clf_NN_LDA.predict([X_full_LDA[i + 200]])[0])\n",
        "\n",
        "f_NN_LDA = metrics.f1_score(articles_target[0][200:290], pred_NN_LDA)"
      ],
      "metadata": {
        "id": "LyXhdK6ij6N4",
        "colab": {
          "base_uri": "https://localhost:8080/"
        },
        "outputId": "b1721f55-5911-4795-89e6-8b656844bd1a"
      },
      "execution_count": null,
      "outputs": [
        {
          "output_type": "stream",
          "name": "stderr",
          "text": [
            "/usr/local/lib/python3.10/dist-packages/sklearn/neural_network/_multilayer_perceptron.py:541: ConvergenceWarning: lbfgs failed to converge (status=1):\n",
            "STOP: TOTAL NO. of ITERATIONS REACHED LIMIT.\n",
            "\n",
            "Increase the number of iterations (max_iter) or scale the data as shown in:\n",
            "    https://scikit-learn.org/stable/modules/preprocessing.html\n",
            "  self.n_iter_ = _check_optimize_result(\"lbfgs\", opt_res, self.max_iter)\n"
          ]
        }
      ]
    },
    {
      "cell_type": "markdown",
      "source": [
        "#Итог"
      ],
      "metadata": {
        "id": "0sFq09QYlW6M"
      }
    },
    {
      "cell_type": "code",
      "source": [
        "kmeans_metrics = pd.DataFrame({\n",
        "    \"SVM\": [f_SVM_TF, f_SVM_DBERT, f_SVM_LDA],\n",
        "    \"Naive Bayes\": [f_NB_TF, f_NB_DBERT, f_NB_LDA],\n",
        "    \"Decision Trees\": [f_DT_TF, f_DT_DBERT, f_DT_LDA],\n",
        "    \"Random Forest\": [f_RF_TF, f_RF_DBERT, f_RF_LDA],\n",
        "    \"Ada Boost\": [f_AB_TF, f_AB_DBERT, f_AB_LDA],\n",
        "    \"Perceptron\": [f_NN_TF, f_NN_DBERT, f_NN_LDA]\n",
        "}, index=pd.Index([\"TF-IDF\", \"DistilBert\", \"LDA\"]))\n",
        "\n",
        "kmeans_metrics.style.set_table_styles([{'selector': 'td', 'props': [('font-size', '12pt'),('border-style','solid'),('border-width','1px')]},\n",
        "                                          {'selector': 'th', 'props': [('font-size', '12pt'),('border-style','solid'),('border-width','1px')]},\n",
        "                                          {'selector': 'caption', 'props': [('font-size', '24pt')]}]).set_caption(\"F1-score\")"
      ],
      "metadata": {
        "colab": {
          "base_uri": "https://localhost:8080/",
          "height": 203
        },
        "id": "VG-ADf3KlcCr",
        "outputId": "54a67c93-01ff-4808-ef50-8051cd338a13"
      },
      "execution_count": null,
      "outputs": [
        {
          "output_type": "execute_result",
          "data": {
            "text/plain": [
              "<pandas.io.formats.style.Styler at 0x791d7f8b8550>"
            ],
            "text/html": [
              "<style type=\"text/css\">\n",
              "#T_a79ee td {\n",
              "  font-size: 12pt;\n",
              "  border-style: solid;\n",
              "  border-width: 1px;\n",
              "}\n",
              "#T_a79ee th {\n",
              "  font-size: 12pt;\n",
              "  border-style: solid;\n",
              "  border-width: 1px;\n",
              "}\n",
              "#T_a79ee caption {\n",
              "  font-size: 24pt;\n",
              "}\n",
              "</style>\n",
              "<table id=\"T_a79ee\" class=\"dataframe\">\n",
              "  <caption>F1-score</caption>\n",
              "  <thead>\n",
              "    <tr>\n",
              "      <th class=\"blank level0\" >&nbsp;</th>\n",
              "      <th id=\"T_a79ee_level0_col0\" class=\"col_heading level0 col0\" >SVM</th>\n",
              "      <th id=\"T_a79ee_level0_col1\" class=\"col_heading level0 col1\" >Naive Bayes</th>\n",
              "      <th id=\"T_a79ee_level0_col2\" class=\"col_heading level0 col2\" >Decision Trees</th>\n",
              "      <th id=\"T_a79ee_level0_col3\" class=\"col_heading level0 col3\" >Random Forest</th>\n",
              "      <th id=\"T_a79ee_level0_col4\" class=\"col_heading level0 col4\" >Ada Boost</th>\n",
              "      <th id=\"T_a79ee_level0_col5\" class=\"col_heading level0 col5\" >Perceptron</th>\n",
              "    </tr>\n",
              "  </thead>\n",
              "  <tbody>\n",
              "    <tr>\n",
              "      <th id=\"T_a79ee_level0_row0\" class=\"row_heading level0 row0\" >TF-IDF</th>\n",
              "      <td id=\"T_a79ee_row0_col0\" class=\"data row0 col0\" >0.954545</td>\n",
              "      <td id=\"T_a79ee_row0_col1\" class=\"data row0 col1\" >0.901099</td>\n",
              "      <td id=\"T_a79ee_row0_col2\" class=\"data row0 col2\" >0.680000</td>\n",
              "      <td id=\"T_a79ee_row0_col3\" class=\"data row0 col3\" >0.767123</td>\n",
              "      <td id=\"T_a79ee_row0_col4\" class=\"data row0 col4\" >0.811321</td>\n",
              "      <td id=\"T_a79ee_row0_col5\" class=\"data row0 col5\" >0.914894</td>\n",
              "    </tr>\n",
              "    <tr>\n",
              "      <th id=\"T_a79ee_level0_row1\" class=\"row_heading level0 row1\" >DistilBert</th>\n",
              "      <td id=\"T_a79ee_row1_col0\" class=\"data row1 col0\" >1.000000</td>\n",
              "      <td id=\"T_a79ee_row1_col1\" class=\"data row1 col1\" >0.967033</td>\n",
              "      <td id=\"T_a79ee_row1_col2\" class=\"data row1 col2\" >0.857143</td>\n",
              "      <td id=\"T_a79ee_row1_col3\" class=\"data row1 col3\" >0.988764</td>\n",
              "      <td id=\"T_a79ee_row1_col4\" class=\"data row1 col4\" >0.977778</td>\n",
              "      <td id=\"T_a79ee_row1_col5\" class=\"data row1 col5\" >1.000000</td>\n",
              "    </tr>\n",
              "    <tr>\n",
              "      <th id=\"T_a79ee_level0_row2\" class=\"row_heading level0 row2\" >LDA</th>\n",
              "      <td id=\"T_a79ee_row2_col0\" class=\"data row2 col0\" >0.702128</td>\n",
              "      <td id=\"T_a79ee_row2_col1\" class=\"data row2 col1\" >0.687500</td>\n",
              "      <td id=\"T_a79ee_row2_col2\" class=\"data row2 col2\" >0.586957</td>\n",
              "      <td id=\"T_a79ee_row2_col3\" class=\"data row2 col3\" >0.791209</td>\n",
              "      <td id=\"T_a79ee_row2_col4\" class=\"data row2 col4\" >0.739130</td>\n",
              "      <td id=\"T_a79ee_row2_col5\" class=\"data row2 col5\" >0.740000</td>\n",
              "    </tr>\n",
              "  </tbody>\n",
              "</table>\n"
            ]
          },
          "metadata": {},
          "execution_count": 59
        }
      ]
    }
  ]
}